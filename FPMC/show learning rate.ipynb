{
 "cells": [
  {
   "cell_type": "code",
   "execution_count": 1,
   "metadata": {
    "collapsed": true
   },
   "outputs": [],
   "source": [
    "import numpy as np\n",
    "import matplotlib.pyplot as plt\n",
    "\n",
    "%matplotlib inline"
   ]
  },
  {
   "cell_type": "code",
   "execution_count": 2,
   "metadata": {
    "collapsed": true
   },
   "outputs": [],
   "source": [
    "def runningMeanFast(x, N):\n",
    "    return np.convolve(x, np.ones((N,))/N)[(N-1):]\n",
    "\n",
    "\n",
    "def getCurve(fName,n):\n",
    "    raw = np.loadtxt(fName,delimiter=',')\n",
    "    return np.convolve(raw[:,1], np.ones((n,))/n)[(n-1):] "
   ]
  },
  {
   "cell_type": "code",
   "execution_count": null,
   "metadata": {
    "collapsed": false
   },
   "outputs": [],
   "source": [
    "# скорость обучения 0.05. 5 случайных шагов в SGD\n",
    "rate1 = np.loadtxt('fullModel-12June2.csv',delimiter=',')\n",
    "rate1[:,1] = runningMeanFast(rate1[:,1],100)\n",
    "\n",
    "rate = getCurve('fullModel-12June3.csv')"
   ]
  },
  {
   "cell_type": "code",
   "execution_count": null,
   "metadata": {
    "collapsed": true
   },
   "outputs": [],
   "source": [
    "# скорость обучения 0.2. 1 случайный шаг в SGD\n",
    "rate2 = np.loadtxt('fullModel-12June3.csv',delimiter=',')\n",
    "rate2[:,1] = runningMeanFast(rate2[:,1],1000)"
   ]
  },
  {
   "cell_type": "code",
   "execution_count": null,
   "metadata": {
    "collapsed": false
   },
   "outputs": [],
   "source": [
    "rate = getCurve('fullModel-12June-v2.csv',5000)\n",
    "plt.figure(figsize = [18,7])\n",
    "plt.subplot(121)\n",
    "plt.plot(rate)\n",
    "plt.ylim([0.2, 0.3])\n",
    "#plt.xlim([5e4, len(rate)])\n",
    "plt.xlabel('Epoch')\n",
    "\n",
    "plt.subplot(122)\n",
    "plt.semilogx(rate)\n",
    "#plt.xlim([3e5, len(rate)])\n",
    "plt.ylim([0.2, 0.3])\n",
    "plt.xlabel('Epoch')"
   ]
  },
  {
   "cell_type": "markdown",
   "metadata": {},
   "source": [
    "Полноразмерная модель с 128 скрытыми измерениями (файл fullModel-12June.pcl). Начальная скорость 0.2, затухание 1e-8, количество случайных шагов в SGD = 1 (для каждого пользователя выбирается один случайных товар из одной случайной корзины и выполняется только один случайный шаг). Очевидно, что модель выходит на плато после выполнения 1.4 млн. эпох. А может быть и нет? Стоит подождать ещё. \n",
    "В любом случае, полученные результаты стоит сохранить.\n",
    "\n",
    "Что можно попробовать?\n",
    "\n",
    "Цель - научиться обучать модель максимально быстро. Для этого стоит попробовать обучение с большей начальной скорость. Например, замахнуться на 0.3. После того, как будут найдены оптимальная начальная скорость, следуется найти оптимальное затухание, далее - подобрать регуляризаторы и размерность скрытого пространства.\n"
   ]
  },
  {
   "cell_type": "markdown",
   "metadata": {},
   "source": [
    "- Протестировать полученную модель (общая процедура оценки качества полученных моделей);\n",
    "- попробовать уменьшить нормализационный фактор;\n",
    "- увеличить размерность скрытого пространства по пользователям\n",
    "    Количество скрытых измерений - 128, Пользователей: 206209 (/128 = 17184), продуктов 49688 (/12 = 4140). Может быть стоит увеличить количество скрытых измерений для пользователей."
   ]
  },
  {
   "cell_type": "markdown",
   "metadata": {
    "collapsed": true
   },
   "source": [
    "<u>13 июня</u>\n",
    "Начал обучение новой полноразормерной модели (файл fullModel-13June.pcl), 128 скрытых измерений. Начальная скорость обучения 0.2, затухание 1e-7, случайный выбор пользователей, по одному SGD шагу.\n",
    "\n",
    "Overflow после шага 36 000. Уменьшил скорость обучения до 0.1\n"
   ]
  },
  {
   "cell_type": "code",
   "execution_count": null,
   "metadata": {
    "collapsed": false
   },
   "outputs": [],
   "source": [
    "rate = getCurve('fullModel-13June.csv',1000)\n",
    "plt.figure(figsize = [18,7])\n",
    "plt.subplot(121)\n",
    "plt.plot(rate)\n",
    "plt.ylim([0.2, 0.55])\n",
    "#plt.xlim([5e4, len(rate)])\n",
    "plt.xlabel('Epoch')\n",
    "\n",
    "plt.subplot(122)\n",
    "plt.semilogx(rate)\n",
    "plt.xlim([1e3, len(rate)])\n",
    "plt.ylim([0.2, 0.55])\n",
    "plt.xlabel('Epoch')"
   ]
  },
  {
   "cell_type": "markdown",
   "metadata": {},
   "source": [
    "f1 мера FPMC модели составляет примерно половину от f1 меры базовой модели. Попробую улучшить качество, добавив скрытые измерения к пользователям.\n",
    "\n",
    "<u>Полноразмерная модель fullModel-13June-2.pcl </u> 512 измерений для пользователей, 128 измерений для продуктов. Начальная скорость 0.1, затухание 1e-7, нормализация 0.1"
   ]
  },
  {
   "cell_type": "code",
   "execution_count": null,
   "metadata": {
    "collapsed": false
   },
   "outputs": [],
   "source": [
    "rate = getCurve('fullModel-13June-2.csv',1000)\n",
    "plt.figure(figsize = [18,7])\n",
    "plt.subplot(121)\n",
    "plt.plot(rate)\n",
    "plt.ylim([0.15, 0.55])\n",
    "#plt.xlim([5e4, len(rate)])\n",
    "plt.xlabel('Epoch')\n",
    "\n",
    "plt.subplot(122)\n",
    "plt.semilogx(rate)\n",
    "plt.xlim([1e3, len(rate)])\n",
    "plt.ylim([0.15, 0.55])\n",
    "plt.xlabel('Epoch')"
   ]
  },
  {
   "cell_type": "code",
   "execution_count": null,
   "metadata": {
    "collapsed": true
   },
   "outputs": [],
   "source": [
    "FPMC score 87.806806\n",
    "Mean score 176.273566"
   ]
  },
  {
   "cell_type": "code",
   "execution_count": null,
   "metadata": {
    "collapsed": true
   },
   "outputs": [],
   "source": [
    "FPMC score 85.114338\n",
    "Mean score 176.273566"
   ]
  },
  {
   "cell_type": "code",
   "execution_count": null,
   "metadata": {
    "collapsed": false
   },
   "outputs": [],
   "source": [
    "3e6 epoch\n",
    "FPMC score 95.234229\n",
    "Mean score 176.273566"
   ]
  },
  {
   "cell_type": "code",
   "execution_count": null,
   "metadata": {
    "collapsed": false
   },
   "outputs": [],
   "source": [
    "FPMC score 92.393821\n",
    "Mean score 176.273566"
   ]
  },
  {
   "cell_type": "code",
   "execution_count": 3,
   "metadata": {
    "collapsed": false
   },
   "outputs": [
    {
     "data": {
      "text/plain": [
       "<matplotlib.text.Text at 0x794bb38>"
      ]
     },
     "execution_count": 3,
     "metadata": {},
     "output_type": "execute_result"
    },
    {
     "data": {
      "image/png": "[encoded data removed]",
      "text/plain": [
       "<matplotlib.figure.Figure at 0x5dbda90>"
      ]
     },
     "metadata": {},
     "output_type": "display_data"
    }
   ],
   "source": [
    "rate = getCurve('fullModel-13June-3.csv',1000)\n",
    "plt.figure(figsize = [18,7])\n",
    "plt.subplot(121)\n",
    "plt.plot(rate)\n",
    "plt.ylim([0.15, 0.55])\n",
    "#plt.xlim([5e4, len(rate)])\n",
    "plt.xlabel('Epoch')\n",
    "\n",
    "plt.subplot(122)\n",
    "plt.semilogx(rate)\n",
    "plt.xlim([1e3, len(rate)])\n",
    "plt.ylim([0.15, 0.55])\n",
    "plt.xlabel('Epoch')"
   ]
  },
  {
   "cell_type": "code",
   "execution_count": null,
   "metadata": {
    "collapsed": true
   },
   "outputs": [],
   "source": []
  }
 ],
 "metadata": {
  "kernelspec": {
   "display_name": "Python 2",
   "language": "python",
   "name": "python2"
  },
  "language_info": {
   "codemirror_mode": {
    "name": "ipython",
    "version": 2
   },
   "file_extension": ".py",
   "mimetype": "text/x-python",
   "name": "python",
   "nbconvert_exporter": "python",
   "pygments_lexer": "ipython2",
   "version": "2.7.13"
  }
 },
 "nbformat": 4,
 "nbformat_minor": 2
}
