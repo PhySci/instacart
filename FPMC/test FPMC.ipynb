{
 "cells": [
  {
   "cell_type": "code",
   "execution_count": 10,
   "metadata": {
    "collapsed": false
   },
   "outputs": [],
   "source": [
    "import pandas as pd\n",
    "import numpy as np\n",
    "import pickle\n",
    "from FPMC import FPMC as FM\n",
    "import dill\n",
    "import matplotlib.pyplot as plt\n",
    "from sklearn.metrics import roc_curve\n",
    "\n",
    "%matplotlib inline"
   ]
  },
  {
   "cell_type": "code",
   "execution_count": 11,
   "metadata": {
    "collapsed": false
   },
   "outputs": [],
   "source": [
    "fName = 'fullModel.pcl'\n",
    "userNumber = 206290 #- full set\n",
    "itemsNumber = 49688\n",
    "obj = FM(users=userNumber+1, items=itemsNumber+1, k=16)\n",
    "obj.load(fName)"
   ]
  },
  {
   "cell_type": "code",
   "execution_count": 48,
   "metadata": {
    "collapsed": true
   },
   "outputs": [],
   "source": [
    "# import products description\n",
    "products    =  pd.read_csv('../data/products.csv',index_col='product_id')"
   ]
  },
  {
   "cell_type": "code",
   "execution_count": 14,
   "metadata": {
    "collapsed": false
   },
   "outputs": [
    {
     "name": "stderr",
     "output_type": "stream",
     "text": [
      "/home/frodos/anaconda/lib/python2.7/site-packages/numpy/lib/arraysetops.py:395: FutureWarning: elementwise comparison failed; returning scalar instead, but in the future will perform elementwise comparison\n",
      "  mask |= (ar1 == a)\n"
     ]
    }
   ],
   "source": [
    "orders = pd.read_csv('../data/orders.csv',index_col = 'order_id',\n",
    "                     usecols = ['order_id','user_id','eval_set','order_number','days_since_prior_order'])\n",
    "\n",
    "usecols = ['order_id','product_id']\n",
    "items = pd.concat([pd.read_csv('../data/order_products__train.csv',usecols = usecols),\n",
    "                   pd.read_csv('../data/order_products__prior.csv',usecols = usecols)])"
   ]
  },
  {
   "cell_type": "code",
   "execution_count": 38,
   "metadata": {
    "collapsed": false
   },
   "outputs": [
    {
     "data": {
      "text/plain": [
       "[<matplotlib.lines.Line2D at 0x7fdab0c43850>]"
      ]
     },
     "execution_count": 38,
     "metadata": {},
     "output_type": "execute_result"
    },
    {
     "data": {
      "image/png": "[encoded data removed]",
      "text/plain": [
       "<matplotlib.figure.Figure at 0x7fdab0dd3c90>"
      ]
     },
     "metadata": {},
     "output_type": "display_data"
    }
   ],
   "source": [
    "obj.load(fName)\n",
    "obj.setNormalization(1)\n",
    "c = testModel(50)\n",
    "fpr, tpr, thresholds = c[1]\n",
    "plt.plot(fpr,tpr)"
   ]
  },
  {
   "cell_type": "code",
   "execution_count": 39,
   "metadata": {
    "collapsed": false
   },
   "outputs": [
    {
     "data": {
      "text/plain": [
       "[<matplotlib.lines.Line2D at 0x7fdab0bf2fd0>]"
      ]
     },
     "execution_count": 39,
     "metadata": {},
     "output_type": "execute_result"
    },
    {
     "data": {
      "image/png": "[encoded data removed]",
      "text/plain": [
       "<matplotlib.figure.Figure at 0x7fdaba96dc90>"
      ]
     },
     "metadata": {},
     "output_type": "display_data"
    }
   ],
   "source": [
    "obj.load(fName)\n",
    "obj.setNormalization(2)\n",
    "c = testModel(50)\n",
    "fpr, tpr, thresholds = c[1]\n",
    "plt.plot(fpr,tpr)"
   ]
  },
  {
   "cell_type": "code",
   "execution_count": 40,
   "metadata": {
    "collapsed": false
   },
   "outputs": [
    {
     "data": {
      "text/plain": [
       "[<matplotlib.lines.Line2D at 0x7fdab0b31890>]"
      ]
     },
     "execution_count": 40,
     "metadata": {},
     "output_type": "execute_result"
    },
    {
     "data": {
      "image/png": "[encoded data removed]",
      "text/plain": [
       "<matplotlib.figure.Figure at 0x7fdab0b98990>"
      ]
     },
     "metadata": {},
     "output_type": "display_data"
    }
   ],
   "source": [
    "obj.load(fName)\n",
    "obj.setNormalization(5)\n",
    "c = testModel(50)\n",
    "fpr, tpr, thresholds = c[1]\n",
    "plt.plot(fpr,tpr)"
   ]
  },
  {
   "cell_type": "code",
   "execution_count": 41,
   "metadata": {
    "collapsed": false
   },
   "outputs": [
    {
     "data": {
      "text/plain": [
       "[<matplotlib.lines.Line2D at 0x7fdab0a63ad0>]"
      ]
     },
     "execution_count": 41,
     "metadata": {},
     "output_type": "execute_result"
    },
    {
     "data": {
      "image/png": "[encoded data removed]",
      "text/plain": [
       "<matplotlib.figure.Figure at 0x7fdab0ae8690>"
      ]
     },
     "metadata": {},
     "output_type": "display_data"
    }
   ],
   "source": [
    "obj.load(fName)\n",
    "obj.setNormalization(0.1)\n",
    "c = testModel(50)\n",
    "fpr, tpr, thresholds = c[1]\n",
    "plt.plot(fpr,tpr)"
   ]
  },
  {
   "cell_type": "code",
   "execution_count": 49,
   "metadata": {
    "collapsed": false
   },
   "outputs": [
    {
     "name": "stdout",
     "output_type": "stream",
     "text": [
      "Load\n",
      "test\n",
      "Order id is 3131103\n",
      "Order id is 2197066\n",
      "Order id is 3201640\n",
      "Order id is 2756806\n",
      "Order id is 1905727\n",
      "Order id is 357849\n",
      "Order id is 1673791\n",
      "Order id is 1941871\n",
      "Order id is 1431607\n",
      "Order id is 935755\n",
      "Order id is 771250\n",
      "Order id is 218647\n",
      "Order id is 482971\n",
      "Order id is 1261865\n",
      "Order id is 2102570\n",
      "Order id is 1856643\n",
      "Order id is 2199859\n",
      "Order id is 505360\n",
      "Order id is 2829245\n",
      "Order id is 1077695\n",
      "Order id is 3067010\n",
      "Order id is 458687\n",
      "Order id is 536094\n",
      "Order id is 886814\n",
      "Order id is 1291785\n",
      "Order id is 1182191\n",
      "Order id is 2333885\n",
      "Order id is 3112215\n",
      "Order id is 3276486\n",
      "Order id is 2870447\n",
      "Order id is 623555\n",
      "Order id is 2443843\n",
      "Order id is 867561\n",
      "Order id is 2049647\n",
      "Order id is 2981401\n",
      "Order id is 2425696\n",
      "Order id is 1177903\n",
      "Order id is 2885215\n",
      "Order id is 3285176\n",
      "Order id is 1158241\n",
      "Order id is 131991\n",
      "Order id is 1237400\n",
      "Order id is 3014513\n",
      "Order id is 1368931\n",
      "Order id is 1076291\n",
      "Order id is 412136\n",
      "Order id is 1939933\n",
      "Order id is 3147929\n",
      "Order id is 2018336\n",
      "Order id is 1229178\n",
      "Order id is 3044151\n",
      "Order id is 3330597\n",
      "Order id is 642111\n",
      "Order id is 3205359\n",
      "Order id is 182020\n",
      "Order id is 636918\n",
      "Order id is 2670599\n",
      "Order id is 2236363\n",
      "Order id is 2757345\n",
      "Order id is 1915162\n",
      "Order id is 373535\n",
      "Order id is 3175017\n",
      "Order id is 309687\n",
      "Order id is 2740653\n",
      "Order id is 2107003\n",
      "Order id is 103726\n"
     ]
    },
    {
     "data": {
      "text/plain": [
       "[<matplotlib.lines.Line2D at 0x7fdae7fcdb90>]"
      ]
     },
     "execution_count": 49,
     "metadata": {},
     "output_type": "execute_result"
    },
    {
     "data": {
      "image/png": "[encoded data removed]",
      "text/plain": [
       "<matplotlib.figure.Figure at 0x7fdae7d7a290>"
      ]
     },
     "metadata": {},
     "output_type": "display_data"
    }
   ],
   "source": [
    "fName = 'fullModel.pcl'\n",
    "obj = FM()\n",
    "print 'Load'\n",
    "obj.load(fName)\n",
    "print 'test'\n",
    "c = testModel(50,verbose = True)\n",
    "fpr, tpr, thresholds = c[1]\n",
    "plt.plot(fpr,tpr)"
   ]
  },
  {
   "cell_type": "code",
   "execution_count": 52,
   "metadata": {
    "collapsed": false
   },
   "outputs": [],
   "source": [
    "d = c[0]"
   ]
  },
  {
   "cell_type": "code",
   "execution_count": 54,
   "metadata": {
    "collapsed": false
   },
   "outputs": [
    {
     "data": {
      "text/plain": [
       "array([<matplotlib.axes._subplots.AxesSubplot object at 0x7fdae7e73950>,\n",
       "       <matplotlib.axes._subplots.AxesSubplot object at 0x7fdae8119dd0>], dtype=object)"
      ]
     },
     "execution_count": 54,
     "metadata": {},
     "output_type": "execute_result"
    },
    {
     "data": {
      "image/png": "[encoded data removed]",
      "text/plain": [
       "<matplotlib.figure.Figure at 0x7fdae7ec3c50>"
      ]
     },
     "metadata": {},
     "output_type": "display_data"
    }
   ],
   "source": [
    "d.hist(column='prob',bins= 20,by='wasOrdered')"
   ]
  },
  {
   "cell_type": "code",
   "execution_count": 55,
   "metadata": {
    "collapsed": false
   },
   "outputs": [
    {
     "name": "stdout",
     "output_type": "stream",
     "text": [
      "test\n",
      "Order id is 1318871\n",
      "Order id is 1261384\n",
      "Order id is 2100631\n",
      "Order id is 580568\n",
      "Order id is 1680554\n",
      "Order id is 2428073\n",
      "Order id is 1551977\n",
      "Order id is 342306\n",
      "Order id is 1520353\n",
      "Order id is 2542086\n",
      "Order id is 944694\n",
      "Order id is 2906390\n",
      "Order id is 1838593\n",
      "Order id is 1268191\n",
      "Order id is 2331002\n",
      "Order id is 1122089\n",
      "Order id is 1498922\n",
      "Order id is 180919\n",
      "Order id is 3146572\n",
      "Order id is 2695875\n",
      "Order id is 1307894\n",
      "Order id is 1856103\n",
      "Order id is 1030102\n",
      "Order id is 3306717\n",
      "Order id is 2127348\n",
      "Order id is 1588305\n"
     ]
    },
    {
     "data": {
      "text/plain": [
       "[<matplotlib.lines.Line2D at 0x7fdae8166110>]"
      ]
     },
     "execution_count": 55,
     "metadata": {},
     "output_type": "execute_result"
    },
    {
     "data": {
      "image/png": "[encoded data removed]",
      "text/plain": [
       "<matplotlib.figure.Figure at 0x7fdae8075c50>"
      ]
     },
     "metadata": {},
     "output_type": "display_data"
    }
   ],
   "source": [
    "obj.load(fName)\n",
    "print 'test'\n",
    "c2 = testModel(52,verbose = True)\n",
    "fpr, tpr, thresholds = c2[1]\n",
    "plt.plot(fpr,tpr)"
   ]
  },
  {
   "cell_type": "code",
   "execution_count": 56,
   "metadata": {
    "collapsed": false
   },
   "outputs": [
    {
     "data": {
      "text/plain": [
       "array([<matplotlib.axes._subplots.AxesSubplot object at 0x7fdab0a8a790>,\n",
       "       <matplotlib.axes._subplots.AxesSubplot object at 0x7fdae71e1690>], dtype=object)"
      ]
     },
     "execution_count": 56,
     "metadata": {},
     "output_type": "execute_result"
    },
    {
     "data": {
      "image/png": "[encoded data removed]",
      "text/plain": [
       "<matplotlib.figure.Figure at 0x7fdae7faf990>"
      ]
     },
     "metadata": {},
     "output_type": "display_data"
    }
   ],
   "source": [
    "c2[0].hist(column='prob',bins= 20,by='wasOrdered')"
   ]
  },
  {
   "cell_type": "code",
   "execution_count": 58,
   "metadata": {
    "collapsed": false
   },
   "outputs": [
    {
     "name": "stdout",
     "output_type": "stream",
     "text": [
      "test\n",
      "Order id is 2398795\n",
      "Order id is 473747\n",
      "Order id is 2254736\n",
      "Order id is 431534\n",
      "Order id is 3367565\n",
      "Order id is 550135\n",
      "Order id is 3108588\n",
      "Order id is 2295261\n",
      "Order id is 2550362\n"
     ]
    },
    {
     "data": {
      "text/plain": [
       "array([<matplotlib.axes._subplots.AxesSubplot object at 0x7fdae6f85110>,\n",
       "       <matplotlib.axes._subplots.AxesSubplot object at 0x7fdae6eba410>], dtype=object)"
      ]
     },
     "execution_count": 58,
     "metadata": {},
     "output_type": "execute_result"
    },
    {
     "data": {
      "image/png": "[encoded data removed]",
      "text/plain": [
       "<matplotlib.figure.Figure at 0x7fdae7f7a510>"
      ]
     },
     "metadata": {},
     "output_type": "display_data"
    },
    {
     "data": {
      "image/png": "[encoded data removed]",
      "text/plain": [
       "<matplotlib.figure.Figure at 0x7fdae6f7a8d0>"
      ]
     },
     "metadata": {},
     "output_type": "display_data"
    }
   ],
   "source": [
    "obj.load(fName)\n",
    "print 'test'\n",
    "c3 = testModel(1,verbose = True)\n",
    "fpr, tpr, thresholds = c3[1]\n",
    "plt.plot(fpr,tpr)\n",
    "c3[0].hist(column='prob',bins= 20,by='wasOrdered')"
   ]
  },
  {
   "cell_type": "code",
   "execution_count": 59,
   "metadata": {
    "collapsed": false
   },
   "outputs": [
    {
     "name": "stdout",
     "output_type": "stream",
     "text": [
      "test\n",
      "Order id is 1501582\n",
      "Order id is 1901567\n",
      "Order id is 738281\n",
      "Order id is 1673511\n",
      "Order id is 1199898\n",
      "Order id is 3194192\n",
      "Order id is 788338\n",
      "Order id is 1718559\n",
      "Order id is 1447487\n",
      "Order id is 1402090\n",
      "Order id is 3186735\n",
      "Order id is 3268552\n",
      "Order id is 839880\n"
     ]
    },
    {
     "data": {
      "text/plain": [
       "array([<matplotlib.axes._subplots.AxesSubplot object at 0x7fdae6c32990>,\n",
       "       <matplotlib.axes._subplots.AxesSubplot object at 0x7fdae6bb7950>], dtype=object)"
      ]
     },
     "execution_count": 59,
     "metadata": {},
     "output_type": "execute_result"
    },
    {
     "data": {
      "image/png": "[encoded data removed]",
      "text/plain": [
       "<matplotlib.figure.Figure at 0x7fdae6ec9e90>"
      ]
     },
     "metadata": {},
     "output_type": "display_data"
    },
    {
     "data": {
      "image/png": "[encoded data removed]",
      "text/plain": [
       "<matplotlib.figure.Figure at 0x7fdae6c32190>"
      ]
     },
     "metadata": {},
     "output_type": "display_data"
    }
   ],
   "source": [
    "obj.load(fName)\n",
    "print 'test'\n",
    "c3 = testModel(2,verbose = True)\n",
    "fpr, tpr, thresholds = c3[1]\n",
    "plt.plot(fpr,tpr)\n",
    "c3[0].hist(column='prob',bins= 20,by='wasOrdered')"
   ]
  },
  {
   "cell_type": "code",
   "execution_count": 60,
   "metadata": {
    "collapsed": false
   },
   "outputs": [
    {
     "data": {
      "text/html": [
       "<div>\n",
       "<style>\n",
       "    .dataframe thead tr:only-child th {\n",
       "        text-align: right;\n",
       "    }\n",
       "\n",
       "    .dataframe thead th {\n",
       "        text-align: left;\n",
       "    }\n",
       "\n",
       "    .dataframe tbody tr th {\n",
       "        vertical-align: top;\n",
       "    }\n",
       "</style>\n",
       "<table border=\"1\" class=\"dataframe\">\n",
       "  <thead>\n",
       "    <tr style=\"text-align: right;\">\n",
       "      <th></th>\n",
       "      <th>order_id</th>\n",
       "      <th>product_id</th>\n",
       "      <th>product_name</th>\n",
       "      <th>prob</th>\n",
       "      <th>wasOrdered</th>\n",
       "    </tr>\n",
       "  </thead>\n",
       "  <tbody>\n",
       "    <tr>\n",
       "      <th>6992648</th>\n",
       "      <td>738281</td>\n",
       "      <td>49451</td>\n",
       "      <td>Artichoke Spinach Dip</td>\n",
       "      <td>0.087386</td>\n",
       "      <td>False</td>\n",
       "    </tr>\n",
       "    <tr>\n",
       "      <th>16288994</th>\n",
       "      <td>1718559</td>\n",
       "      <td>15841</td>\n",
       "      <td>Organic Dark Chocolate Almond &amp; Sea Salt Trail...</td>\n",
       "      <td>-0.397654</td>\n",
       "      <td>False</td>\n",
       "    </tr>\n",
       "    <tr>\n",
       "      <th>16288993</th>\n",
       "      <td>1718559</td>\n",
       "      <td>18961</td>\n",
       "      <td>Organic Dark Chocolate Pomegranate Trail Mix Bar</td>\n",
       "      <td>-0.297815</td>\n",
       "      <td>False</td>\n",
       "    </tr>\n",
       "    <tr>\n",
       "      <th>16288992</th>\n",
       "      <td>1718559</td>\n",
       "      <td>13742</td>\n",
       "      <td>Organic Coconut Almond Peanut</td>\n",
       "      <td>0.010775</td>\n",
       "      <td>False</td>\n",
       "    </tr>\n",
       "    <tr>\n",
       "      <th>15860405</th>\n",
       "      <td>1673511</td>\n",
       "      <td>47553</td>\n",
       "      <td>Sugarfree Peppermint Chewing Gum</td>\n",
       "      <td>0.000403</td>\n",
       "      <td>False</td>\n",
       "    </tr>\n",
       "    <tr>\n",
       "      <th>15860404</th>\n",
       "      <td>1673511</td>\n",
       "      <td>14553</td>\n",
       "      <td>Oats &amp; Honey Granola</td>\n",
       "      <td>-0.116225</td>\n",
       "      <td>False</td>\n",
       "    </tr>\n",
       "    <tr>\n",
       "      <th>15860403</th>\n",
       "      <td>1673511</td>\n",
       "      <td>5907</td>\n",
       "      <td>Apple Cinnamon Fig Bar</td>\n",
       "      <td>0.135081</td>\n",
       "      <td>False</td>\n",
       "    </tr>\n",
       "    <tr>\n",
       "      <th>15860402</th>\n",
       "      <td>1673511</td>\n",
       "      <td>48210</td>\n",
       "      <td>Whole Wheat Blueberry Fig Bars</td>\n",
       "      <td>-0.177204</td>\n",
       "      <td>False</td>\n",
       "    </tr>\n",
       "    <tr>\n",
       "      <th>15860401</th>\n",
       "      <td>1673511</td>\n",
       "      <td>21376</td>\n",
       "      <td>Pretzel Crisps Original Deli Style Pretzel Cra...</td>\n",
       "      <td>0.227570</td>\n",
       "      <td>False</td>\n",
       "    </tr>\n",
       "    <tr>\n",
       "      <th>15860400</th>\n",
       "      <td>1673511</td>\n",
       "      <td>38656</td>\n",
       "      <td>Gluten Free Peanut Butter Dark Chocolate Chewy...</td>\n",
       "      <td>-0.007739</td>\n",
       "      <td>False</td>\n",
       "    </tr>\n",
       "    <tr>\n",
       "      <th>15860399</th>\n",
       "      <td>1673511</td>\n",
       "      <td>17224</td>\n",
       "      <td>Oats &amp; Honey Gluten Free Granola</td>\n",
       "      <td>-0.099483</td>\n",
       "      <td>False</td>\n",
       "    </tr>\n",
       "    <tr>\n",
       "      <th>15860398</th>\n",
       "      <td>1673511</td>\n",
       "      <td>5322</td>\n",
       "      <td>Gluten Free Dark Chocolate Chunk Chewy with a ...</td>\n",
       "      <td>0.108361</td>\n",
       "      <td>False</td>\n",
       "    </tr>\n",
       "    <tr>\n",
       "      <th>15860397</th>\n",
       "      <td>1673511</td>\n",
       "      <td>47144</td>\n",
       "      <td>Unsweetened Original Almond Breeze Almond Milk</td>\n",
       "      <td>0.381769</td>\n",
       "      <td>False</td>\n",
       "    </tr>\n",
       "    <tr>\n",
       "      <th>14228911</th>\n",
       "      <td>1501582</td>\n",
       "      <td>8138</td>\n",
       "      <td>Traditional Hummus</td>\n",
       "      <td>-0.123183</td>\n",
       "      <td>False</td>\n",
       "    </tr>\n",
       "    <tr>\n",
       "      <th>14228909</th>\n",
       "      <td>1501582</td>\n",
       "      <td>47766</td>\n",
       "      <td>Organic Avocado</td>\n",
       "      <td>0.077168</td>\n",
       "      <td>False</td>\n",
       "    </tr>\n",
       "    <tr>\n",
       "      <th>14228908</th>\n",
       "      <td>1501582</td>\n",
       "      <td>8479</td>\n",
       "      <td>Original Black Box Tablewater Cracker</td>\n",
       "      <td>0.136942</td>\n",
       "      <td>False</td>\n",
       "    </tr>\n",
       "    <tr>\n",
       "      <th>14228907</th>\n",
       "      <td>1501582</td>\n",
       "      <td>47526</td>\n",
       "      <td>Goat Cheese Log</td>\n",
       "      <td>0.143601</td>\n",
       "      <td>False</td>\n",
       "    </tr>\n",
       "    <tr>\n",
       "      <th>14228906</th>\n",
       "      <td>1501582</td>\n",
       "      <td>16797</td>\n",
       "      <td>Strawberries</td>\n",
       "      <td>-0.433249</td>\n",
       "      <td>False</td>\n",
       "    </tr>\n",
       "    <tr>\n",
       "      <th>13285722</th>\n",
       "      <td>1402090</td>\n",
       "      <td>21227</td>\n",
       "      <td>Smart Dogs Veggie Hot Dogs</td>\n",
       "      <td>-0.001400</td>\n",
       "      <td>False</td>\n",
       "    </tr>\n",
       "    <tr>\n",
       "      <th>13285719</th>\n",
       "      <td>1402090</td>\n",
       "      <td>8296</td>\n",
       "      <td>OG Sesame Tamari Rice Cake Organic Rice Cakes</td>\n",
       "      <td>0.008110</td>\n",
       "      <td>False</td>\n",
       "    </tr>\n",
       "    <tr>\n",
       "      <th>13285716</th>\n",
       "      <td>1402090</td>\n",
       "      <td>22474</td>\n",
       "      <td>Cheddar Bunnies Snack Crackers</td>\n",
       "      <td>0.230048</td>\n",
       "      <td>False</td>\n",
       "    </tr>\n",
       "    <tr>\n",
       "      <th>13285714</th>\n",
       "      <td>1402090</td>\n",
       "      <td>22124</td>\n",
       "      <td>Total 0% Raspberry Yogurt</td>\n",
       "      <td>0.381333</td>\n",
       "      <td>False</td>\n",
       "    </tr>\n",
       "    <tr>\n",
       "      <th>16288999</th>\n",
       "      <td>1718559</td>\n",
       "      <td>13351</td>\n",
       "      <td>Total 0% Peach Yogurt</td>\n",
       "      <td>0.007312</td>\n",
       "      <td>False</td>\n",
       "    </tr>\n",
       "    <tr>\n",
       "      <th>30987481</th>\n",
       "      <td>3268552</td>\n",
       "      <td>19057</td>\n",
       "      <td>Organic Large Extra Fancy Fuji Apple</td>\n",
       "      <td>-0.186475</td>\n",
       "      <td>False</td>\n",
       "    </tr>\n",
       "    <tr>\n",
       "      <th>16289004</th>\n",
       "      <td>1718559</td>\n",
       "      <td>48099</td>\n",
       "      <td>Truffle Parmesan Macaroni &amp; Cheese Bowl</td>\n",
       "      <td>0.135921</td>\n",
       "      <td>False</td>\n",
       "    </tr>\n",
       "    <tr>\n",
       "      <th>16289006</th>\n",
       "      <td>1718559</td>\n",
       "      <td>47792</td>\n",
       "      <td>Organic Beans &amp; Rice Cheddar Cheese Burrito</td>\n",
       "      <td>0.057626</td>\n",
       "      <td>False</td>\n",
       "    </tr>\n",
       "    <tr>\n",
       "      <th>30987480</th>\n",
       "      <td>3268552</td>\n",
       "      <td>39877</td>\n",
       "      <td>Organic Granny Smith Apple</td>\n",
       "      <td>-0.077874</td>\n",
       "      <td>False</td>\n",
       "    </tr>\n",
       "    <tr>\n",
       "      <th>30987479</th>\n",
       "      <td>3268552</td>\n",
       "      <td>16521</td>\n",
       "      <td>Walnut Halves &amp; Pieces</td>\n",
       "      <td>0.161756</td>\n",
       "      <td>False</td>\n",
       "    </tr>\n",
       "    <tr>\n",
       "      <th>30987478</th>\n",
       "      <td>3268552</td>\n",
       "      <td>44303</td>\n",
       "      <td>Organic Shredded Unsweetened Coconut</td>\n",
       "      <td>-0.051315</td>\n",
       "      <td>False</td>\n",
       "    </tr>\n",
       "    <tr>\n",
       "      <th>30987477</th>\n",
       "      <td>3268552</td>\n",
       "      <td>5869</td>\n",
       "      <td>Unsweetened Carob Chips</td>\n",
       "      <td>-0.149049</td>\n",
       "      <td>False</td>\n",
       "    </tr>\n",
       "    <tr>\n",
       "      <th>...</th>\n",
       "      <td>...</td>\n",
       "      <td>...</td>\n",
       "      <td>...</td>\n",
       "      <td>...</td>\n",
       "      <td>...</td>\n",
       "    </tr>\n",
       "    <tr>\n",
       "      <th>7955641</th>\n",
       "      <td>839880</td>\n",
       "      <td>20785</td>\n",
       "      <td>Extra Sharp Aged Cheddar Cheese slices</td>\n",
       "      <td>0.163759</td>\n",
       "      <td>False</td>\n",
       "    </tr>\n",
       "    <tr>\n",
       "      <th>11365703</th>\n",
       "      <td>1199898</td>\n",
       "      <td>4957</td>\n",
       "      <td>Total 2% Lowfat Greek Strained Yogurt With Blu...</td>\n",
       "      <td>0.081333</td>\n",
       "      <td>False</td>\n",
       "    </tr>\n",
       "    <tr>\n",
       "      <th>11365702</th>\n",
       "      <td>1199898</td>\n",
       "      <td>24954</td>\n",
       "      <td>Total 0% with Honey Nonfat Greek Strained Yogurt</td>\n",
       "      <td>0.245823</td>\n",
       "      <td>False</td>\n",
       "    </tr>\n",
       "    <tr>\n",
       "      <th>11365700</th>\n",
       "      <td>1199898</td>\n",
       "      <td>17872</td>\n",
       "      <td>Total 2% Lowfat Plain Greek Yogurt</td>\n",
       "      <td>-0.061892</td>\n",
       "      <td>False</td>\n",
       "    </tr>\n",
       "    <tr>\n",
       "      <th>11365698</th>\n",
       "      <td>1199898</td>\n",
       "      <td>46676</td>\n",
       "      <td>Total 0% Nonfat Greek Yogurt</td>\n",
       "      <td>0.009938</td>\n",
       "      <td>False</td>\n",
       "    </tr>\n",
       "    <tr>\n",
       "      <th>11365695</th>\n",
       "      <td>1199898</td>\n",
       "      <td>27966</td>\n",
       "      <td>Organic Raspberries</td>\n",
       "      <td>0.174813</td>\n",
       "      <td>False</td>\n",
       "    </tr>\n",
       "    <tr>\n",
       "      <th>11365692</th>\n",
       "      <td>1199898</td>\n",
       "      <td>27344</td>\n",
       "      <td>Uncured Genoa Salami</td>\n",
       "      <td>-0.096819</td>\n",
       "      <td>False</td>\n",
       "    </tr>\n",
       "    <tr>\n",
       "      <th>11365688</th>\n",
       "      <td>1199898</td>\n",
       "      <td>12000</td>\n",
       "      <td>Baked Organic Sea Salt Crunchy Pea Snack</td>\n",
       "      <td>-0.129689</td>\n",
       "      <td>False</td>\n",
       "    </tr>\n",
       "    <tr>\n",
       "      <th>7955642</th>\n",
       "      <td>839880</td>\n",
       "      <td>24768</td>\n",
       "      <td>All Natural Honey Almond Butter</td>\n",
       "      <td>0.160807</td>\n",
       "      <td>False</td>\n",
       "    </tr>\n",
       "    <tr>\n",
       "      <th>7955631</th>\n",
       "      <td>839880</td>\n",
       "      <td>19156</td>\n",
       "      <td>Fat Free Blueberry Yogurt</td>\n",
       "      <td>0.219391</td>\n",
       "      <td>False</td>\n",
       "    </tr>\n",
       "    <tr>\n",
       "      <th>7955640</th>\n",
       "      <td>839880</td>\n",
       "      <td>39928</td>\n",
       "      <td>Organic Kiwi</td>\n",
       "      <td>0.076857</td>\n",
       "      <td>False</td>\n",
       "    </tr>\n",
       "    <tr>\n",
       "      <th>7955639</th>\n",
       "      <td>839880</td>\n",
       "      <td>2573</td>\n",
       "      <td>Garlic Pepper Ramen</td>\n",
       "      <td>-0.005915</td>\n",
       "      <td>False</td>\n",
       "    </tr>\n",
       "    <tr>\n",
       "      <th>30987482</th>\n",
       "      <td>3268552</td>\n",
       "      <td>45948</td>\n",
       "      <td>Gluten Free 7 Grain Bread</td>\n",
       "      <td>0.198021</td>\n",
       "      <td>False</td>\n",
       "    </tr>\n",
       "    <tr>\n",
       "      <th>7955636</th>\n",
       "      <td>839880</td>\n",
       "      <td>21709</td>\n",
       "      <td>Sparkling Lemon Water</td>\n",
       "      <td>0.132662</td>\n",
       "      <td>False</td>\n",
       "    </tr>\n",
       "    <tr>\n",
       "      <th>7955635</th>\n",
       "      <td>839880</td>\n",
       "      <td>33754</td>\n",
       "      <td>Total 2% with Strawberry Lowfat Greek Strained...</td>\n",
       "      <td>0.044281</td>\n",
       "      <td>False</td>\n",
       "    </tr>\n",
       "    <tr>\n",
       "      <th>7955632</th>\n",
       "      <td>839880</td>\n",
       "      <td>18523</td>\n",
       "      <td>Total 2% All Natural Greek Strained Yogurt wit...</td>\n",
       "      <td>0.214971</td>\n",
       "      <td>False</td>\n",
       "    </tr>\n",
       "    <tr>\n",
       "      <th>7955634</th>\n",
       "      <td>839880</td>\n",
       "      <td>27413</td>\n",
       "      <td>100% Mighty Mango Juice Smoothie</td>\n",
       "      <td>0.205254</td>\n",
       "      <td>False</td>\n",
       "    </tr>\n",
       "    <tr>\n",
       "      <th>7955638</th>\n",
       "      <td>839880</td>\n",
       "      <td>7781</td>\n",
       "      <td>Organic Sticks Low Moisture Part Skim Mozzarel...</td>\n",
       "      <td>0.286808</td>\n",
       "      <td>False</td>\n",
       "    </tr>\n",
       "    <tr>\n",
       "      <th>6992649</th>\n",
       "      <td>738281</td>\n",
       "      <td>32792</td>\n",
       "      <td>Chipotle Beef &amp; Pork Realstick</td>\n",
       "      <td>0.198401</td>\n",
       "      <td>True</td>\n",
       "    </tr>\n",
       "    <tr>\n",
       "      <th>16289002</th>\n",
       "      <td>1718559</td>\n",
       "      <td>5450</td>\n",
       "      <td>Small Hass Avocado</td>\n",
       "      <td>-0.192579</td>\n",
       "      <td>True</td>\n",
       "    </tr>\n",
       "    <tr>\n",
       "      <th>11365705</th>\n",
       "      <td>1199898</td>\n",
       "      <td>41787</td>\n",
       "      <td>Bartlett Pears</td>\n",
       "      <td>0.335155</td>\n",
       "      <td>True</td>\n",
       "    </tr>\n",
       "    <tr>\n",
       "      <th>7955633</th>\n",
       "      <td>839880</td>\n",
       "      <td>22825</td>\n",
       "      <td>Organic D'Anjou Pears</td>\n",
       "      <td>0.150185</td>\n",
       "      <td>True</td>\n",
       "    </tr>\n",
       "    <tr>\n",
       "      <th>6992655</th>\n",
       "      <td>738281</td>\n",
       "      <td>24852</td>\n",
       "      <td>Banana</td>\n",
       "      <td>0.250414</td>\n",
       "      <td>True</td>\n",
       "    </tr>\n",
       "    <tr>\n",
       "      <th>16289009</th>\n",
       "      <td>1718559</td>\n",
       "      <td>22559</td>\n",
       "      <td>Kitchen Cheese Enchilada</td>\n",
       "      <td>-0.176726</td>\n",
       "      <td>True</td>\n",
       "    </tr>\n",
       "    <tr>\n",
       "      <th>6992658</th>\n",
       "      <td>738281</td>\n",
       "      <td>45613</td>\n",
       "      <td>Pad Thai</td>\n",
       "      <td>0.010796</td>\n",
       "      <td>True</td>\n",
       "    </tr>\n",
       "    <tr>\n",
       "      <th>16289010</th>\n",
       "      <td>1718559</td>\n",
       "      <td>33957</td>\n",
       "      <td>Mexican Casserole Bowl</td>\n",
       "      <td>-0.076030</td>\n",
       "      <td>True</td>\n",
       "    </tr>\n",
       "    <tr>\n",
       "      <th>7955643</th>\n",
       "      <td>839880</td>\n",
       "      <td>7963</td>\n",
       "      <td>Gluten Free Whole Grain Bread</td>\n",
       "      <td>0.698681</td>\n",
       "      <td>True</td>\n",
       "    </tr>\n",
       "    <tr>\n",
       "      <th>7468166</th>\n",
       "      <td>788338</td>\n",
       "      <td>22963</td>\n",
       "      <td>Organic Roasted Turkey Breast</td>\n",
       "      <td>-0.028311</td>\n",
       "      <td>True</td>\n",
       "    </tr>\n",
       "    <tr>\n",
       "      <th>11365694</th>\n",
       "      <td>1199898</td>\n",
       "      <td>45066</td>\n",
       "      <td>Honeycrisp Apple</td>\n",
       "      <td>0.254119</td>\n",
       "      <td>True</td>\n",
       "    </tr>\n",
       "    <tr>\n",
       "      <th>7955629</th>\n",
       "      <td>839880</td>\n",
       "      <td>16589</td>\n",
       "      <td>Plantain Chips</td>\n",
       "      <td>-0.012898</td>\n",
       "      <td>True</td>\n",
       "    </tr>\n",
       "  </tbody>\n",
       "</table>\n",
       "<p>102 rows × 5 columns</p>\n",
       "</div>"
      ],
      "text/plain": [
       "          order_id  product_id  \\\n",
       "6992648     738281       49451   \n",
       "16288994   1718559       15841   \n",
       "16288993   1718559       18961   \n",
       "16288992   1718559       13742   \n",
       "15860405   1673511       47553   \n",
       "15860404   1673511       14553   \n",
       "15860403   1673511        5907   \n",
       "15860402   1673511       48210   \n",
       "15860401   1673511       21376   \n",
       "15860400   1673511       38656   \n",
       "15860399   1673511       17224   \n",
       "15860398   1673511        5322   \n",
       "15860397   1673511       47144   \n",
       "14228911   1501582        8138   \n",
       "14228909   1501582       47766   \n",
       "14228908   1501582        8479   \n",
       "14228907   1501582       47526   \n",
       "14228906   1501582       16797   \n",
       "13285722   1402090       21227   \n",
       "13285719   1402090        8296   \n",
       "13285716   1402090       22474   \n",
       "13285714   1402090       22124   \n",
       "16288999   1718559       13351   \n",
       "30987481   3268552       19057   \n",
       "16289004   1718559       48099   \n",
       "16289006   1718559       47792   \n",
       "30987480   3268552       39877   \n",
       "30987479   3268552       16521   \n",
       "30987478   3268552       44303   \n",
       "30987477   3268552        5869   \n",
       "...            ...         ...   \n",
       "7955641     839880       20785   \n",
       "11365703   1199898        4957   \n",
       "11365702   1199898       24954   \n",
       "11365700   1199898       17872   \n",
       "11365698   1199898       46676   \n",
       "11365695   1199898       27966   \n",
       "11365692   1199898       27344   \n",
       "11365688   1199898       12000   \n",
       "7955642     839880       24768   \n",
       "7955631     839880       19156   \n",
       "7955640     839880       39928   \n",
       "7955639     839880        2573   \n",
       "30987482   3268552       45948   \n",
       "7955636     839880       21709   \n",
       "7955635     839880       33754   \n",
       "7955632     839880       18523   \n",
       "7955634     839880       27413   \n",
       "7955638     839880        7781   \n",
       "6992649     738281       32792   \n",
       "16289002   1718559        5450   \n",
       "11365705   1199898       41787   \n",
       "7955633     839880       22825   \n",
       "6992655     738281       24852   \n",
       "16289009   1718559       22559   \n",
       "6992658     738281       45613   \n",
       "16289010   1718559       33957   \n",
       "7955643     839880        7963   \n",
       "7468166     788338       22963   \n",
       "11365694   1199898       45066   \n",
       "7955629     839880       16589   \n",
       "\n",
       "                                               product_name      prob  \\\n",
       "6992648                               Artichoke Spinach Dip  0.087386   \n",
       "16288994  Organic Dark Chocolate Almond & Sea Salt Trail... -0.397654   \n",
       "16288993   Organic Dark Chocolate Pomegranate Trail Mix Bar -0.297815   \n",
       "16288992                      Organic Coconut Almond Peanut  0.010775   \n",
       "15860405                   Sugarfree Peppermint Chewing Gum  0.000403   \n",
       "15860404                               Oats & Honey Granola -0.116225   \n",
       "15860403                             Apple Cinnamon Fig Bar  0.135081   \n",
       "15860402                     Whole Wheat Blueberry Fig Bars -0.177204   \n",
       "15860401  Pretzel Crisps Original Deli Style Pretzel Cra...  0.227570   \n",
       "15860400  Gluten Free Peanut Butter Dark Chocolate Chewy... -0.007739   \n",
       "15860399                   Oats & Honey Gluten Free Granola -0.099483   \n",
       "15860398  Gluten Free Dark Chocolate Chunk Chewy with a ...  0.108361   \n",
       "15860397     Unsweetened Original Almond Breeze Almond Milk  0.381769   \n",
       "14228911                                 Traditional Hummus -0.123183   \n",
       "14228909                                    Organic Avocado  0.077168   \n",
       "14228908              Original Black Box Tablewater Cracker  0.136942   \n",
       "14228907                                    Goat Cheese Log  0.143601   \n",
       "14228906                                       Strawberries -0.433249   \n",
       "13285722                         Smart Dogs Veggie Hot Dogs -0.001400   \n",
       "13285719      OG Sesame Tamari Rice Cake Organic Rice Cakes  0.008110   \n",
       "13285716                     Cheddar Bunnies Snack Crackers  0.230048   \n",
       "13285714                          Total 0% Raspberry Yogurt  0.381333   \n",
       "16288999                              Total 0% Peach Yogurt  0.007312   \n",
       "30987481               Organic Large Extra Fancy Fuji Apple -0.186475   \n",
       "16289004            Truffle Parmesan Macaroni & Cheese Bowl  0.135921   \n",
       "16289006        Organic Beans & Rice Cheddar Cheese Burrito  0.057626   \n",
       "30987480                         Organic Granny Smith Apple -0.077874   \n",
       "30987479                             Walnut Halves & Pieces  0.161756   \n",
       "30987478               Organic Shredded Unsweetened Coconut -0.051315   \n",
       "30987477                            Unsweetened Carob Chips -0.149049   \n",
       "...                                                     ...       ...   \n",
       "7955641              Extra Sharp Aged Cheddar Cheese slices  0.163759   \n",
       "11365703  Total 2% Lowfat Greek Strained Yogurt With Blu...  0.081333   \n",
       "11365702   Total 0% with Honey Nonfat Greek Strained Yogurt  0.245823   \n",
       "11365700                 Total 2% Lowfat Plain Greek Yogurt -0.061892   \n",
       "11365698                       Total 0% Nonfat Greek Yogurt  0.009938   \n",
       "11365695                                Organic Raspberries  0.174813   \n",
       "11365692                               Uncured Genoa Salami -0.096819   \n",
       "11365688           Baked Organic Sea Salt Crunchy Pea Snack -0.129689   \n",
       "7955642                     All Natural Honey Almond Butter  0.160807   \n",
       "7955631                           Fat Free Blueberry Yogurt  0.219391   \n",
       "7955640                                        Organic Kiwi  0.076857   \n",
       "7955639                                 Garlic Pepper Ramen -0.005915   \n",
       "30987482                          Gluten Free 7 Grain Bread  0.198021   \n",
       "7955636                               Sparkling Lemon Water  0.132662   \n",
       "7955635   Total 2% with Strawberry Lowfat Greek Strained...  0.044281   \n",
       "7955632   Total 2% All Natural Greek Strained Yogurt wit...  0.214971   \n",
       "7955634                    100% Mighty Mango Juice Smoothie  0.205254   \n",
       "7955638   Organic Sticks Low Moisture Part Skim Mozzarel...  0.286808   \n",
       "6992649                      Chipotle Beef & Pork Realstick  0.198401   \n",
       "16289002                                 Small Hass Avocado -0.192579   \n",
       "11365705                                     Bartlett Pears  0.335155   \n",
       "7955633                               Organic D'Anjou Pears  0.150185   \n",
       "6992655                                              Banana  0.250414   \n",
       "16289009                           Kitchen Cheese Enchilada -0.176726   \n",
       "6992658                                            Pad Thai  0.010796   \n",
       "16289010                             Mexican Casserole Bowl -0.076030   \n",
       "7955643                       Gluten Free Whole Grain Bread  0.698681   \n",
       "7468166                       Organic Roasted Turkey Breast -0.028311   \n",
       "11365694                                   Honeycrisp Apple  0.254119   \n",
       "7955629                                      Plantain Chips -0.012898   \n",
       "\n",
       "         wasOrdered  \n",
       "6992648       False  \n",
       "16288994      False  \n",
       "16288993      False  \n",
       "16288992      False  \n",
       "15860405      False  \n",
       "15860404      False  \n",
       "15860403      False  \n",
       "15860402      False  \n",
       "15860401      False  \n",
       "15860400      False  \n",
       "15860399      False  \n",
       "15860398      False  \n",
       "15860397      False  \n",
       "14228911      False  \n",
       "14228909      False  \n",
       "14228908      False  \n",
       "14228907      False  \n",
       "14228906      False  \n",
       "13285722      False  \n",
       "13285719      False  \n",
       "13285716      False  \n",
       "13285714      False  \n",
       "16288999      False  \n",
       "30987481      False  \n",
       "16289004      False  \n",
       "16289006      False  \n",
       "30987480      False  \n",
       "30987479      False  \n",
       "30987478      False  \n",
       "30987477      False  \n",
       "...             ...  \n",
       "7955641       False  \n",
       "11365703      False  \n",
       "11365702      False  \n",
       "11365700      False  \n",
       "11365698      False  \n",
       "11365695      False  \n",
       "11365692      False  \n",
       "11365688      False  \n",
       "7955642       False  \n",
       "7955631       False  \n",
       "7955640       False  \n",
       "7955639       False  \n",
       "30987482      False  \n",
       "7955636       False  \n",
       "7955635       False  \n",
       "7955632       False  \n",
       "7955634       False  \n",
       "7955638       False  \n",
       "6992649        True  \n",
       "16289002       True  \n",
       "11365705       True  \n",
       "7955633        True  \n",
       "6992655        True  \n",
       "16289009       True  \n",
       "6992658        True  \n",
       "16289010       True  \n",
       "7955643        True  \n",
       "7468166        True  \n",
       "11365694       True  \n",
       "7955629        True  \n",
       "\n",
       "[102 rows x 5 columns]"
      ]
     },
     "execution_count": 60,
     "metadata": {},
     "output_type": "execute_result"
    }
   ],
   "source": [
    "c3[0]"
   ]
  },
  {
   "cell_type": "code",
   "execution_count": 64,
   "metadata": {
    "collapsed": false
   },
   "outputs": [
    {
     "name": "stdout",
     "output_type": "stream",
     "text": [
      "test\n",
      "Order id is 2402008\n",
      "Order id is 121053\n",
      "Order id is 1695742\n",
      "Order id is 3321109\n",
      "Order id is 1682003\n",
      "Order id is 1014379\n",
      "Order id is 776265\n",
      "Order id is 2507052\n",
      "Order id is 1396119\n",
      "Order id is 565870\n",
      "Order id is 3239072\n",
      "Order id is 1175028\n",
      "Order id is 3060817\n",
      "Order id is 3120740\n",
      "Order id is 2425840\n",
      "Order id is 23391\n",
      "Order id is 2984707\n",
      "Order id is 369015\n",
      "Order id is 2452257\n"
     ]
    },
    {
     "data": {
      "text/plain": [
       "array([<matplotlib.axes._subplots.AxesSubplot object at 0x7fdae673ff90>,\n",
       "       <matplotlib.axes._subplots.AxesSubplot object at 0x7fdae66f7950>], dtype=object)"
      ]
     },
     "execution_count": 64,
     "metadata": {},
     "output_type": "execute_result"
    },
    {
     "data": {
      "image/png": "[encoded data removed]",
      "text/plain": [
       "<matplotlib.figure.Figure at 0x7fdae68fde10>"
      ]
     },
     "metadata": {},
     "output_type": "display_data"
    },
    {
     "data": {
      "image/png": "[encoded data removed]",
      "text/plain": [
       "<matplotlib.figure.Figure at 0x7fdae673f790>"
      ]
     },
     "metadata": {},
     "output_type": "display_data"
    }
   ],
   "source": [
    "obj.load(fName)\n",
    "print 'test'\n",
    "c4 = testModel(7,verbose = True)\n",
    "fpr, tpr, thresholds = c4[1]\n",
    "plt.plot(fpr,tpr)\n",
    "c4[0].hist(column='prob',bins= 20,by='wasOrdered')"
   ]
  },
  {
   "cell_type": "code",
   "execution_count": 65,
   "metadata": {
    "collapsed": false
   },
   "outputs": [
    {
     "name": "stdout",
     "output_type": "stream",
     "text": [
      "test\n",
      "Order id is 2402008\n",
      "Order id is 121053\n",
      "Order id is 1695742\n",
      "Order id is 3321109\n",
      "Order id is 1682003\n",
      "Order id is 1014379\n",
      "Order id is 776265\n",
      "Order id is 2507052\n",
      "Order id is 1396119\n",
      "Order id is 565870\n",
      "Order id is 3239072\n",
      "Order id is 1175028\n",
      "Order id is 3060817\n",
      "Order id is 3120740\n",
      "Order id is 2425840\n",
      "Order id is 23391\n",
      "Order id is 2984707\n",
      "Order id is 369015\n",
      "Order id is 2452257\n"
     ]
    },
    {
     "data": {
      "text/plain": [
       "array([<matplotlib.axes._subplots.AxesSubplot object at 0x7fdae64a8ed0>,\n",
       "       <matplotlib.axes._subplots.AxesSubplot object at 0x7fdae642be90>], dtype=object)"
      ]
     },
     "execution_count": 65,
     "metadata": {},
     "output_type": "execute_result"
    },
    {
     "data": {
      "image/png": "[encoded data removed]",
      "text/plain": [
       "<matplotlib.figure.Figure at 0x7fdae67fd890>"
      ]
     },
     "metadata": {},
     "output_type": "display_data"
    },
    {
     "data": {
      "image/png": "[encoded data removed]",
      "text/plain": [
       "<matplotlib.figure.Figure at 0x7fdae64a86d0>"
      ]
     },
     "metadata": {},
     "output_type": "display_data"
    }
   ],
   "source": [
    "obj.load(fName)\n",
    "print 'test'\n",
    "c4 = testModel(7,verbose = True)\n",
    "fpr, tpr, thresholds = c4[1]\n",
    "plt.plot(fpr,tpr)\n",
    "c4[0].hist(column='prob',bins= 20,by='wasOrdered')"
   ]
  },
  {
   "cell_type": "code",
   "execution_count": 68,
   "metadata": {
    "collapsed": false
   },
   "outputs": [
    {
     "name": "stdout",
     "output_type": "stream",
     "text": [
      "test\n"
     ]
    },
    {
     "ename": "UnboundLocalError",
     "evalue": "local variable 'prevBasket' referenced before assignment",
     "output_type": "error",
     "traceback": [
      "\u001b[0;31m---------------------------------------------------------------------------\u001b[0m",
      "\u001b[0;31mUnboundLocalError\u001b[0m                         Traceback (most recent call last)",
      "\u001b[0;32m<ipython-input-68-cf19fd3434a8>\u001b[0m in \u001b[0;36m<module>\u001b[0;34m()\u001b[0m\n\u001b[1;32m      1\u001b[0m \u001b[0mobj\u001b[0m\u001b[0;34m.\u001b[0m\u001b[0mload\u001b[0m\u001b[0;34m(\u001b[0m\u001b[0mfName\u001b[0m\u001b[0;34m)\u001b[0m\u001b[0;34m\u001b[0m\u001b[0m\n\u001b[1;32m      2\u001b[0m \u001b[0;32mprint\u001b[0m \u001b[0;34m'test'\u001b[0m\u001b[0;34m\u001b[0m\u001b[0m\n\u001b[0;32m----> 3\u001b[0;31m \u001b[0mc4\u001b[0m \u001b[0;34m=\u001b[0m \u001b[0mtestModel\u001b[0m\u001b[0;34m(\u001b[0m\u001b[0;36m7\u001b[0m\u001b[0;34m,\u001b[0m\u001b[0mverbose\u001b[0m \u001b[0;34m=\u001b[0m \u001b[0mTrue\u001b[0m\u001b[0;34m)\u001b[0m\u001b[0;34m\u001b[0m\u001b[0m\n\u001b[0m\u001b[1;32m      4\u001b[0m \u001b[0mfpr\u001b[0m\u001b[0;34m,\u001b[0m \u001b[0mtpr\u001b[0m\u001b[0;34m,\u001b[0m \u001b[0mthresholds\u001b[0m \u001b[0;34m=\u001b[0m \u001b[0mc4\u001b[0m\u001b[0;34m[\u001b[0m\u001b[0;36m1\u001b[0m\u001b[0;34m]\u001b[0m\u001b[0;34m\u001b[0m\u001b[0m\n\u001b[1;32m      5\u001b[0m \u001b[0mplt\u001b[0m\u001b[0;34m.\u001b[0m\u001b[0mplot\u001b[0m\u001b[0;34m(\u001b[0m\u001b[0mfpr\u001b[0m\u001b[0;34m,\u001b[0m\u001b[0mtpr\u001b[0m\u001b[0;34m)\u001b[0m\u001b[0;34m\u001b[0m\u001b[0m\n",
      "\u001b[0;32m<ipython-input-67-400098778586>\u001b[0m in \u001b[0;36mtestModel\u001b[0;34m(tUser, verbose, addPrev)\u001b[0m\n\u001b[1;32m     28\u001b[0m \u001b[0;34m\u001b[0m\u001b[0m\n\u001b[1;32m     29\u001b[0m     \u001b[0;32mfor\u001b[0m \u001b[0mk\u001b[0m \u001b[0;34m,\u001b[0m\u001b[0mv\u001b[0m \u001b[0;32min\u001b[0m \u001b[0mfullBasket\u001b[0m\u001b[0;34m.\u001b[0m\u001b[0miterrows\u001b[0m\u001b[0;34m(\u001b[0m\u001b[0;34m)\u001b[0m\u001b[0;34m:\u001b[0m\u001b[0;34m\u001b[0m\u001b[0m\n\u001b[0;32m---> 30\u001b[0;31m         \u001b[0mfullBasket\u001b[0m\u001b[0;34m.\u001b[0m\u001b[0mloc\u001b[0m\u001b[0;34m[\u001b[0m\u001b[0mk\u001b[0m\u001b[0;34m,\u001b[0m\u001b[0;34m'prob'\u001b[0m\u001b[0;34m]\u001b[0m \u001b[0;34m=\u001b[0m  \u001b[0mobj\u001b[0m\u001b[0;34m.\u001b[0m\u001b[0mgetProbability\u001b[0m\u001b[0;34m(\u001b[0m\u001b[0mbasket\u001b[0m\u001b[0;34m=\u001b[0m\u001b[0mprevBasket\u001b[0m\u001b[0;34m,\u001b[0m \u001b[0mitem\u001b[0m\u001b[0;34m=\u001b[0m\u001b[0mv\u001b[0m\u001b[0;34m.\u001b[0m\u001b[0mproduct_id\u001b[0m\u001b[0;34m,\u001b[0m \u001b[0muser\u001b[0m\u001b[0;34m=\u001b[0m\u001b[0mtUser\u001b[0m\u001b[0;34m)\u001b[0m\u001b[0;34m\u001b[0m\u001b[0m\n\u001b[0m\u001b[1;32m     31\u001b[0m         \u001b[0mfullBasket\u001b[0m\u001b[0;34m.\u001b[0m\u001b[0mloc\u001b[0m\u001b[0;34m[\u001b[0m\u001b[0mk\u001b[0m\u001b[0;34m,\u001b[0m\u001b[0;34m'wasOrdered'\u001b[0m\u001b[0;34m]\u001b[0m \u001b[0;34m=\u001b[0m \u001b[0mv\u001b[0m\u001b[0;34m.\u001b[0m\u001b[0mproduct_id\u001b[0m \u001b[0;32min\u001b[0m \u001b[0mtestBasket\u001b[0m\u001b[0;34m\u001b[0m\u001b[0m\n\u001b[1;32m     32\u001b[0m \u001b[0;34m\u001b[0m\u001b[0m\n",
      "\u001b[0;31mUnboundLocalError\u001b[0m: local variable 'prevBasket' referenced before assignment"
     ]
    }
   ],
   "source": [
    "obj.load(fName)\n",
    "print 'test'\n",
    "c4 = testModel(7,verbose = True)\n",
    "fpr, tpr, thresholds = c4[1]\n",
    "plt.plot(fpr,tpr)\n",
    "c4[0].hist(column='prob',bins= 20,by='wasOrdered')"
   ]
  },
  {
   "cell_type": "code",
   "execution_count": 69,
   "metadata": {
    "collapsed": false
   },
   "outputs": [
    {
     "data": {
      "text/plain": [
       "array([<matplotlib.axes._subplots.AxesSubplot object at 0x7fddbc04c5d0>,\n",
       "       <matplotlib.axes._subplots.AxesSubplot object at 0x7fddc00190d0>], dtype=object)"
      ]
     },
     "execution_count": 69,
     "metadata": {},
     "output_type": "execute_result"
    },
    {
     "data": {
      "image/png": "[encoded data removed]",
      "text/plain": [
       "<matplotlib.figure.Figure at 0x7fddbc12c710>"
      ]
     },
     "metadata": {},
     "output_type": "display_data"
    },
    {
     "data": {
      "image/png": "[encoded data removed]",
      "text/plain": [
       "<matplotlib.figure.Figure at 0x7fddbc0bed90>"
      ]
     },
     "metadata": {},
     "output_type": "display_data"
    }
   ],
   "source": [
    "obj.load(fName)\n",
    "c4 = testModel(5,verbose = True)\n",
    "fpr, tpr, thresholds = c4[1]\n",
    "plt.plot(fpr,tpr)\n",
    "c4[0].hist(column='prob',bins= 20,by='wasOrdered')"
   ]
  },
  {
   "cell_type": "code",
   "execution_count": 72,
   "metadata": {
    "collapsed": false
   },
   "outputs": [
    {
     "name": "stdout",
     "output_type": "stream",
     "text": [
      "Order id is 1909121\n",
      "Order id is 2267326\n",
      "Order id is 157374\n"
     ]
    },
    {
     "data": {
      "text/plain": [
       "array([<matplotlib.axes._subplots.AxesSubplot object at 0x7fddbc145fd0>,\n",
       "       <matplotlib.axes._subplots.AxesSubplot object at 0x7fddbc40ae10>], dtype=object)"
      ]
     },
     "execution_count": 72,
     "metadata": {},
     "output_type": "execute_result"
    },
    {
     "data": {
      "image/png": "[encoded data removed]",
      "text/plain": [
       "<matplotlib.figure.Figure at 0x7fdd9fe1f090>"
      ]
     },
     "metadata": {},
     "output_type": "display_data"
    },
    {
     "data": {
      "image/png": "[encoded data removed]",
      "text/plain": [
       "<matplotlib.figure.Figure at 0x7fddbc14fed0>"
      ]
     },
     "metadata": {},
     "output_type": "display_data"
    }
   ],
   "source": [
    "obj.load(fName)\n",
    "c4 = testModel(5,verbose = True,addPrev = True)\n",
    "fpr, tpr, thresholds = c4[1]\n",
    "plt.plot(fpr,tpr)\n",
    "c4[0].hist(column='prob',bins= 20,by='wasOrdered')"
   ]
  },
  {
   "cell_type": "code",
   "execution_count": 73,
   "metadata": {
    "collapsed": false
   },
   "outputs": [
    {
     "name": "stdout",
     "output_type": "stream",
     "text": [
      "Order id is 3131103\n",
      "Order id is 2197066\n",
      "Order id is 3201640\n",
      "Order id is 2756806\n",
      "Order id is 1905727\n",
      "Order id is 357849\n",
      "Order id is 1673791\n",
      "Order id is 1941871\n",
      "Order id is 1431607\n",
      "Order id is 935755\n",
      "Order id is 771250\n",
      "Order id is 218647\n",
      "Order id is 482971\n",
      "Order id is 1261865\n",
      "Order id is 2102570\n",
      "Order id is 1856643\n",
      "Order id is 2199859\n",
      "Order id is 505360\n",
      "Order id is 2829245\n",
      "Order id is 1077695\n",
      "Order id is 3067010\n",
      "Order id is 458687\n",
      "Order id is 536094\n",
      "Order id is 886814\n",
      "Order id is 1291785\n",
      "Order id is 1182191\n",
      "Order id is 2333885\n",
      "Order id is 3112215\n",
      "Order id is 3276486\n",
      "Order id is 2870447\n",
      "Order id is 623555\n",
      "Order id is 2443843\n",
      "Order id is 867561\n",
      "Order id is 2049647\n",
      "Order id is 2981401\n",
      "Order id is 2425696\n",
      "Order id is 1177903\n",
      "Order id is 2885215\n",
      "Order id is 3285176\n",
      "Order id is 1158241\n",
      "Order id is 131991\n",
      "Order id is 1237400\n",
      "Order id is 3014513\n",
      "Order id is 1368931\n",
      "Order id is 1076291\n",
      "Order id is 412136\n",
      "Order id is 1939933\n",
      "Order id is 3147929\n",
      "Order id is 2018336\n",
      "Order id is 1229178\n",
      "Order id is 3044151\n",
      "Order id is 3330597\n",
      "Order id is 642111\n",
      "Order id is 3205359\n",
      "Order id is 182020\n",
      "Order id is 636918\n",
      "Order id is 2670599\n",
      "Order id is 2236363\n",
      "Order id is 2757345\n",
      "Order id is 1915162\n",
      "Order id is 373535\n",
      "Order id is 3175017\n",
      "Order id is 309687\n",
      "Order id is 2740653\n",
      "Order id is 2107003\n",
      "Order id is 103726\n"
     ]
    },
    {
     "data": {
      "text/plain": [
       "array([<matplotlib.axes._subplots.AxesSubplot object at 0x7fdd9fda55d0>,\n",
       "       <matplotlib.axes._subplots.AxesSubplot object at 0x7fdd9fd52610>], dtype=object)"
      ]
     },
     "execution_count": 73,
     "metadata": {},
     "output_type": "execute_result"
    },
    {
     "data": {
      "image/png": "[encoded data removed]",
      "text/plain": [
       "<matplotlib.figure.Figure at 0x7fdd9feef950>"
      ]
     },
     "metadata": {},
     "output_type": "display_data"
    },
    {
     "data": {
      "image/png": "[encoded data removed]",
      "text/plain": [
       "<matplotlib.figure.Figure at 0x7fdd9fd98d90>"
      ]
     },
     "metadata": {},
     "output_type": "display_data"
    }
   ],
   "source": [
    "obj.load(fName)\n",
    "c5 = testModel(50,verbose = True,addPrev = True)\n",
    "fpr, tpr, thresholds = c5[1]\n",
    "plt.plot(fpr,tpr)\n",
    "c5[0].hist(column='prob',bins= 20,by='wasOrdered')"
   ]
  },
  {
   "cell_type": "code",
   "execution_count": 79,
   "metadata": {
    "collapsed": false
   },
   "outputs": [
    {
     "name": "stdout",
     "output_type": "stream",
     "text": [
      "Order id is 2097505\n",
      "Order id is 41765\n",
      "Order id is 2147823\n",
      "Order id is 2692763\n",
      "Order id is 1140113\n",
      "Order id is 1911708\n",
      "Order id is 120136\n",
      "Order id is 3192549\n",
      "Order id is 1795251\n",
      "Order id is 210234\n",
      "Order id is 2658191\n",
      "Order id is 936848\n",
      "Order id is 3376305\n",
      "Order id is 3274780\n",
      "Order id is 1530148\n",
      "Order id is 2357368\n"
     ]
    },
    {
     "data": {
      "text/plain": [
       "array([<matplotlib.axes._subplots.AxesSubplot object at 0x7fdd9f440d50>,\n",
       "       <matplotlib.axes._subplots.AxesSubplot object at 0x7fdd9f3fe090>], dtype=object)"
      ]
     },
     "execution_count": 79,
     "metadata": {},
     "output_type": "execute_result"
    },
    {
     "data": {
      "image/png": "[encoded data removed]",
      "text/plain": [
       "<matplotlib.figure.Figure at 0x7fdd9f50a790>"
      ]
     },
     "metadata": {},
     "output_type": "display_data"
    },
    {
     "data": {
      "image/png": "[encoded data removed]",
      "text/plain": [
       "<matplotlib.figure.Figure at 0x7fdd9f440550>"
      ]
     },
     "metadata": {},
     "output_type": "display_data"
    }
   ],
   "source": [
    "obj.load(fName)\n",
    "c5 = testModel(203495,verbose = True,addPrev = True)\n",
    "fpr, tpr, thresholds = c5[1]\n",
    "plt.plot(fpr,tpr)\n",
    "c5[0].hist(column='prob',bins= 20,by='wasOrdered')"
   ]
  },
  {
   "cell_type": "code",
   "execution_count": 81,
   "metadata": {
    "collapsed": false
   },
   "outputs": [
    {
     "name": "stdout",
     "output_type": "stream",
     "text": [
      "Order id is 2097505\n",
      "Order id is 41765\n",
      "Order id is 2147823\n",
      "Order id is 2692763\n",
      "Order id is 1140113\n",
      "Order id is 1911708\n",
      "Order id is 120136\n",
      "Order id is 3192549\n",
      "Order id is 1795251\n",
      "Order id is 210234\n",
      "Order id is 2658191\n",
      "Order id is 936848\n",
      "Order id is 3376305\n",
      "Order id is 3274780\n",
      "Order id is 1530148\n",
      "Order id is 2357368\n"
     ]
    },
    {
     "data": {
      "text/plain": [
       "array([<matplotlib.axes._subplots.AxesSubplot object at 0x7fdd9f329cd0>,\n",
       "       <matplotlib.axes._subplots.AxesSubplot object at 0x7fdd9f4c8bd0>], dtype=object)"
      ]
     },
     "execution_count": 81,
     "metadata": {},
     "output_type": "execute_result"
    },
    {
     "data": {
      "image/png": "[encoded data removed]",
      "text/plain": [
       "<matplotlib.figure.Figure at 0x7fdd9eed8550>"
      ]
     },
     "metadata": {},
     "output_type": "display_data"
    },
    {
     "data": {
      "image/png": "[encoded data removed]",
      "text/plain": [
       "<matplotlib.figure.Figure at 0x7fdd9f1a9650>"
      ]
     },
     "metadata": {},
     "output_type": "display_data"
    }
   ],
   "source": [
    "obj.load(fName)\n",
    "obj.setNormalization(1)\n",
    "c5 = testModel(203495,verbose = True,addPrev = True)\n",
    "fpr, tpr, thresholds = c5[1]\n",
    "plt.plot(fpr,tpr)\n",
    "c5[0].hist(column='prob',bins= 20,by='wasOrdered')"
   ]
  },
  {
   "cell_type": "code",
   "execution_count": 83,
   "metadata": {
    "collapsed": false
   },
   "outputs": [
    {
     "name": "stdout",
     "output_type": "stream",
     "text": [
      "Order id is 2097505\n",
      "Order id is 41765\n",
      "Order id is 2147823\n",
      "Order id is 2692763\n",
      "Order id is 1140113\n",
      "Order id is 1911708\n",
      "Order id is 120136\n",
      "Order id is 3192549\n",
      "Order id is 1795251\n",
      "Order id is 210234\n",
      "Order id is 2658191\n",
      "Order id is 936848\n",
      "Order id is 3376305\n",
      "Order id is 3274780\n",
      "Order id is 1530148\n",
      "Order id is 2357368\n"
     ]
    },
    {
     "data": {
      "text/plain": [
       "array([<matplotlib.axes._subplots.AxesSubplot object at 0x7fdd9ebb3250>,\n",
       "       <matplotlib.axes._subplots.AxesSubplot object at 0x7fdd9eb63e50>], dtype=object)"
      ]
     },
     "execution_count": 83,
     "metadata": {},
     "output_type": "execute_result"
    },
    {
     "data": {
      "image/png": "[encoded data removed]",
      "text/plain": [
       "<matplotlib.figure.Figure at 0x7fdd9f87a110>"
      ]
     },
     "metadata": {},
     "output_type": "display_data"
    },
    {
     "data": {
      "image/png": "[encoded data removed]",
      "text/plain": [
       "<matplotlib.figure.Figure at 0x7fdd9ec1fdd0>"
      ]
     },
     "metadata": {},
     "output_type": "display_data"
    }
   ],
   "source": [
    "obj.load(fName)\n",
    "obj.setNormalization(0.01)\n",
    "c5 = testModel(203495,verbose = True,addPrev = True)\n",
    "fpr, tpr, thresholds = c5[1]\n",
    "plt.plot(fpr,tpr)\n",
    "c5[0].hist(column='prob',bins= 20,by='wasOrdered')"
   ]
  },
  {
   "cell_type": "code",
   "execution_count": 84,
   "metadata": {
    "collapsed": false
   },
   "outputs": [
    {
     "name": "stdout",
     "output_type": "stream",
     "text": [
      "Order id is 2097505\n",
      "Order id is 41765\n",
      "Order id is 2147823\n",
      "Order id is 2692763\n",
      "Order id is 1140113\n",
      "Order id is 1911708\n",
      "Order id is 120136\n",
      "Order id is 3192549\n",
      "Order id is 1795251\n",
      "Order id is 210234\n",
      "Order id is 2658191\n",
      "Order id is 936848\n",
      "Order id is 3376305\n",
      "Order id is 3274780\n",
      "Order id is 1530148\n",
      "Order id is 2357368\n"
     ]
    },
    {
     "data": {
      "text/plain": [
       "array([<matplotlib.axes._subplots.AxesSubplot object at 0x7fdd9e8ac310>,\n",
       "       <matplotlib.axes._subplots.AxesSubplot object at 0x7fdd9e85cc90>], dtype=object)"
      ]
     },
     "execution_count": 84,
     "metadata": {},
     "output_type": "execute_result"
    },
    {
     "data": {
      "image/png": "[encoded data removed]",
      "text/plain": [
       "<matplotlib.figure.Figure at 0x7fdd9f5002d0>"
      ]
     },
     "metadata": {},
     "output_type": "display_data"
    },
    {
     "data": {
      "image/png": "[encoded data removed]",
      "text/plain": [
       "<matplotlib.figure.Figure at 0x7fdd9e8a0ad0>"
      ]
     },
     "metadata": {},
     "output_type": "display_data"
    }
   ],
   "source": [
    "obj.load(fName)\n",
    "obj.setNormalization(0.1)\n",
    "c5 = testModel(203495,verbose = True,addPrev = True)\n",
    "fpr, tpr, thresholds = c5[1]\n",
    "plt.plot(fpr,tpr)\n",
    "c5[0].hist(column='prob',bins= 20,by='wasOrdered')"
   ]
  },
  {
   "cell_type": "code",
   "execution_count": 99,
   "metadata": {
    "collapsed": false
   },
   "outputs": [
    {
     "name": "stdout",
     "output_type": "stream",
     "text": [
      "Order id is 2097505\n",
      "Order id is 41765\n",
      "Order id is 2147823\n",
      "Order id is 2692763\n",
      "Order id is 1140113\n",
      "Order id is 1911708\n",
      "Order id is 120136\n",
      "Order id is 3192549\n",
      "Order id is 1795251\n",
      "Order id is 210234\n",
      "Order id is 2658191\n",
      "Order id is 936848\n",
      "Order id is 3376305\n",
      "Order id is 3274780\n",
      "Order id is 1530148\n",
      "Order id is 2357368\n"
     ]
    },
    {
     "data": {
      "text/plain": [
       "array([<matplotlib.axes._subplots.AxesSubplot object at 0x7fdd9e519c10>,\n",
       "       <matplotlib.axes._subplots.AxesSubplot object at 0x7fdd9e543e90>], dtype=object)"
      ]
     },
     "execution_count": 99,
     "metadata": {},
     "output_type": "execute_result"
    },
    {
     "data": {
      "image/png": "[encoded data removed]",
      "text/plain": [
       "<matplotlib.figure.Figure at 0x7fdd9dd64c90>"
      ]
     },
     "metadata": {},
     "output_type": "display_data"
    },
    {
     "data": {
      "image/png": "[encoded data removed]",
      "text/plain": [
       "<matplotlib.figure.Figure at 0x7fdd9e2acad0>"
      ]
     },
     "metadata": {},
     "output_type": "display_data"
    }
   ],
   "source": [
    "obj.load(fName)\n",
    "obj.setLearningRate(0.01)\n",
    "obj.setNormalization(0.05)\n",
    "c5 = testModel(203495,verbose = True,addPrev = True)\n",
    "fpr, tpr, thresholds = c5[1]\n",
    "plt.plot(fpr,tpr)\n",
    "c5[0].hist(column='prob',bins= 20,by='wasOrdered')"
   ]
  },
  {
   "cell_type": "code",
   "execution_count": 102,
   "metadata": {
    "collapsed": false
   },
   "outputs": [
    {
     "name": "stdout",
     "output_type": "stream",
     "text": [
      "Order id is 918213\n",
      "Order id is 1730764\n",
      "Order id is 2617581\n",
      "Order id is 1774443\n"
     ]
    },
    {
     "data": {
      "text/plain": [
       "array([<matplotlib.axes._subplots.AxesSubplot object at 0x7fdd9db9fe10>,\n",
       "       <matplotlib.axes._subplots.AxesSubplot object at 0x7fdd9e232390>], dtype=object)"
      ]
     },
     "execution_count": 102,
     "metadata": {},
     "output_type": "execute_result"
    },
    {
     "data": {
      "image/png": "[encoded data removed]",
      "text/plain": [
       "<matplotlib.figure.Figure at 0x7fdd9df61c50>"
      ]
     },
     "metadata": {},
     "output_type": "display_data"
    },
    {
     "data": {
      "image/png": "[encoded data removed]",
      "text/plain": [
       "<matplotlib.figure.Figure at 0x7fdd9db9f610>"
      ]
     },
     "metadata": {},
     "output_type": "display_data"
    }
   ],
   "source": [
    "obj.load(fName)\n",
    "obj.setLearningRate(0.01)\n",
    "obj.setNormalization(0.05)\n",
    "c5 = testModel(203498,verbose = True,addPrev = True)\n",
    "fpr, tpr, thresholds = c5[1]\n",
    "plt.plot(fpr,tpr)\n",
    "c5[0].hist(column='prob',bins= 20,by='wasOrdered')"
   ]
  },
  {
   "cell_type": "code",
   "execution_count": 103,
   "metadata": {
    "collapsed": false
   },
   "outputs": [
    {
     "name": "stdout",
     "output_type": "stream",
     "text": [
      "Order id is 2110634\n",
      "Order id is 2614559\n",
      "Order id is 1348995\n",
      "Order id is 1995726\n",
      "Order id is 1417576\n",
      "Order id is 409559\n",
      "Order id is 94901\n",
      "Order id is 1044941\n",
      "Order id is 1204466\n",
      "Order id is 1338144\n",
      "Order id is 2421576\n",
      "Order id is 34586\n",
      "Order id is 627450\n"
     ]
    },
    {
     "data": {
      "text/plain": [
       "array([<matplotlib.axes._subplots.AxesSubplot object at 0x7fdd9d8d2b10>,\n",
       "       <matplotlib.axes._subplots.AxesSubplot object at 0x7fdd9d856ad0>], dtype=object)"
      ]
     },
     "execution_count": 103,
     "metadata": {},
     "output_type": "execute_result"
    },
    {
     "data": {
      "image/png": "[encoded data removed]",
      "text/plain": [
       "<matplotlib.figure.Figure at 0x7fdd9d99fc90>"
      ]
     },
     "metadata": {},
     "output_type": "display_data"
    },
    {
     "data": {
      "image/png": "[encoded data removed]",
      "text/plain": [
       "<matplotlib.figure.Figure at 0x7fdd9d8d2310>"
      ]
     },
     "metadata": {},
     "output_type": "display_data"
    }
   ],
   "source": [
    "obj.load(fName)\n",
    "obj.setLearningRate(0.01)\n",
    "obj.setNormalization(0.05)\n",
    "c5 = testModel(203499,verbose = True,addPrev = True)\n",
    "fpr, tpr, thresholds = c5[1]\n",
    "plt.plot(fpr,tpr)\n",
    "c5[0].hist(column='prob',bins= 20,by='wasOrdered')"
   ]
  },
  {
   "cell_type": "code",
   "execution_count": 104,
   "metadata": {
    "collapsed": false
   },
   "outputs": [
    {
     "data": {
      "text/plain": [
       "array([<matplotlib.axes._subplots.AxesSubplot object at 0x7fdd9d63edd0>,\n",
       "       <matplotlib.axes._subplots.AxesSubplot object at 0x7fdd9d542d90>], dtype=object)"
      ]
     },
     "execution_count": 104,
     "metadata": {},
     "output_type": "execute_result"
    },
    {
     "data": {
      "image/png": "[encoded data removed]",
      "text/plain": [
       "<matplotlib.figure.Figure at 0x7fdd9e214dd0>"
      ]
     },
     "metadata": {},
     "output_type": "display_data"
    },
    {
     "data": {
      "image/png": "[encoded data removed]",
      "text/plain": [
       "<matplotlib.figure.Figure at 0x7fdd9d63e5d0>"
      ]
     },
     "metadata": {},
     "output_type": "display_data"
    }
   ],
   "source": [
    "obj.load(fName)\n",
    "c5 = testModel(203499,verbose = True,addPrev = False)\n",
    "fpr, tpr, thresholds = c5[1]\n",
    "plt.plot(fpr,tpr)\n",
    "c5[0].hist(column='prob',bins= 20,by='wasOrdered')"
   ]
  },
  {
   "cell_type": "code",
   "execution_count": 110,
   "metadata": {
    "collapsed": false
   },
   "outputs": [
    {
     "name": "stdout",
     "output_type": "stream",
     "text": [
      "Order id is 486864\n",
      "Order id is 2110197\n",
      "Order id is 3266334\n",
      "Order id is 1364205\n",
      "Order id is 1985676\n",
      "Order id is 1891377\n",
      "Order id is 1979663\n",
      "Order id is 1476275\n",
      "Order id is 2922189\n",
      "Order id is 2592345\n",
      "Order id is 2040180\n",
      "Order id is 1786066\n",
      "Order id is 2474035\n",
      "Order id is 1193464\n",
      "Order id is 257197\n",
      "Order id is 3217\n",
      "Order id is 3224538\n",
      "Order id is 2216282\n",
      "Order id is 1641665\n"
     ]
    },
    {
     "data": {
      "text/plain": [
       "array([<matplotlib.axes._subplots.AxesSubplot object at 0x7fdd9d232750>,\n",
       "       <matplotlib.axes._subplots.AxesSubplot object at 0x7fdd9d1c7550>], dtype=object)"
      ]
     },
     "execution_count": 110,
     "metadata": {},
     "output_type": "execute_result"
    },
    {
     "data": {
      "image/png": "[encoded data removed]",
      "text/plain": [
       "<matplotlib.figure.Figure at 0x7fdd9d245690>"
      ]
     },
     "metadata": {},
     "output_type": "display_data"
    },
    {
     "data": {
      "image/png": "[encoded data removed]",
      "text/plain": [
       "<matplotlib.figure.Figure at 0x7fdd9d224f10>"
      ]
     },
     "metadata": {},
     "output_type": "display_data"
    }
   ],
   "source": [
    "obj.load(fName)\n",
    "obj.setLearningRate(0.01)\n",
    "obj.setNormalization(0.05)\n",
    "c5 = testModel(203503,verbose = True,addPrev = True)\n",
    "fpr, tpr, thresholds = c5[1]\n",
    "plt.plot(fpr,tpr)\n",
    "c5[0].hist(column='prob',bins= 20,by='wasOrdered')"
   ]
  },
  {
   "cell_type": "code",
   "execution_count": 217,
   "metadata": {
    "collapsed": true
   },
   "outputs": [],
   "source": [
    "def f1Score(y_true, y_pred):\n",
    "    fullSet      = np.unique(np.hstack((y_pred,y_true)))\n",
    "    intersection = np.intersect1d(y_true,y_pred).size\n",
    "    precession   = intersection/float(y_pred.shape[0])\n",
    "    recall       = intersection/float(y_true.shape[0])\n",
    "    try:\n",
    "        f1 = 2*precession*recall/(precession+recall)\n",
    "    except ZeroDivisionError:\n",
    "        f1 = 0\n",
    "    return [precession, recall, f1]"
   ]
  },
  {
   "cell_type": "code",
   "execution_count": 231,
   "metadata": {
    "collapsed": false
   },
   "outputs": [],
   "source": [
    "def testModel(tUser,verbose = False, addPrev = False):\n",
    "    userOrders = orders.query('user_id == @tUser')\n",
    "\n",
    "    testOrder = userOrders.query(\"eval_set != 'prior'\")\n",
    "\n",
    "    trainOrders = userOrders.query(\"eval_set == 'prior'\")\n",
    "    trainOrderIds = trainOrders.index.values\n",
    "\n",
    "    if testOrder.eval_set.values == 'test':\n",
    "        print 'Test user'\n",
    "        return\n",
    "\n",
    "    else:\n",
    "        testOrderId = testOrder.index.values\n",
    "\n",
    "    # получаем id всех предварительных заказов    \n",
    "\n",
    "    # train the model\n",
    "    if addPrev:\n",
    "        prevOrderId = userOrders.query('order_number == 1').index.values\n",
    "        prevBasket = items.query('order_id == @prevOrderId').product_id.values\n",
    "\n",
    "        for newOrderId in userOrders.index.values[1:-1]:\n",
    "            if verbose:\n",
    "                print 'Order id is', newOrderId\n",
    "            newBasket = items.query('order_id == @newOrderId').product_id.values\n",
    "            obj.addOrder(tUser,newBasket,prevBasket,iterations = 1e3)\n",
    "            prevBasket = newBasket\n",
    "    else:\n",
    "        prevOrderNumber =  testOrder.order_number.values - 1\n",
    "        prevOrderId = userOrders.query('order_number == @prevOrderNumber').index.values\n",
    "        prevBasket = items.query('order_id == @prevOrderId').product_id.values\n",
    "\n",
    "    testBasket = items.query('order_id == @testOrderId').product_id.values\n",
    "\n",
    "    ordIds = userOrders.index.values[:-1]\n",
    "    \n",
    "    userItems = items.query('order_id in @trainOrderIds')\n",
    "\n",
    "    # формирование полного списка купленного \n",
    "    fullBasket = userItems.groupby('product_id').count() \n",
    "    fullBasket.rename(columns={'order_id':'quantity'},inplace=True)\n",
    "    fullBasket = fullBasket.merge(products,left_index=True,right_index=True).drop(['aisle_id','department_id'],axis = 1) \n",
    "    \n",
    "    # расчёт среднего размера корзины\n",
    "    size = np.round(userItems.groupby('order_id').count().mean()).values\n",
    "    \n",
    "    for k ,v in fullBasket.iterrows():\n",
    "        fullBasket.loc[k,'prob'] =  obj.getProbability(basket=prevBasket, item=k, user=tUser)\n",
    "        fullBasket.loc[k,'wasOrdered'] = k in testBasket\n",
    "    \n",
    "    \n",
    "    fullBasket.sort_values('wasOrdered',ascending=False,inplace=True)\n",
    "    ##fullBasket.head(50)\n",
    "    fpr, tpr, thresholds = roc_curve(fullBasket.wasOrdered,fullBasket.prob)\n",
    "    plt.plot(fpr,tpr)\n",
    "    plt.xlabel('FPR')\n",
    "    plt.ylabel('TPR')\n",
    "    \n",
    "    print 'FPMC model'\n",
    "    recommendation = fullBasket.sort_values('prob',ascending=False).index.values[:int(size)]\n",
    "    print recommendation\n",
    "    [pr, recall, f1] = f1Score(testBasket,recommendation)\n",
    "    print 'Precession ', pr\n",
    "    print 'Recall ', recall\n",
    "    print 'f1-score ',f1\n",
    "    \n",
    "    print '\\nMost popular model'\n",
    "    recommendation = fullBasket.sort_values('quantity',ascending=False).index.values[:int(size)]\n",
    "    print recommendation\n",
    "    [pr, recall, f1] = f1Score(testBasket,recommendation)\n",
    "    print 'Precession ', pr\n",
    "    print 'Recall ', recall\n",
    "    print 'f1-score ',f1\n",
    "    \n",
    "    return [fullBasket, pr, recall, f1]"
   ]
  },
  {
   "cell_type": "code",
   "execution_count": 220,
   "metadata": {
    "collapsed": false
   },
   "outputs": [
    {
     "name": "stdout",
     "output_type": "stream",
     "text": [
      "FPMC model\n",
      "Precession  0.833333333333\n",
      "Recall  0.454545454545\n",
      "f1-score  0.588235294118\n",
      "\n",
      "Most popular model\n",
      "Precession  0.833333333333\n",
      "Recall  0.454545454545\n",
      "f1-score  0.588235294118\n"
     ]
    },
    {
     "data": {
      "image/png": "[encoded data removed]",
      "text/plain": [
       "<matplotlib.figure.Figure at 0x7fdd9df831d0>"
      ]
     },
     "metadata": {},
     "output_type": "display_data"
    }
   ],
   "source": [
    "obj.load(fName)\n",
    "[b,p,r,f1] = testModel(1)"
   ]
  },
  {
   "cell_type": "code",
   "execution_count": 221,
   "metadata": {
    "collapsed": false
   },
   "outputs": [
    {
     "name": "stdout",
     "output_type": "stream",
     "text": [
      "Order id is 2398795\n",
      "Order id is 473747\n",
      "Order id is 2254736\n",
      "Order id is 431534\n",
      "Order id is 3367565\n",
      "Order id is 550135\n",
      "Order id is 3108588\n",
      "Order id is 2295261\n",
      "Order id is 2550362\n",
      "FPMC model\n",
      "Precession  0.833333333333\n",
      "Recall  0.454545454545\n",
      "f1-score  0.588235294118\n",
      "\n",
      "Most popular model\n",
      "Precession  0.833333333333\n",
      "Recall  0.454545454545\n",
      "f1-score  0.588235294118\n"
     ]
    },
    {
     "data": {
      "image/png": "[encoded data removed]",
      "text/plain": [
       "<matplotlib.figure.Figure at 0x7fdd9c5cbb50>"
      ]
     },
     "metadata": {},
     "output_type": "display_data"
    }
   ],
   "source": [
    "obj.load(fName)\n",
    "resFrame = testModel(1,addPrev=True,verbose = True)"
   ]
  },
  {
   "cell_type": "code",
   "execution_count": 222,
   "metadata": {
    "collapsed": false
   },
   "outputs": [
    {
     "name": "stdout",
     "output_type": "stream",
     "text": [
      "FPMC model\n",
      "Precession  0.0714285714286\n",
      "Recall  0.0322580645161\n",
      "f1-score  0.0444444444444\n",
      "\n",
      "Most popular model\n",
      "Precession  0.214285714286\n",
      "Recall  0.0967741935484\n",
      "f1-score  0.133333333333\n"
     ]
    },
    {
     "data": {
      "image/png": "[encoded data removed]",
      "text/plain": [
       "<matplotlib.figure.Figure at 0x7fdd9cc76290>"
      ]
     },
     "metadata": {},
     "output_type": "display_data"
    }
   ],
   "source": [
    "obj.load(fName)\n",
    "[b,p,r,f1] = testModel(2)"
   ]
  },
  {
   "cell_type": "code",
   "execution_count": 223,
   "metadata": {
    "collapsed": false
   },
   "outputs": [
    {
     "name": "stdout",
     "output_type": "stream",
     "text": [
      "Order id is 1501582\n",
      "Order id is 1901567\n",
      "Order id is 738281\n",
      "Order id is 1673511\n",
      "Order id is 1199898\n",
      "Order id is 3194192\n",
      "Order id is 788338\n",
      "Order id is 1718559\n",
      "Order id is 1447487\n",
      "Order id is 1402090\n",
      "Order id is 3186735\n",
      "Order id is 3268552\n",
      "Order id is 839880\n",
      "FPMC model\n",
      "Precession  0.0714285714286\n",
      "Recall  0.0322580645161\n",
      "f1-score  0.0444444444444\n",
      "\n",
      "Most popular model\n",
      "Precession  0.214285714286\n",
      "Recall  0.0967741935484\n",
      "f1-score  0.133333333333\n"
     ]
    },
    {
     "data": {
      "image/png": "[encoded data removed]",
      "text/plain": [
       "<matplotlib.figure.Figure at 0x7fdd9cd496d0>"
      ]
     },
     "metadata": {},
     "output_type": "display_data"
    }
   ],
   "source": [
    "obj.load(fName)\n",
    "[b,p,r,f1] = testModel(2,verbose=True,addPrev=True)"
   ]
  },
  {
   "cell_type": "code",
   "execution_count": 224,
   "metadata": {
    "collapsed": false
   },
   "outputs": [
    {
     "name": "stdout",
     "output_type": "stream",
     "text": [
      "Order id is 1501582\n",
      "Order id is 1901567\n",
      "Order id is 738281\n",
      "Order id is 1673511\n",
      "Order id is 1199898\n",
      "Order id is 3194192\n",
      "Order id is 788338\n",
      "Order id is 1718559\n",
      "Order id is 1447487\n",
      "Order id is 1402090\n",
      "Order id is 3186735\n",
      "Order id is 3268552\n",
      "Order id is 839880\n",
      "FPMC model\n",
      "Precession  0.214285714286\n",
      "Recall  0.0967741935484\n",
      "f1-score  0.133333333333\n",
      "\n",
      "Most popular model\n",
      "Precession  0.214285714286\n",
      "Recall  0.0967741935484\n",
      "f1-score  0.133333333333\n"
     ]
    },
    {
     "data": {
      "image/png": "[encoded data removed]",
      "text/plain": [
       "<matplotlib.figure.Figure at 0x7fdd9c49e050>"
      ]
     },
     "metadata": {},
     "output_type": "display_data"
    }
   ],
   "source": [
    "obj.load(fName)\n",
    "obj.setNormalization(1e-3)\n",
    "[b,p,r,f1] = testModel(2,verbose=True,addPrev=True)"
   ]
  },
  {
   "cell_type": "code",
   "execution_count": 235,
   "metadata": {
    "collapsed": false,
    "scrolled": true
   },
   "outputs": [
    {
     "name": "stdout",
     "output_type": "stream",
     "text": [
      "Order id is 2936810\n",
      "Order id is 159634\n",
      "Order id is 13065\n",
      "Order id is 1078341\n",
      "FPMC model\n",
      "[ 7969 47226 33589 19130]\n",
      "Precession  0.25\n",
      "Recall  0.166666666667\n",
      "f1-score  0.2\n",
      "\n",
      "Most popular model\n",
      "[17993 21650 23734  9116]\n",
      "Precession  0.75\n",
      "Recall  0.5\n",
      "f1-score  0.6\n"
     ]
    },
    {
     "data": {
      "image/png": "[encoded data removed]",
      "text/plain": [
       "<matplotlib.figure.Figure at 0x7fdd9c072690>"
      ]
     },
     "metadata": {},
     "output_type": "display_data"
    }
   ],
   "source": [
    "obj.load(fName)\n",
    "obj.setNormalization(0)\n",
    "[b,p,r,f1] = testModel(200222,verbose=True,addPrev=True)"
   ]
  },
  {
   "cell_type": "code",
   "execution_count": 237,
   "metadata": {
    "collapsed": false
   },
   "outputs": [
    {
     "data": {
      "text/html": [
       "<div>\n",
       "<style>\n",
       "    .dataframe thead tr:only-child th {\n",
       "        text-align: right;\n",
       "    }\n",
       "\n",
       "    .dataframe thead th {\n",
       "        text-align: left;\n",
       "    }\n",
       "\n",
       "    .dataframe tbody tr th {\n",
       "        vertical-align: top;\n",
       "    }\n",
       "</style>\n",
       "<table border=\"1\" class=\"dataframe\">\n",
       "  <thead>\n",
       "    <tr style=\"text-align: right;\">\n",
       "      <th></th>\n",
       "      <th>quantity</th>\n",
       "      <th>product_name</th>\n",
       "      <th>prob</th>\n",
       "      <th>wasOrdered</th>\n",
       "    </tr>\n",
       "    <tr>\n",
       "      <th>product_id</th>\n",
       "      <th></th>\n",
       "      <th></th>\n",
       "      <th></th>\n",
       "      <th></th>\n",
       "    </tr>\n",
       "  </thead>\n",
       "  <tbody>\n",
       "    <tr>\n",
       "      <th>17993</th>\n",
       "      <td>2</td>\n",
       "      <td>Shredded Colby &amp; Monterey Jack Cheeses</td>\n",
       "      <td>0.409794</td>\n",
       "      <td>True</td>\n",
       "    </tr>\n",
       "    <tr>\n",
       "      <th>19130</th>\n",
       "      <td>1</td>\n",
       "      <td>24 Hour Original Prescription Strength Fexofen...</td>\n",
       "      <td>0.997118</td>\n",
       "      <td>True</td>\n",
       "    </tr>\n",
       "    <tr>\n",
       "      <th>21650</th>\n",
       "      <td>2</td>\n",
       "      <td>Ginger Soda</td>\n",
       "      <td>-2.322591</td>\n",
       "      <td>True</td>\n",
       "    </tr>\n",
       "    <tr>\n",
       "      <th>23734</th>\n",
       "      <td>2</td>\n",
       "      <td>Sour Cream</td>\n",
       "      <td>-1.764417</td>\n",
       "      <td>True</td>\n",
       "    </tr>\n",
       "    <tr>\n",
       "      <th>5101</th>\n",
       "      <td>1</td>\n",
       "      <td>Lean Sweet Italian Turkey Sausage</td>\n",
       "      <td>0.893637</td>\n",
       "      <td>False</td>\n",
       "    </tr>\n",
       "    <tr>\n",
       "      <th>7969</th>\n",
       "      <td>1</td>\n",
       "      <td>Lime</td>\n",
       "      <td>2.197568</td>\n",
       "      <td>False</td>\n",
       "    </tr>\n",
       "    <tr>\n",
       "      <th>8460</th>\n",
       "      <td>1</td>\n",
       "      <td>Hearty Thick Cut Bacon</td>\n",
       "      <td>0.949239</td>\n",
       "      <td>False</td>\n",
       "    </tr>\n",
       "    <tr>\n",
       "      <th>8670</th>\n",
       "      <td>1</td>\n",
       "      <td>Diced Tomatoes</td>\n",
       "      <td>-0.552016</td>\n",
       "      <td>False</td>\n",
       "    </tr>\n",
       "    <tr>\n",
       "      <th>9116</th>\n",
       "      <td>2</td>\n",
       "      <td>Stock-In-A-Box</td>\n",
       "      <td>-0.024965</td>\n",
       "      <td>False</td>\n",
       "    </tr>\n",
       "    <tr>\n",
       "      <th>11755</th>\n",
       "      <td>1</td>\n",
       "      <td>Chili Powder</td>\n",
       "      <td>-0.937919</td>\n",
       "      <td>False</td>\n",
       "    </tr>\n",
       "    <tr>\n",
       "      <th>21938</th>\n",
       "      <td>1</td>\n",
       "      <td>Green Bell Pepper</td>\n",
       "      <td>-0.113469</td>\n",
       "      <td>False</td>\n",
       "    </tr>\n",
       "    <tr>\n",
       "      <th>25704</th>\n",
       "      <td>1</td>\n",
       "      <td>White Cauliflower</td>\n",
       "      <td>-0.192784</td>\n",
       "      <td>False</td>\n",
       "    </tr>\n",
       "    <tr>\n",
       "      <th>33589</th>\n",
       "      <td>1</td>\n",
       "      <td>G2 Grape Sports Drink</td>\n",
       "      <td>1.043681</td>\n",
       "      <td>False</td>\n",
       "    </tr>\n",
       "    <tr>\n",
       "      <th>37004</th>\n",
       "      <td>1</td>\n",
       "      <td>Whole Grain Thin Spaghetti Pasta</td>\n",
       "      <td>-2.341974</td>\n",
       "      <td>False</td>\n",
       "    </tr>\n",
       "    <tr>\n",
       "      <th>40299</th>\n",
       "      <td>1</td>\n",
       "      <td>Soft Taco Flour Tortillas</td>\n",
       "      <td>0.377600</td>\n",
       "      <td>False</td>\n",
       "    </tr>\n",
       "    <tr>\n",
       "      <th>47226</th>\n",
       "      <td>1</td>\n",
       "      <td>Taco Seasoning Mix Original</td>\n",
       "      <td>1.945439</td>\n",
       "      <td>False</td>\n",
       "    </tr>\n",
       "  </tbody>\n",
       "</table>\n",
       "</div>"
      ],
      "text/plain": [
       "            quantity                                       product_name  \\\n",
       "product_id                                                                \n",
       "17993              2             Shredded Colby & Monterey Jack Cheeses   \n",
       "19130              1  24 Hour Original Prescription Strength Fexofen...   \n",
       "21650              2                                        Ginger Soda   \n",
       "23734              2                                         Sour Cream   \n",
       "5101               1                  Lean Sweet Italian Turkey Sausage   \n",
       "7969               1                                               Lime   \n",
       "8460               1                             Hearty Thick Cut Bacon   \n",
       "8670               1                                     Diced Tomatoes   \n",
       "9116               2                                     Stock-In-A-Box   \n",
       "11755              1                                       Chili Powder   \n",
       "21938              1                                  Green Bell Pepper   \n",
       "25704              1                                  White Cauliflower   \n",
       "33589              1                              G2 Grape Sports Drink   \n",
       "37004              1                   Whole Grain Thin Spaghetti Pasta   \n",
       "40299              1                          Soft Taco Flour Tortillas   \n",
       "47226              1                        Taco Seasoning Mix Original   \n",
       "\n",
       "                prob wasOrdered  \n",
       "product_id                       \n",
       "17993       0.409794       True  \n",
       "19130       0.997118       True  \n",
       "21650      -2.322591       True  \n",
       "23734      -1.764417       True  \n",
       "5101        0.893637      False  \n",
       "7969        2.197568      False  \n",
       "8460        0.949239      False  \n",
       "8670       -0.552016      False  \n",
       "9116       -0.024965      False  \n",
       "11755      -0.937919      False  \n",
       "21938      -0.113469      False  \n",
       "25704      -0.192784      False  \n",
       "33589       1.043681      False  \n",
       "37004      -2.341974      False  \n",
       "40299       0.377600      False  \n",
       "47226       1.945439      False  "
      ]
     },
     "execution_count": 237,
     "metadata": {},
     "output_type": "execute_result"
    }
   ],
   "source": [
    "b"
   ]
  },
  {
   "cell_type": "code",
   "execution_count": 239,
   "metadata": {
    "collapsed": false
   },
   "outputs": [
    {
     "name": "stdout",
     "output_type": "stream",
     "text": [
      "Order id is 2936810\n",
      "Order id is 159634\n",
      "Order id is 13065\n",
      "Order id is 1078341\n",
      "FPMC model\n",
      "[ 7969 47226 33589 19130]\n",
      "Precession  0.25\n",
      "Recall  0.166666666667\n",
      "f1-score  0.2\n",
      "\n",
      "Most popular model\n",
      "[17993 21650 23734  9116]\n",
      "Precession  0.75\n",
      "Recall  0.5\n",
      "f1-score  0.6\n"
     ]
    },
    {
     "data": {
      "image/png": "[encoded data removed]",
      "text/plain": [
       "<matplotlib.figure.Figure at 0x7fdd97f09410>"
      ]
     },
     "metadata": {},
     "output_type": "display_data"
    }
   ],
   "source": [
    "obj.load(fName)\n",
    "obj.setNormalization(0)\n",
    "[b,p,r,f1] = testModel(200222,verbose=True,addPrev=True)"
   ]
  },
  {
   "cell_type": "code",
   "execution_count": 241,
   "metadata": {
    "collapsed": false
   },
   "outputs": [
    {
     "name": "stdout",
     "output_type": "stream",
     "text": [
      "Order id is 1382639\n",
      "Order id is 2395582\n",
      "Order id is 3056620\n",
      "Order id is 369869\n",
      "Order id is 1597438\n",
      "Order id is 2391623\n",
      "FPMC model\n",
      "[21162 30700  1999 45747 20597  9839 19678   329]\n",
      "Precession  0.125\n",
      "Recall  0.333333333333\n",
      "f1-score  0.181818181818\n",
      "\n",
      "Most popular model\n",
      "[13712   329 27845 20597 23339  6203  5025 30700]\n",
      "Precession  0.125\n",
      "Recall  0.333333333333\n",
      "f1-score  0.181818181818\n"
     ]
    },
    {
     "data": {
      "image/png": "[encoded data removed]",
      "text/plain": [
       "<matplotlib.figure.Figure at 0x7fdd97ebc290>"
      ]
     },
     "metadata": {},
     "output_type": "display_data"
    }
   ],
   "source": [
    "obj.load(fName)\n",
    "#obj.setNormalization(0)\n",
    "[b,p,r,f1] = testModel(201,verbose=True,addPrev=True)"
   ]
  },
  {
   "cell_type": "code",
   "execution_count": 257,
   "metadata": {
    "collapsed": false
   },
   "outputs": [
    {
     "name": "stdout",
     "output_type": "stream",
     "text": [
      "Order id is 3197379\n",
      "Order id is 741021\n",
      "Order id is 874399\n",
      "Order id is 1054017\n",
      "Order id is 1194678\n",
      "Order id is 670442\n",
      "Order id is 3309526\n",
      "Order id is 1033879\n",
      "Order id is 2321422\n",
      "Order id is 77476\n",
      "Order id is 1973375\n",
      "Order id is 1349480\n",
      "Order id is 1568565\n",
      "Order id is 312218\n",
      "Order id is 1290363\n",
      "Order id is 940817\n",
      "Order id is 1159562\n",
      "Order id is 1685681\n",
      "Order id is 1562042\n",
      "Order id is 2236393\n",
      "Order id is 73959\n",
      "Order id is 3052995\n",
      "Order id is 2869752\n",
      "Order id is 135852\n",
      "Order id is 2020112\n",
      "Order id is 2994268\n",
      "Order id is 733465\n",
      "Order id is 2298192\n",
      "Order id is 548585\n",
      "Order id is 331477\n",
      "Order id is 2267241\n",
      "Order id is 2933781\n",
      "Order id is 766016\n",
      "Order id is 3377525\n",
      "Order id is 283191\n",
      "Order id is 179198\n",
      "Order id is 1933885\n",
      "Order id is 3108502\n",
      "Order id is 282471\n",
      "Order id is 1894164\n",
      "Order id is 3409449\n",
      "Order id is 1877938\n",
      "Order id is 1281905\n",
      "Order id is 2083821\n",
      "Order id is 3332790\n",
      "Order id is 1097865\n",
      "Order id is 2516170\n",
      "Order id is 124894\n",
      "Order id is 216004\n",
      "Order id is 2839353\n",
      "Order id is 3242253\n",
      "Order id is 1723760\n",
      "Order id is 518463\n",
      "Order id is 625302\n",
      "Order id is 3040927\n",
      "Order id is 1346153\n",
      "Order id is 2524799\n",
      "FPMC model\n",
      "[ 4350 17123 27719 37288   778 21910 42867  1999 13852]\n",
      "Precession  0.111111111111\n",
      "Recall  0.047619047619\n",
      "f1-score  0.0666666666667\n",
      "\n",
      "Most popular model\n",
      "[38312 48220 13176 15984  4472 49026 24964 45948 42637]\n",
      "Precession  0.444444444444\n",
      "Recall  0.190476190476\n",
      "f1-score  0.266666666667\n"
     ]
    },
    {
     "data": {
      "image/png": "[encoded data removed]",
      "text/plain": [
       "<matplotlib.figure.Figure at 0x7fdd9d694150>"
      ]
     },
     "metadata": {},
     "output_type": "display_data"
    }
   ],
   "source": [
    "obj.load(fName)\n",
    "obj.setNormalization(0.01)\n",
    "[b,p,r,f1] = testModel(204,verbose=True,addPrev=True)"
   ]
  },
  {
   "cell_type": "code",
   "execution_count": 256,
   "metadata": {
    "collapsed": false
   },
   "outputs": [
    {
     "data": {
      "text/html": [
       "<div>\n",
       "<style>\n",
       "    .dataframe thead tr:only-child th {\n",
       "        text-align: right;\n",
       "    }\n",
       "\n",
       "    .dataframe thead th {\n",
       "        text-align: left;\n",
       "    }\n",
       "\n",
       "    .dataframe tbody tr th {\n",
       "        vertical-align: top;\n",
       "    }\n",
       "</style>\n",
       "<table border=\"1\" class=\"dataframe\">\n",
       "  <thead>\n",
       "    <tr style=\"text-align: right;\">\n",
       "      <th></th>\n",
       "      <th>quantity</th>\n",
       "      <th>product_name</th>\n",
       "      <th>prob</th>\n",
       "      <th>wasOrdered</th>\n",
       "    </tr>\n",
       "    <tr>\n",
       "      <th>product_id</th>\n",
       "      <th></th>\n",
       "      <th></th>\n",
       "      <th></th>\n",
       "      <th></th>\n",
       "    </tr>\n",
       "  </thead>\n",
       "  <tbody>\n",
       "    <tr>\n",
       "      <th>260</th>\n",
       "      <td>1</td>\n",
       "      <td>Cantaloupe</td>\n",
       "      <td>0.024705</td>\n",
       "      <td>True</td>\n",
       "    </tr>\n",
       "    <tr>\n",
       "      <th>26756</th>\n",
       "      <td>1</td>\n",
       "      <td>Light CocoWhip! Coconut Whipped Topping</td>\n",
       "      <td>-1.360394</td>\n",
       "      <td>True</td>\n",
       "    </tr>\n",
       "    <tr>\n",
       "      <th>42637</th>\n",
       "      <td>9</td>\n",
       "      <td>Muffins, Flax, Wild Blueberry</td>\n",
       "      <td>-0.509345</td>\n",
       "      <td>True</td>\n",
       "    </tr>\n",
       "    <tr>\n",
       "      <th>12703</th>\n",
       "      <td>1</td>\n",
       "      <td>Organic Mung-Bean Sprouts</td>\n",
       "      <td>0.218673</td>\n",
       "      <td>True</td>\n",
       "    </tr>\n",
       "    <tr>\n",
       "      <th>13829</th>\n",
       "      <td>1</td>\n",
       "      <td>Mild Salsa</td>\n",
       "      <td>-0.515478</td>\n",
       "      <td>True</td>\n",
       "    </tr>\n",
       "    <tr>\n",
       "      <th>7870</th>\n",
       "      <td>4</td>\n",
       "      <td>Cinnamon Raisin Sprouted Whole Grain Cereal</td>\n",
       "      <td>0.294743</td>\n",
       "      <td>True</td>\n",
       "    </tr>\n",
       "    <tr>\n",
       "      <th>21137</th>\n",
       "      <td>5</td>\n",
       "      <td>Organic Strawberries</td>\n",
       "      <td>0.224858</td>\n",
       "      <td>True</td>\n",
       "    </tr>\n",
       "    <tr>\n",
       "      <th>31618</th>\n",
       "      <td>1</td>\n",
       "      <td>Thick Medium Cheddar Slices</td>\n",
       "      <td>0.253656</td>\n",
       "      <td>True</td>\n",
       "    </tr>\n",
       "    <tr>\n",
       "      <th>4350</th>\n",
       "      <td>1</td>\n",
       "      <td>Mushroom And Ricotta Ravioli</td>\n",
       "      <td>1.178662</td>\n",
       "      <td>True</td>\n",
       "    </tr>\n",
       "    <tr>\n",
       "      <th>3464</th>\n",
       "      <td>2</td>\n",
       "      <td>Organic Butterhead (Boston, Butter, Bibb) Lettuce</td>\n",
       "      <td>0.559501</td>\n",
       "      <td>True</td>\n",
       "    </tr>\n",
       "    <tr>\n",
       "      <th>4472</th>\n",
       "      <td>13</td>\n",
       "      <td>Toasted Coconut Almondmilk Blend</td>\n",
       "      <td>0.001215</td>\n",
       "      <td>True</td>\n",
       "    </tr>\n",
       "    <tr>\n",
       "      <th>39619</th>\n",
       "      <td>1</td>\n",
       "      <td>Organic Tomato Basil Pasta Sauce</td>\n",
       "      <td>-0.305058</td>\n",
       "      <td>True</td>\n",
       "    </tr>\n",
       "    <tr>\n",
       "      <th>38312</th>\n",
       "      <td>30</td>\n",
       "      <td>Almond Milk Strawberry Yogurt</td>\n",
       "      <td>-0.111721</td>\n",
       "      <td>True</td>\n",
       "    </tr>\n",
       "    <tr>\n",
       "      <th>18465</th>\n",
       "      <td>1</td>\n",
       "      <td>Organic Grade A Free Range Large Brown Eggs</td>\n",
       "      <td>0.433504</td>\n",
       "      <td>True</td>\n",
       "    </tr>\n",
       "    <tr>\n",
       "      <th>48220</th>\n",
       "      <td>29</td>\n",
       "      <td>Almond Milk Peach Yogurt</td>\n",
       "      <td>-0.278320</td>\n",
       "      <td>True</td>\n",
       "    </tr>\n",
       "    <tr>\n",
       "      <th>26856</th>\n",
       "      <td>3</td>\n",
       "      <td>Organic Ezekiel 4:9 Sesame Bread</td>\n",
       "      <td>0.299067</td>\n",
       "      <td>True</td>\n",
       "    </tr>\n",
       "    <tr>\n",
       "      <th>41950</th>\n",
       "      <td>8</td>\n",
       "      <td>Organic Tomato Cluster</td>\n",
       "      <td>0.108562</td>\n",
       "      <td>True</td>\n",
       "    </tr>\n",
       "    <tr>\n",
       "      <th>33792</th>\n",
       "      <td>1</td>\n",
       "      <td>Organic Smoked Paprika</td>\n",
       "      <td>-0.805139</td>\n",
       "      <td>False</td>\n",
       "    </tr>\n",
       "    <tr>\n",
       "      <th>35725</th>\n",
       "      <td>1</td>\n",
       "      <td>Organic Oregano</td>\n",
       "      <td>0.384154</td>\n",
       "      <td>False</td>\n",
       "    </tr>\n",
       "    <tr>\n",
       "      <th>35704</th>\n",
       "      <td>1</td>\n",
       "      <td>Gluten Free Hamburger Buns</td>\n",
       "      <td>0.429119</td>\n",
       "      <td>False</td>\n",
       "    </tr>\n",
       "    <tr>\n",
       "      <th>35333</th>\n",
       "      <td>1</td>\n",
       "      <td>Seasoning Bay Leaf</td>\n",
       "      <td>0.198328</td>\n",
       "      <td>False</td>\n",
       "    </tr>\n",
       "    <tr>\n",
       "      <th>34943</th>\n",
       "      <td>2</td>\n",
       "      <td>Gluten Free Spaghetti</td>\n",
       "      <td>-0.220261</td>\n",
       "      <td>False</td>\n",
       "    </tr>\n",
       "    <tr>\n",
       "      <th>36062</th>\n",
       "      <td>2</td>\n",
       "      <td>Brown Rice Lasagna Pasta</td>\n",
       "      <td>0.272046</td>\n",
       "      <td>False</td>\n",
       "    </tr>\n",
       "    <tr>\n",
       "      <th>36036</th>\n",
       "      <td>6</td>\n",
       "      <td>Organic Orange Fruit Juice</td>\n",
       "      <td>-0.253839</td>\n",
       "      <td>False</td>\n",
       "    </tr>\n",
       "    <tr>\n",
       "      <th>36695</th>\n",
       "      <td>2</td>\n",
       "      <td>Organic Hothouse Cucumbers</td>\n",
       "      <td>-0.780124</td>\n",
       "      <td>False</td>\n",
       "    </tr>\n",
       "    <tr>\n",
       "      <th>34489</th>\n",
       "      <td>2</td>\n",
       "      <td>Almond Flour Sundried Tomato Basil Crackers</td>\n",
       "      <td>0.227276</td>\n",
       "      <td>False</td>\n",
       "    </tr>\n",
       "    <tr>\n",
       "      <th>37288</th>\n",
       "      <td>1</td>\n",
       "      <td>Organic Black Plum</td>\n",
       "      <td>1.019937</td>\n",
       "      <td>False</td>\n",
       "    </tr>\n",
       "    <tr>\n",
       "      <th>34276</th>\n",
       "      <td>1</td>\n",
       "      <td>Pecan Caramel Almond Creamer</td>\n",
       "      <td>-0.258648</td>\n",
       "      <td>False</td>\n",
       "    </tr>\n",
       "    <tr>\n",
       "      <th>34243</th>\n",
       "      <td>2</td>\n",
       "      <td>Organic Baby Broccoli</td>\n",
       "      <td>0.113077</td>\n",
       "      <td>False</td>\n",
       "    </tr>\n",
       "    <tr>\n",
       "      <th>34126</th>\n",
       "      <td>2</td>\n",
       "      <td>Organic Italian Parsley Bunch</td>\n",
       "      <td>-0.252217</td>\n",
       "      <td>False</td>\n",
       "    </tr>\n",
       "    <tr>\n",
       "      <th>...</th>\n",
       "      <td>...</td>\n",
       "      <td>...</td>\n",
       "      <td>...</td>\n",
       "      <td>...</td>\n",
       "    </tr>\n",
       "    <tr>\n",
       "      <th>26209</th>\n",
       "      <td>4</td>\n",
       "      <td>Limes</td>\n",
       "      <td>0.229126</td>\n",
       "      <td>False</td>\n",
       "    </tr>\n",
       "    <tr>\n",
       "      <th>26630</th>\n",
       "      <td>1</td>\n",
       "      <td>Organic Buckwheat Crispbread</td>\n",
       "      <td>0.241807</td>\n",
       "      <td>False</td>\n",
       "    </tr>\n",
       "    <tr>\n",
       "      <th>26805</th>\n",
       "      <td>1</td>\n",
       "      <td>Spicy Wakame Ginger Kimchi</td>\n",
       "      <td>-0.608692</td>\n",
       "      <td>False</td>\n",
       "    </tr>\n",
       "    <tr>\n",
       "      <th>27104</th>\n",
       "      <td>2</td>\n",
       "      <td>Fresh Cauliflower</td>\n",
       "      <td>-0.458558</td>\n",
       "      <td>False</td>\n",
       "    </tr>\n",
       "    <tr>\n",
       "      <th>778</th>\n",
       "      <td>1</td>\n",
       "      <td>All Natural Homestyle California Lemon Limeade</td>\n",
       "      <td>0.920616</td>\n",
       "      <td>False</td>\n",
       "    </tr>\n",
       "    <tr>\n",
       "      <th>27719</th>\n",
       "      <td>1</td>\n",
       "      <td>Organic Dried Shitake</td>\n",
       "      <td>1.114485</td>\n",
       "      <td>False</td>\n",
       "    </tr>\n",
       "    <tr>\n",
       "      <th>27744</th>\n",
       "      <td>1</td>\n",
       "      <td>Organic Whipping Cream</td>\n",
       "      <td>0.599091</td>\n",
       "      <td>False</td>\n",
       "    </tr>\n",
       "    <tr>\n",
       "      <th>22168</th>\n",
       "      <td>1</td>\n",
       "      <td>Whole Maine Cherrystone Clams</td>\n",
       "      <td>-0.699961</td>\n",
       "      <td>False</td>\n",
       "    </tr>\n",
       "    <tr>\n",
       "      <th>21910</th>\n",
       "      <td>1</td>\n",
       "      <td>Coconut Almond Creamer Blend</td>\n",
       "      <td>0.856191</td>\n",
       "      <td>False</td>\n",
       "    </tr>\n",
       "    <tr>\n",
       "      <th>17123</th>\n",
       "      <td>1</td>\n",
       "      <td>Organic Honeydew</td>\n",
       "      <td>0.903573</td>\n",
       "      <td>False</td>\n",
       "    </tr>\n",
       "    <tr>\n",
       "      <th>19162</th>\n",
       "      <td>1</td>\n",
       "      <td>Organic Sesame Tahini</td>\n",
       "      <td>-0.600928</td>\n",
       "      <td>False</td>\n",
       "    </tr>\n",
       "    <tr>\n",
       "      <th>17604</th>\n",
       "      <td>1</td>\n",
       "      <td>Sweet Dreams Organic Brown Rice Syrup</td>\n",
       "      <td>0.491828</td>\n",
       "      <td>False</td>\n",
       "    </tr>\n",
       "    <tr>\n",
       "      <th>17794</th>\n",
       "      <td>2</td>\n",
       "      <td>Carrots</td>\n",
       "      <td>-0.187280</td>\n",
       "      <td>False</td>\n",
       "    </tr>\n",
       "    <tr>\n",
       "      <th>17804</th>\n",
       "      <td>1</td>\n",
       "      <td>Pure, All-Natural Clam Juice</td>\n",
       "      <td>0.036839</td>\n",
       "      <td>False</td>\n",
       "    </tr>\n",
       "    <tr>\n",
       "      <th>18027</th>\n",
       "      <td>1</td>\n",
       "      <td>Ezekiel 4:9 Bread Organic Sprouted Whole Grain</td>\n",
       "      <td>-0.234206</td>\n",
       "      <td>False</td>\n",
       "    </tr>\n",
       "    <tr>\n",
       "      <th>18288</th>\n",
       "      <td>1</td>\n",
       "      <td>Sea Salt Potato Chips</td>\n",
       "      <td>0.527219</td>\n",
       "      <td>False</td>\n",
       "    </tr>\n",
       "    <tr>\n",
       "      <th>18638</th>\n",
       "      <td>1</td>\n",
       "      <td>Lamb Shoulder Chop</td>\n",
       "      <td>-0.030198</td>\n",
       "      <td>False</td>\n",
       "    </tr>\n",
       "    <tr>\n",
       "      <th>18689</th>\n",
       "      <td>8</td>\n",
       "      <td>Dairy-Free Chive Cream Cheese</td>\n",
       "      <td>-0.372415</td>\n",
       "      <td>False</td>\n",
       "    </tr>\n",
       "    <tr>\n",
       "      <th>19057</th>\n",
       "      <td>1</td>\n",
       "      <td>Organic Large Extra Fancy Fuji Apple</td>\n",
       "      <td>-0.186661</td>\n",
       "      <td>False</td>\n",
       "    </tr>\n",
       "    <tr>\n",
       "      <th>19519</th>\n",
       "      <td>2</td>\n",
       "      <td>Organic Bay Leaves</td>\n",
       "      <td>-0.236462</td>\n",
       "      <td>False</td>\n",
       "    </tr>\n",
       "    <tr>\n",
       "      <th>21903</th>\n",
       "      <td>7</td>\n",
       "      <td>Organic Baby Spinach</td>\n",
       "      <td>-0.376008</td>\n",
       "      <td>False</td>\n",
       "    </tr>\n",
       "    <tr>\n",
       "      <th>19678</th>\n",
       "      <td>1</td>\n",
       "      <td>Organic Russet Potato</td>\n",
       "      <td>-0.330209</td>\n",
       "      <td>False</td>\n",
       "    </tr>\n",
       "    <tr>\n",
       "      <th>20393</th>\n",
       "      <td>1</td>\n",
       "      <td>Organic Pea Shoots</td>\n",
       "      <td>0.263275</td>\n",
       "      <td>False</td>\n",
       "    </tr>\n",
       "    <tr>\n",
       "      <th>20638</th>\n",
       "      <td>1</td>\n",
       "      <td>Coconut Sugar Pure &amp; Unrefined</td>\n",
       "      <td>-0.119930</td>\n",
       "      <td>False</td>\n",
       "    </tr>\n",
       "    <tr>\n",
       "      <th>20697</th>\n",
       "      <td>2</td>\n",
       "      <td>Organic Pure Lime Juice</td>\n",
       "      <td>-0.046541</td>\n",
       "      <td>False</td>\n",
       "    </tr>\n",
       "    <tr>\n",
       "      <th>21183</th>\n",
       "      <td>4</td>\n",
       "      <td>Organic Gold Beet Bunch</td>\n",
       "      <td>0.032368</td>\n",
       "      <td>False</td>\n",
       "    </tr>\n",
       "    <tr>\n",
       "      <th>21403</th>\n",
       "      <td>1</td>\n",
       "      <td>Lemon Grass</td>\n",
       "      <td>0.029228</td>\n",
       "      <td>False</td>\n",
       "    </tr>\n",
       "    <tr>\n",
       "      <th>21839</th>\n",
       "      <td>1</td>\n",
       "      <td>Fuyu Persimmon</td>\n",
       "      <td>-0.518759</td>\n",
       "      <td>False</td>\n",
       "    </tr>\n",
       "    <tr>\n",
       "      <th>21841</th>\n",
       "      <td>1</td>\n",
       "      <td>Tortillas, Brown Rice</td>\n",
       "      <td>0.185066</td>\n",
       "      <td>False</td>\n",
       "    </tr>\n",
       "    <tr>\n",
       "      <th>49313</th>\n",
       "      <td>1</td>\n",
       "      <td>Small Pearl Tapioca</td>\n",
       "      <td>0.218542</td>\n",
       "      <td>False</td>\n",
       "    </tr>\n",
       "  </tbody>\n",
       "</table>\n",
       "<p>186 rows × 4 columns</p>\n",
       "</div>"
      ],
      "text/plain": [
       "            quantity                                       product_name  \\\n",
       "product_id                                                                \n",
       "260                1                                         Cantaloupe   \n",
       "26756              1            Light CocoWhip! Coconut Whipped Topping   \n",
       "42637              9                      Muffins, Flax, Wild Blueberry   \n",
       "12703              1                          Organic Mung-Bean Sprouts   \n",
       "13829              1                                         Mild Salsa   \n",
       "7870               4        Cinnamon Raisin Sprouted Whole Grain Cereal   \n",
       "21137              5                               Organic Strawberries   \n",
       "31618              1                        Thick Medium Cheddar Slices   \n",
       "4350               1                       Mushroom And Ricotta Ravioli   \n",
       "3464               2  Organic Butterhead (Boston, Butter, Bibb) Lettuce   \n",
       "4472              13                   Toasted Coconut Almondmilk Blend   \n",
       "39619              1                   Organic Tomato Basil Pasta Sauce   \n",
       "38312             30                      Almond Milk Strawberry Yogurt   \n",
       "18465              1        Organic Grade A Free Range Large Brown Eggs   \n",
       "48220             29                           Almond Milk Peach Yogurt   \n",
       "26856              3                   Organic Ezekiel 4:9 Sesame Bread   \n",
       "41950              8                             Organic Tomato Cluster   \n",
       "33792              1                             Organic Smoked Paprika   \n",
       "35725              1                                    Organic Oregano   \n",
       "35704              1                         Gluten Free Hamburger Buns   \n",
       "35333              1                                 Seasoning Bay Leaf   \n",
       "34943              2                              Gluten Free Spaghetti   \n",
       "36062              2                           Brown Rice Lasagna Pasta   \n",
       "36036              6                         Organic Orange Fruit Juice   \n",
       "36695              2                         Organic Hothouse Cucumbers   \n",
       "34489              2        Almond Flour Sundried Tomato Basil Crackers   \n",
       "37288              1                                 Organic Black Plum   \n",
       "34276              1                       Pecan Caramel Almond Creamer   \n",
       "34243              2                              Organic Baby Broccoli   \n",
       "34126              2                      Organic Italian Parsley Bunch   \n",
       "...              ...                                                ...   \n",
       "26209              4                                              Limes   \n",
       "26630              1                       Organic Buckwheat Crispbread   \n",
       "26805              1                         Spicy Wakame Ginger Kimchi   \n",
       "27104              2                                  Fresh Cauliflower   \n",
       "778                1     All Natural Homestyle California Lemon Limeade   \n",
       "27719              1                              Organic Dried Shitake   \n",
       "27744              1                             Organic Whipping Cream   \n",
       "22168              1                      Whole Maine Cherrystone Clams   \n",
       "21910              1                       Coconut Almond Creamer Blend   \n",
       "17123              1                                   Organic Honeydew   \n",
       "19162              1                              Organic Sesame Tahini   \n",
       "17604              1              Sweet Dreams Organic Brown Rice Syrup   \n",
       "17794              2                                            Carrots   \n",
       "17804              1                       Pure, All-Natural Clam Juice   \n",
       "18027              1     Ezekiel 4:9 Bread Organic Sprouted Whole Grain   \n",
       "18288              1                              Sea Salt Potato Chips   \n",
       "18638              1                                 Lamb Shoulder Chop   \n",
       "18689              8                      Dairy-Free Chive Cream Cheese   \n",
       "19057              1               Organic Large Extra Fancy Fuji Apple   \n",
       "19519              2                                 Organic Bay Leaves   \n",
       "21903              7                               Organic Baby Spinach   \n",
       "19678              1                              Organic Russet Potato   \n",
       "20393              1                                 Organic Pea Shoots   \n",
       "20638              1                     Coconut Sugar Pure & Unrefined   \n",
       "20697              2                            Organic Pure Lime Juice   \n",
       "21183              4                            Organic Gold Beet Bunch   \n",
       "21403              1                                        Lemon Grass   \n",
       "21839              1                                     Fuyu Persimmon   \n",
       "21841              1                              Tortillas, Brown Rice   \n",
       "49313              1                                Small Pearl Tapioca   \n",
       "\n",
       "                prob wasOrdered  \n",
       "product_id                       \n",
       "260         0.024705       True  \n",
       "26756      -1.360394       True  \n",
       "42637      -0.509345       True  \n",
       "12703       0.218673       True  \n",
       "13829      -0.515478       True  \n",
       "7870        0.294743       True  \n",
       "21137       0.224858       True  \n",
       "31618       0.253656       True  \n",
       "4350        1.178662       True  \n",
       "3464        0.559501       True  \n",
       "4472        0.001215       True  \n",
       "39619      -0.305058       True  \n",
       "38312      -0.111721       True  \n",
       "18465       0.433504       True  \n",
       "48220      -0.278320       True  \n",
       "26856       0.299067       True  \n",
       "41950       0.108562       True  \n",
       "33792      -0.805139      False  \n",
       "35725       0.384154      False  \n",
       "35704       0.429119      False  \n",
       "35333       0.198328      False  \n",
       "34943      -0.220261      False  \n",
       "36062       0.272046      False  \n",
       "36036      -0.253839      False  \n",
       "36695      -0.780124      False  \n",
       "34489       0.227276      False  \n",
       "37288       1.019937      False  \n",
       "34276      -0.258648      False  \n",
       "34243       0.113077      False  \n",
       "34126      -0.252217      False  \n",
       "...              ...        ...  \n",
       "26209       0.229126      False  \n",
       "26630       0.241807      False  \n",
       "26805      -0.608692      False  \n",
       "27104      -0.458558      False  \n",
       "778         0.920616      False  \n",
       "27719       1.114485      False  \n",
       "27744       0.599091      False  \n",
       "22168      -0.699961      False  \n",
       "21910       0.856191      False  \n",
       "17123       0.903573      False  \n",
       "19162      -0.600928      False  \n",
       "17604       0.491828      False  \n",
       "17794      -0.187280      False  \n",
       "17804       0.036839      False  \n",
       "18027      -0.234206      False  \n",
       "18288       0.527219      False  \n",
       "18638      -0.030198      False  \n",
       "18689      -0.372415      False  \n",
       "19057      -0.186661      False  \n",
       "19519      -0.236462      False  \n",
       "21903      -0.376008      False  \n",
       "19678      -0.330209      False  \n",
       "20393       0.263275      False  \n",
       "20638      -0.119930      False  \n",
       "20697      -0.046541      False  \n",
       "21183       0.032368      False  \n",
       "21403       0.029228      False  \n",
       "21839      -0.518759      False  \n",
       "21841       0.185066      False  \n",
       "49313       0.218542      False  \n",
       "\n",
       "[186 rows x 4 columns]"
      ]
     },
     "execution_count": 256,
     "metadata": {},
     "output_type": "execute_result"
    }
   ],
   "source": [
    "b"
   ]
  },
  {
   "cell_type": "code",
   "execution_count": null,
   "metadata": {
    "collapsed": true
   },
   "outputs": [],
   "source": []
  }
 ],
 "metadata": {
  "kernelspec": {
   "display_name": "Python 2",
   "language": "python",
   "name": "python2"
  },
  "language_info": {
   "codemirror_mode": {
    "name": "ipython",
    "version": 2
   },
   "file_extension": ".py",
   "mimetype": "text/x-python",
   "name": "python",
   "nbconvert_exporter": "python",
   "pygments_lexer": "ipython2",
   "version": "2.7.13"
  }
 },
 "nbformat": 4,
 "nbformat_minor": 2
}
