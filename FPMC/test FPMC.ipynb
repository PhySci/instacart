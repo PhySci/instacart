{
 "cells": [
  {
   "cell_type": "code",
   "execution_count": 15,
   "metadata": {
    "collapsed": false
   },
   "outputs": [],
   "source": [
    "import pandas as pd\n",
    "import numpy as np\n",
    "import pickle\n",
    "from FPMC import FPMC as FM\n",
    "import dill\n",
    "import matplotlib.pyplot as plt\n",
    "from sklearn.metrics import roc_curve\n",
    "\n",
    "%matplotlib inline"
   ]
  },
  {
   "cell_type": "code",
   "execution_count": 10,
   "metadata": {
    "collapsed": false
   },
   "outputs": [],
   "source": [
    "fName = 'tesModel3.pcl'\n",
    "obj = FM()\n",
    "obj.load(fName)"
   ]
  },
  {
   "cell_type": "code",
   "execution_count": 3,
   "metadata": {
    "collapsed": true
   },
   "outputs": [],
   "source": [
    "# import products description\n",
    "products    =  pd.read_csv('../data/products.csv',index_col='product_id')"
   ]
  },
  {
   "cell_type": "code",
   "execution_count": 4,
   "metadata": {
    "collapsed": false
   },
   "outputs": [
    {
     "name": "stderr",
     "output_type": "stream",
     "text": [
      "/home/frodos/anaconda/lib/python2.7/site-packages/numpy/lib/arraysetops.py:395: FutureWarning: elementwise comparison failed; returning scalar instead, but in the future will perform elementwise comparison\n",
      "  mask |= (ar1 == a)\n"
     ]
    }
   ],
   "source": [
    "orders = pd.read_csv('../data/orders.csv',index_col = 'order_id',\n",
    "                     usecols = ['order_id','user_id','eval_set','order_number','days_since_prior_order'])\n",
    "\n",
    "usecols = ['order_id','product_id']\n",
    "items = pd.concat([pd.read_csv('../data/order_products__train.csv',usecols = usecols),\n",
    "                   pd.read_csv('../data/order_products__prior.csv',usecols = usecols)])"
   ]
  },
  {
   "cell_type": "code",
   "execution_count": 16,
   "metadata": {
    "collapsed": false
   },
   "outputs": [],
   "source": [
    "def testModel(tUser):\n",
    "    tOrders = orders.query('user_id == @tUser')\n",
    "    testOrder = tOrders.query(\"eval_set != 'prior'\")\n",
    "\n",
    "    if testOrder.eval_set.values == 'test':\n",
    "        print 'Test user'\n",
    "        return\n",
    "    else:\n",
    "        testOrderId = testOrder.index.values\n",
    "\n",
    "    # train the model\n",
    "    prevOrderId = tOrders.query('order_number == 1').index.values\n",
    "    prevBasket = items.query('order_id == @prevOrderId').product_id.values\n",
    "\n",
    "    for newOrderId in tOrders.index.values[1:-1]:\n",
    "        #print 'Order id is', newOrderId\n",
    "        newBasket = items.query('order_id == @newOrderId').product_id.values\n",
    "        obj.addOrder(tUser,newBasket,prevBasket,iterations = 1e4)\n",
    "        prevBasket = newBasket\n",
    "\n",
    "    testBasket = items.query('order_id == @testOrderId').product_id.values\n",
    "\n",
    "    ordIds = tOrders.index.values[:-1]\n",
    "    fullBasket = items.query('order_id in @ordIds').drop_duplicates('product_id')\n",
    "    fullBasket = fullBasket.merge(products,left_on='product_id',right_index=True).drop(['aisle_id','department_id'],axis = 1) \n",
    "\n",
    "    for k ,v in fullBasket.iterrows():\n",
    "        fullBasket.loc[k,'prob'] =  obj.getProbability(basket=prevBasket, item=v.product_id, user=tUser)\n",
    "        fullBasket.loc[k,'wasOrdered'] = v.product_id in testBasket\n",
    "        \n",
    "    fullBasket.sort_values('wasOrdered',ascending=True,inplace=True) \n",
    "    return [fullBasket, roc_curve(fullBasket.wasOrdered,fullBasket.prob)] "
   ]
  },
  {
   "cell_type": "code",
   "execution_count": 38,
   "metadata": {
    "collapsed": false
   },
   "outputs": [
    {
     "data": {
      "text/plain": [
       "[<matplotlib.lines.Line2D at 0x7fdab0c43850>]"
      ]
     },
     "execution_count": 38,
     "metadata": {},
     "output_type": "execute_result"
    },
    {
     "data": {
      "image/png": "[encoded data removed]",
      "text/plain": [
       "<matplotlib.figure.Figure at 0x7fdab0dd3c90>"
      ]
     },
     "metadata": {},
     "output_type": "display_data"
    }
   ],
   "source": [
    "obj.load(fName)\n",
    "obj.setNormalization(1)\n",
    "c = testModel(50)\n",
    "fpr, tpr, thresholds = c[1]\n",
    "plt.plot(fpr,tpr)"
   ]
  },
  {
   "cell_type": "code",
   "execution_count": 39,
   "metadata": {
    "collapsed": false
   },
   "outputs": [
    {
     "data": {
      "text/plain": [
       "[<matplotlib.lines.Line2D at 0x7fdab0bf2fd0>]"
      ]
     },
     "execution_count": 39,
     "metadata": {},
     "output_type": "execute_result"
    },
    {
     "data": {
      "image/png": "[encoded data removed]",
      "text/plain": [
       "<matplotlib.figure.Figure at 0x7fdaba96dc90>"
      ]
     },
     "metadata": {},
     "output_type": "display_data"
    }
   ],
   "source": [
    "obj.load(fName)\n",
    "obj.setNormalization(2)\n",
    "c = testModel(50)\n",
    "fpr, tpr, thresholds = c[1]\n",
    "plt.plot(fpr,tpr)"
   ]
  },
  {
   "cell_type": "code",
   "execution_count": 40,
   "metadata": {
    "collapsed": false
   },
   "outputs": [
    {
     "data": {
      "text/plain": [
       "[<matplotlib.lines.Line2D at 0x7fdab0b31890>]"
      ]
     },
     "execution_count": 40,
     "metadata": {},
     "output_type": "execute_result"
    },
    {
     "data": {
      "image/png": "[encoded data removed]",
      "text/plain": [
       "<matplotlib.figure.Figure at 0x7fdab0b98990>"
      ]
     },
     "metadata": {},
     "output_type": "display_data"
    }
   ],
   "source": [
    "obj.load(fName)\n",
    "obj.setNormalization(5)\n",
    "c = testModel(50)\n",
    "fpr, tpr, thresholds = c[1]\n",
    "plt.plot(fpr,tpr)"
   ]
  },
  {
   "cell_type": "code",
   "execution_count": 41,
   "metadata": {
    "collapsed": false
   },
   "outputs": [
    {
     "data": {
      "text/plain": [
       "[<matplotlib.lines.Line2D at 0x7fdab0a63ad0>]"
      ]
     },
     "execution_count": 41,
     "metadata": {},
     "output_type": "execute_result"
    },
    {
     "data": {
      "image/png": "[encoded data removed]",
      "text/plain": [
       "<matplotlib.figure.Figure at 0x7fdab0ae8690>"
      ]
     },
     "metadata": {},
     "output_type": "display_data"
    }
   ],
   "source": [
    "obj.load(fName)\n",
    "obj.setNormalization(0.1)\n",
    "c = testModel(50)\n",
    "fpr, tpr, thresholds = c[1]\n",
    "plt.plot(fpr,tpr)"
   ]
  },
  {
   "cell_type": "code",
   "execution_count": null,
   "metadata": {
    "collapsed": true
   },
   "outputs": [],
   "source": []
  }
 ],
 "metadata": {
  "kernelspec": {
   "display_name": "Python 2",
   "language": "python",
   "name": "python2"
  },
  "language_info": {
   "codemirror_mode": {
    "name": "ipython",
    "version": 2
   },
   "file_extension": ".py",
   "mimetype": "text/x-python",
   "name": "python",
   "nbconvert_exporter": "python",
   "pygments_lexer": "ipython2",
   "version": "2.7.13"
  }
 },
 "nbformat": 4,
 "nbformat_minor": 2
}
