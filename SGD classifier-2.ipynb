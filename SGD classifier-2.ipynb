{
 "cells": [
  {
   "cell_type": "code",
   "execution_count": 66,
   "metadata": {
    "collapsed": false
   },
   "outputs": [],
   "source": [
    "# import libraries\n",
    "import pandas as pd\n",
    "import numpy as np\n",
    "import matplotlib.pyplot as plt\n",
    "from sklearn import linear_model as LM\n",
    "from sklearn import preprocessing as prp\n",
    "from sklearn.metrics import f1_score\n",
    "from sklearn.model_selection import GridSearchCV, cross_val_score, StratifiedKFold\n",
    "from sklearn.tree import DecisionTreeClassifier\n",
    "\n",
    "np.seterr(divide = 'raise')\n",
    "%matplotlib inline"
   ]
  },
  {
   "cell_type": "markdown",
   "metadata": {},
   "source": [
    "## идея работы такая:\n",
    "1) подгружаем данные из hdf файла\n",
    "\n",
    "2) обучаем SGD classifier на имеющемся объёме данных\n",
    "\n",
    "3) Тестируем полученную модель:\n",
    "    - оформить всю процедуру от исходных сырых данных до конечного сета features в удобоваримый функционал\n",
    "    - случайно выбираем пользователя \n",
    "    - получить предсказания модели\n",
    "    - оценки модели"
   ]
  },
  {
   "cell_type": "code",
   "execution_count": 2,
   "metadata": {
    "collapsed": false
   },
   "outputs": [],
   "source": [
    "# import products description\n",
    "products    =  pd.read_csv('./data/products.csv',index_col='product_id')\n",
    "aisles      =  pd.read_csv('./data/aisles.csv',index_col = 'aisle_id')\n",
    "departments =  pd.read_csv('./data/departments.csv', index_col = 'department_id')\n",
    "\n",
    "aislesList = np.hstack([np.zeros(1), aisles.index.values])\n",
    "departmentsList = departments.index.values"
   ]
  },
  {
   "cell_type": "code",
   "execution_count": 3,
   "metadata": {
    "collapsed": false
   },
   "outputs": [
    {
     "name": "stdout",
     "output_type": "stream",
     "text": [
      "(742262, 6)\n"
     ]
    }
   ],
   "source": [
    "trainFile = \"w:\\Fedor\\Kaggel\\instacart\\\\newFeatures2.hdf\"\n",
    "trainDf = pd.read_hdf(trainFile)\n",
    "trainDf.reset_index(drop=True,inplace=True)\n",
    "print  trainDf.shape"
   ]
  },
  {
   "cell_type": "code",
   "execution_count": 30,
   "metadata": {
    "collapsed": true
   },
   "outputs": [],
   "source": [
    "def preprocessData(inp):\n",
    "    df = inp.merge(products,left_on='product_id',right_index=True)\n",
    "    df = df.assign(decay = df.lastOrder/df.periodicity).replace([np.inf, -np.inf], 0)\n",
    "    df.fillna(0,inplace=True)\n",
    "    df.reset_index(drop=True,inplace=True)\n",
    "    aisleEncoder =  prp.OneHotEncoder(sparse = False,n_values=aislesList.shape[0])\n",
    "    \n",
    "    aisleDf = pd.DataFrame(\n",
    "        aisleEncoder.fit_transform(df.loc[:,'aisle_id'].values.reshape(-1, 1)),\n",
    "        columns =['aisle_'+str(int(x)) for x in aislesList])\n",
    "    \n",
    "    aisleDf.drop('aisle_0', axis = 1, inplace=True)\n",
    "    \n",
    "    df = df.merge(aisleDf,left_index=True,right_index =True)\n",
    "    X  = df.drop(['product_id','product_name','aisle_id','department_id'],axis = 1)\n",
    "    \n",
    "    return X"
   ]
  },
  {
   "cell_type": "code",
   "execution_count": 62,
   "metadata": {
    "collapsed": false
   },
   "outputs": [],
   "source": [
    "def calcf1Score(uGr):\n",
    "    intersection = float((uGr.wasOrdered & uGr.wasPredicted).sum())\n",
    "    predicted = uGr.wasPredicted.sum() \n",
    "\n",
    "    if predicted:\n",
    "        precession   = intersection/predicted    \n",
    "    else:\n",
    "        precession  = 0.0\n",
    "\n",
    "    basketSize = uGr.wasOrdered.sum()\n",
    "\n",
    "    if basketSize:\n",
    "        recall = intersection/basketSize\n",
    "    else:\n",
    "        recall = 0.0\n",
    "\n",
    "    if (bool(precession) | bool(recall)):\n",
    "        f1 = 2*precession*recall/(precession+recall)\n",
    "    else:\n",
    "        f1 = 0.0\n",
    "    return f1"
   ]
  },
  {
   "cell_type": "code",
   "execution_count": 37,
   "metadata": {
    "collapsed": false
   },
   "outputs": [],
   "source": [
    "X = preprocessData(trainDf.drop(['wasOrdered'],axis = 1))\n",
    "y = trainDf.wasOrdered.apply(lambda x: 1 if x else 0)"
   ]
  },
  {
   "cell_type": "code",
   "execution_count": 63,
   "metadata": {
    "collapsed": true
   },
   "outputs": [],
   "source": [
    "def testModel(estimator,X,y,n_splits = 3):\n",
    "    skf = StratifiedKFold(n_splits = n_splits,random_state=None, shuffle=False)\n",
    "    \n",
    "    for train_index, test_index in skf.split(X, y):\n",
    "        print 'Fold' \n",
    "        # split folds\n",
    "        X_train, X_test = X.iloc[train_index,:], X.iloc[test_index,:]\n",
    "        y_train, y_test = y[train_index], y[test_index]\n",
    "        # fit and predict\n",
    "        estimator.fit(X_train.drop('userId',axis = 1),y_train)\n",
    "        y_pr = estimator.predict(X_test.drop('userId',axis = 1))\n",
    "        \n",
    "        # estimate quality\n",
    "        \n",
    "        userGroups = X_test.assign(wasPredicted = y_pr.astype(bool), \n",
    "                                   wasOrdered = y_test ).groupby('userId')\n",
    "        f1 = userGroups.apply(lambda x: calcf1Score(x))\n",
    "        #print f1\n",
    "        print f1.mean()"
   ]
  },
  {
   "cell_type": "markdown",
   "metadata": {},
   "source": [
    "# SGD classifier"
   ]
  },
  {
   "cell_type": "code",
   "execution_count": 65,
   "metadata": {
    "collapsed": false
   },
   "outputs": [
    {
     "name": "stdout",
     "output_type": "stream",
     "text": [
      "Fold\n",
      "0.0027140509516\n",
      "Fold\n",
      "0.000483714466619\n",
      "Fold\n",
      "0.0373068463813\n"
     ]
    }
   ],
   "source": [
    "classifier = LM.SGDClassifier()\n",
    "testModel(classifier,X,y)"
   ]
  },
  {
   "cell_type": "markdown",
   "metadata": {},
   "source": [
    "## Decision tree"
   ]
  },
  {
   "cell_type": "code",
   "execution_count": null,
   "metadata": {
    "collapsed": false
   },
   "outputs": [
    {
     "name": "stdout",
     "output_type": "stream",
     "text": [
      "Fold\n"
     ]
    }
   ],
   "source": [
    "tree = DecisionTreeClassifier()\n",
    "testModel(tree,X,y)"
   ]
  },
  {
   "cell_type": "code",
   "execution_count": 7,
   "metadata": {
    "collapsed": false
   },
   "outputs": [
    {
     "name": "stdout",
     "output_type": "stream",
     "text": [
      "0.0\n"
     ]
    },
    {
     "data": {
      "text/plain": [
       "(array([  46711.,       0.,       0.,       0.,       0.,       0.,\n",
       "              0.,       0.,       0.,  695551.]),\n",
       " array([-1. , -0.9, -0.8, -0.7, -0.6, -0.5, -0.4, -0.3, -0.2, -0.1,  0. ]),\n",
       " <a list of 10 Patch objects>)"
      ]
     },
     "execution_count": 7,
     "metadata": {},
     "output_type": "execute_result"
    },
    {
     "data": {
      "image/png": "[encoded data removed]",
      "text/plain": [
       "<matplotlib.figure.Figure at 0xd0845f8>"
      ]
     },
     "metadata": {},
     "output_type": "display_data"
    }
   ],
   "source": [
    "# create SGD classifier\n",
    "classifier.fit(features,ans);\n",
    "y_pr = classifier.predict(features) \n",
    "print f1_score(ans,y_pr)\n",
    "\n"
   ]
  },
  {
   "cell_type": "markdown",
   "metadata": {},
   "source": [
    "## Что надо делать?\n",
    "Оценка эффективности модели. Как?\n",
    "Предсказания надо конвертнуть в структуру, содержащую информацию о пользователе. Сгруппировать по пользователям, посчитать для каждого f1 score, вычислить среднее значение."
   ]
  },
  {
   "cell_type": "code",
   "execution_count": null,
   "metadata": {
    "collapsed": true
   },
   "outputs": [],
   "source": [
    "# на вход поступает trainDf и ответы y_pr"
   ]
  },
  {
   "cell_type": "code",
   "execution_count": null,
   "metadata": {
    "collapsed": false
   },
   "outputs": [],
   "source": [
    "y_pr = classifier.predict(features) \n"
   ]
  },
  {
   "cell_type": "code",
   "execution_count": null,
   "metadata": {
    "collapsed": false
   },
   "outputs": [],
   "source": []
  },
  {
   "cell_type": "code",
   "execution_count": null,
   "metadata": {
    "collapsed": true
   },
   "outputs": [],
   "source": [
    "def save2File(fName,df):\n",
    "    f = open(fName,'w')\n",
    "    f.write('order_id,products\\n')\n",
    "    np.set_printoptions(linewidth = 500)\n",
    "    for key, val in df.iteritems():\n",
    "        k = np.array2string(val[1])[1:-1]+'\\n'\n",
    "        s = str(val[0])+','+k\n",
    "        f.write(s)\n",
    "    f.close()\n",
    "    np.set_printoptions(linewidth = 75)"
   ]
  },
  {
   "cell_type": "code",
   "execution_count": null,
   "metadata": {
    "collapsed": true
   },
   "outputs": [],
   "source": [
    "def f1Score(y_true, y_pred):\n",
    "    fullSet      = np.unique(np.hstack((y_pred,y_true)))\n",
    "    intersection = np.intersect1d(y_true,y_pred).size\n",
    "    precession   = intersection/float(y_pred.shape[0])\n",
    "    recall       = intersection/float(y_true.shape[0])\n",
    "    try:\n",
    "        f1 = 2*precession*recall/(precession+recall)\n",
    "    except ZeroDivisionError:\n",
    "        f1 = 0\n",
    "    return [precession, recall, f1]"
   ]
  },
  {
   "cell_type": "code",
   "execution_count": null,
   "metadata": {
    "collapsed": true
   },
   "outputs": [],
   "source": [
    "orders = pd.read_csv('./data/orders.csv',index_col = 'order_id',usecols = ['order_id','user_id','eval_set','order_number','days_since_prior_order'])\n",
    "orders.loc[:,'days_since_prior_order'].fillna(0,inplace = True) \n",
    "orders = orders.assign(date = orders.groupby('user_id').days_since_prior_order.transform(np.cumsum))"
   ]
  },
  {
   "cell_type": "code",
   "execution_count": null,
   "metadata": {
    "collapsed": false
   },
   "outputs": [],
   "source": [
    "# now I want to test the model\n",
    "trainUserId = orders.query(\"eval_set == 'train'\").user_id.values\n",
    "#testPriorOrderId = orders.query(\"(eval_set =='prior') and user_id in @testUsers\").index.values\n",
    "#testPriorSet = prior.query('order_id in @testPriorOrderId')"
   ]
  },
  {
   "cell_type": "code",
   "execution_count": null,
   "metadata": {
    "collapsed": false
   },
   "outputs": [],
   "source": [
    "testUsers = trainUserId[-50:-10]\n",
    "testOrders = orders.query('user_id in @testUsers')"
   ]
  },
  {
   "cell_type": "code",
   "execution_count": null,
   "metadata": {
    "collapsed": false
   },
   "outputs": [],
   "source": [
    "usecols = ['order_id','product_id']\n",
    "items = pd.concat([pd.read_csv('./data/order_products__train.csv',usecols = usecols),\n",
    "                   pd.read_csv('./data/order_products__prior.csv',usecols = usecols)])"
   ]
  },
  {
   "cell_type": "code",
   "execution_count": null,
   "metadata": {
    "collapsed": false
   },
   "outputs": [],
   "source": [
    "newDf = pd.DataFrame(columns = ['product_id','periodicity','absCount','lastOrder','wasOrdered'])\n",
    "for tId, userGroup in testOrders.groupby('user_id'):\n",
    "    print tId\n",
    "    # вот это можно вычислить один раз для пользователя\n",
    "    trainOrder = userGroup.query(\"eval_set != 'prior'\")\n",
    "    trainOrderDay = trainOrder.date.values\n",
    "\n",
    "    # получаем предзаказы\n",
    "    preOrders = userGroup.query(\"eval_set == 'prior' \").fillna(0).merge(\n",
    "        items,left_index=True,right_on='order_id',copy = False,how='inner')\n",
    "\n",
    "    fullBasket = preOrders.product_id.unique()\n",
    "\n",
    "    r2 = preOrders.groupby('product_id').agg(\n",
    "        {'date': lambda x: np.diff(x.values).mean(),\n",
    "         'order_number': lambda x: x.shape[0]}\n",
    "        ).rename(columns={'date': 'periodicity','order_number':'absCount'})\n",
    "\n",
    "    r3 = preOrders.groupby('product_id').agg(\n",
    "        {'date': lambda x: int(trainOrderDay - x.iloc[-1])}\n",
    "        ).rename(columns={'date':'lastOrder'})\n",
    "\n",
    "    r2 = r2.merge(r3,left_index=True,right_index=True)\n",
    "    r2.reset_index(inplace=True)\n",
    "    \n",
    "    trainBasket = list(userGroup.query(\"(user_id == @tId) and eval_set != 'prior' \").fillna(0).merge(\n",
    "        items,left_index=True,right_on='order_id',copy = False,how='inner').product_id.unique())\n",
    "\n",
    "    r2 = r2.assign(wasOrdered = r2.product_id.apply(lambda x: x in trainBasket))\n",
    "    # теперь можно рассчитать популярность каждого продукта в процентах\n",
    "    #r2 = r2.assign(decay = r2.lastOrder/r2.periodicity)\n",
    "    r2 = r2.assign(userId = tId)\n",
    "    r2.fillna(0,inplace=True)\n",
    "    r2.replace(np.inf,0,inplace=True)\n",
    "    #r2.merge(products,left_on='product_id',right_index=True)\n",
    "    #r2.to_hdf('newFeatures.hdf', 'features', format = 'table',append = True)\n",
    "    newDf = pd.concat([newDf,r2])"
   ]
  },
  {
   "cell_type": "code",
   "execution_count": null,
   "metadata": {
    "collapsed": false
   },
   "outputs": [],
   "source": [
    "features_test = preprocessData(newDf.drop(['wasOrdered'],axis = 1))\n",
    "ans_test = newDf.wasOrdered.apply(lambda x: 1 if x else 0)"
   ]
  },
  {
   "cell_type": "code",
   "execution_count": null,
   "metadata": {
    "collapsed": false
   },
   "outputs": [],
   "source": [
    "(classifier.predict(features)==ans).hist()"
   ]
  },
  {
   "cell_type": "code",
   "execution_count": null,
   "metadata": {
    "collapsed": false
   },
   "outputs": [],
   "source": [
    "(classifier.predict(features_test)==ans_test).hist()"
   ]
  },
  {
   "cell_type": "code",
   "execution_count": 16,
   "metadata": {
    "collapsed": false
   },
   "outputs": [
    {
     "ename": "NameError",
     "evalue": "name 'f1' is not defined",
     "output_type": "error",
     "traceback": [
      "\u001b[0;31m---------------------------------------------------------------------------\u001b[0m",
      "\u001b[0;31mNameError\u001b[0m                                 Traceback (most recent call last)",
      "\u001b[0;32m<ipython-input-16-2b1abc6b6c5c>\u001b[0m in \u001b[0;36m<module>\u001b[0;34m()\u001b[0m\n\u001b[0;32m----> 1\u001b[0;31m \u001b[0mf1\u001b[0m\u001b[1;33m\u001b[0m\u001b[0m\n\u001b[0m",
      "\u001b[0;31mNameError\u001b[0m: name 'f1' is not defined"
     ]
    }
   ],
   "source": [
    "f1"
   ]
  },
  {
   "cell_type": "code",
   "execution_count": null,
   "metadata": {
    "collapsed": true
   },
   "outputs": [],
   "source": []
  }
 ],
 "metadata": {
  "kernelspec": {
   "display_name": "Python 2",
   "language": "python",
   "name": "python2"
  },
  "language_info": {
   "codemirror_mode": {
    "name": "ipython",
    "version": 2
   },
   "file_extension": ".py",
   "mimetype": "text/x-python",
   "name": "python",
   "nbconvert_exporter": "python",
   "pygments_lexer": "ipython2",
   "version": "2.7.13"
  }
 },
 "nbformat": 4,
 "nbformat_minor": 2
}
