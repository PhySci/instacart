{
 "cells": [
  {
   "cell_type": "code",
   "execution_count": 1,
   "metadata": {
    "collapsed": false
   },
   "outputs": [],
   "source": [
    "# import libraries\n",
    "import pandas as pd\n",
    "import numpy as np\n",
    "import matplotlib.pyplot as plt\n",
    "from sklearn import linear_model as LM\n",
    "from sklearn import preprocessing as prp\n",
    "from sklearn.metrics import f1_score\n",
    "from sklearn.model_selection import cross_val_score\n",
    "%matplotlib inline"
   ]
  },
  {
   "cell_type": "markdown",
   "metadata": {},
   "source": [
    "## идея работы такая:\n",
    "1) подгружаем данные из hdf файла\n",
    "\n",
    "2) обучаем SGD classifier на имеющемся объёме данных\n",
    "\n",
    "3) Тестируем полученную модель:\n",
    "    - оформить всю процедуру от исходных сырых данных до конечного сета features в удобоваримый функционал\n",
    "    - случайно выбираем пользователя \n",
    "    - получить предсказания модели\n",
    "    - оценки модели"
   ]
  },
  {
   "cell_type": "code",
   "execution_count": 2,
   "metadata": {
    "collapsed": true
   },
   "outputs": [],
   "source": [
    "# import products description\n",
    "products    =  pd.read_csv('./data/products.csv',index_col='product_id')\n",
    "aisles      =  pd.read_csv('./data/aisles.csv',index_col = 'aisle_id')\n",
    "departments =  pd.read_csv('./data/departments.csv', index_col = 'department_id')\n",
    "\n",
    "aislesList = np.hstack([np.zeros(1), aisles.index.values])\n",
    "departmentsList = departments.index.values"
   ]
  },
  {
   "cell_type": "code",
   "execution_count": 3,
   "metadata": {
    "collapsed": true
   },
   "outputs": [],
   "source": [
    "def preprocessData(inp):\n",
    "    df = inp.merge(products,left_on='product_id',right_index=True)\n",
    "    df = df.assign(decay = df.lastOrder/df.periodicity).replace([np.inf, -np.inf], 0)\n",
    "    df.fillna(0,inplace=True)\n",
    "    df.reset_index(drop=True,inplace=True)\n",
    "    aisleEncoder =  prp.OneHotEncoder(sparse = False,n_values=aislesList.shape[0])\n",
    "    \n",
    "    aisleDf = pd.DataFrame(\n",
    "        aisleEncoder.fit_transform(df.loc[:,'aisle_id'].values.reshape(-1, 1)),\n",
    "        columns =['aisle_'+str(int(x)) for x in aislesList])\n",
    "    \n",
    "    aisleDf.drop('aisle_0', axis = 1, inplace=True)\n",
    "    \n",
    "    df = df.merge(aisleDf,left_index=True,right_index =True)\n",
    "    X  = df.drop(['product_id','userId','product_name','aisle_id','department_id'],axis = 1)\n",
    "    \n",
    "    return X"
   ]
  },
  {
   "cell_type": "code",
   "execution_count": 5,
   "metadata": {
    "collapsed": false
   },
   "outputs": [
    {
     "name": "stderr",
     "output_type": "stream",
     "text": [
      "/home/frodos/anaconda/lib/python2.7/site-packages/tables/group.py:1187: UserWarning: problems loading leaf ``/features/table``::\n",
      "\n",
      "  HDF5 error back trace\n",
      "\n",
      "  File \"H5Dio.c\", line 173, in H5Dread\n",
      "    can't read data\n",
      "  File \"H5Dio.c\", line 554, in H5D__read\n",
      "    can't read data\n",
      "  File \"H5Dchunk.c\", line 1875, in H5D__chunk_read\n",
      "    unable to read raw data chunk\n",
      "  File \"H5Dchunk.c\", line 2900, in H5D__chunk_lock\n",
      "    unable to read raw data chunk\n",
      "  File \"H5Fio.c\", line 120, in H5F_block_read\n",
      "    read through metadata accumulator failed\n",
      "  File \"H5Faccum.c\", line 263, in H5F__accum_read\n",
      "    driver read request failed\n",
      "  File \"H5FDint.c\", line 207, in H5FD_read\n",
      "    addr overflow, addr = 45007288, size=620, eoa=44934894\n",
      "\n",
      "End of HDF5 error back trace\n",
      "\n",
      "Problems reading the array data.\n",
      "\n",
      "The leaf will become an ``UnImplemented`` node.\n",
      "  % (self._g_join(childname), exc))\n"
     ]
    },
    {
     "ename": "AttributeError",
     "evalue": "'UnImplemented' object has no attribute 'description'",
     "output_type": "error",
     "traceback": [
      "\u001b[0;31m---------------------------------------------------------------------------\u001b[0m",
      "\u001b[0;31mAttributeError\u001b[0m                            Traceback (most recent call last)",
      "\u001b[0;32m<ipython-input-5-bbb153c2b86b>\u001b[0m in \u001b[0;36m<module>\u001b[0;34m()\u001b[0m\n\u001b[1;32m      1\u001b[0m \u001b[0mtrainFile\u001b[0m \u001b[0;34m=\u001b[0m \u001b[0;34m\"newFeatures2.hdf\"\u001b[0m\u001b[0;34m\u001b[0m\u001b[0m\n\u001b[0;32m----> 2\u001b[0;31m \u001b[0mtrainDf\u001b[0m \u001b[0;34m=\u001b[0m \u001b[0mpd\u001b[0m\u001b[0;34m.\u001b[0m\u001b[0mread_hdf\u001b[0m\u001b[0;34m(\u001b[0m\u001b[0mtrainFile\u001b[0m\u001b[0;34m)\u001b[0m\u001b[0;34m\u001b[0m\u001b[0m\n\u001b[0m\u001b[1;32m      3\u001b[0m \u001b[0mtrainDf\u001b[0m\u001b[0;34m.\u001b[0m\u001b[0mreset_index\u001b[0m\u001b[0;34m(\u001b[0m\u001b[0mdrop\u001b[0m\u001b[0;34m=\u001b[0m\u001b[0mTrue\u001b[0m\u001b[0;34m,\u001b[0m\u001b[0minplace\u001b[0m\u001b[0;34m=\u001b[0m\u001b[0mTrue\u001b[0m\u001b[0;34m)\u001b[0m\u001b[0;34m\u001b[0m\u001b[0m\n\u001b[1;32m      4\u001b[0m \u001b[0;32mprint\u001b[0m  \u001b[0mtrainDf\u001b[0m\u001b[0;34m.\u001b[0m\u001b[0mshape\u001b[0m\u001b[0;34m\u001b[0m\u001b[0m\n\u001b[1;32m      5\u001b[0m \u001b[0mfeatures\u001b[0m \u001b[0;34m=\u001b[0m \u001b[0mpreprocessData\u001b[0m\u001b[0;34m(\u001b[0m\u001b[0mtrainDf\u001b[0m\u001b[0;34m.\u001b[0m\u001b[0mdrop\u001b[0m\u001b[0;34m(\u001b[0m\u001b[0;34m[\u001b[0m\u001b[0;34m'wasOrdered'\u001b[0m\u001b[0;34m]\u001b[0m\u001b[0;34m,\u001b[0m\u001b[0maxis\u001b[0m \u001b[0;34m=\u001b[0m \u001b[0;36m1\u001b[0m\u001b[0;34m)\u001b[0m\u001b[0;34m)\u001b[0m\u001b[0;34m\u001b[0m\u001b[0m\n",
      "\u001b[0;32m/home/frodos/anaconda/lib/python2.7/site-packages/pandas/io/pytables.pyc\u001b[0m in \u001b[0;36mread_hdf\u001b[0;34m(path_or_buf, key, **kwargs)\u001b[0m\n\u001b[1;32m    356\u001b[0m                                      'contains multiple datasets.')\n\u001b[1;32m    357\u001b[0m             \u001b[0mkey\u001b[0m \u001b[0;34m=\u001b[0m \u001b[0mcandidate_only_group\u001b[0m\u001b[0;34m.\u001b[0m\u001b[0m_v_pathname\u001b[0m\u001b[0;34m\u001b[0m\u001b[0m\n\u001b[0;32m--> 358\u001b[0;31m         \u001b[0;32mreturn\u001b[0m \u001b[0mstore\u001b[0m\u001b[0;34m.\u001b[0m\u001b[0mselect\u001b[0m\u001b[0;34m(\u001b[0m\u001b[0mkey\u001b[0m\u001b[0;34m,\u001b[0m \u001b[0mauto_close\u001b[0m\u001b[0;34m=\u001b[0m\u001b[0mauto_close\u001b[0m\u001b[0;34m,\u001b[0m \u001b[0;34m**\u001b[0m\u001b[0mkwargs\u001b[0m\u001b[0;34m)\u001b[0m\u001b[0;34m\u001b[0m\u001b[0m\n\u001b[0m\u001b[1;32m    359\u001b[0m     \u001b[0;32mexcept\u001b[0m\u001b[0;34m:\u001b[0m\u001b[0;34m\u001b[0m\u001b[0m\n\u001b[1;32m    360\u001b[0m         \u001b[0;31m# if there is an error, close the store\u001b[0m\u001b[0;34m\u001b[0m\u001b[0;34m\u001b[0m\u001b[0m\n",
      "\u001b[0;32m/home/frodos/anaconda/lib/python2.7/site-packages/pandas/io/pytables.pyc\u001b[0m in \u001b[0;36mselect\u001b[0;34m(self, key, where, start, stop, columns, iterator, chunksize, auto_close, **kwargs)\u001b[0m\n\u001b[1;32m    707\u001b[0m         \u001b[0mwhere\u001b[0m \u001b[0;34m=\u001b[0m \u001b[0m_ensure_term\u001b[0m\u001b[0;34m(\u001b[0m\u001b[0mwhere\u001b[0m\u001b[0;34m,\u001b[0m \u001b[0mscope_level\u001b[0m\u001b[0;34m=\u001b[0m\u001b[0;36m1\u001b[0m\u001b[0;34m)\u001b[0m\u001b[0;34m\u001b[0m\u001b[0m\n\u001b[1;32m    708\u001b[0m         \u001b[0ms\u001b[0m \u001b[0;34m=\u001b[0m \u001b[0mself\u001b[0m\u001b[0;34m.\u001b[0m\u001b[0m_create_storer\u001b[0m\u001b[0;34m(\u001b[0m\u001b[0mgroup\u001b[0m\u001b[0;34m)\u001b[0m\u001b[0;34m\u001b[0m\u001b[0m\n\u001b[0;32m--> 709\u001b[0;31m         \u001b[0ms\u001b[0m\u001b[0;34m.\u001b[0m\u001b[0minfer_axes\u001b[0m\u001b[0;34m(\u001b[0m\u001b[0;34m)\u001b[0m\u001b[0;34m\u001b[0m\u001b[0m\n\u001b[0m\u001b[1;32m    710\u001b[0m \u001b[0;34m\u001b[0m\u001b[0m\n\u001b[1;32m    711\u001b[0m         \u001b[0;31m# function to call on iteration\u001b[0m\u001b[0;34m\u001b[0m\u001b[0;34m\u001b[0m\u001b[0m\n",
      "\u001b[0;32m/home/frodos/anaconda/lib/python2.7/site-packages/pandas/io/pytables.pyc\u001b[0m in \u001b[0;36minfer_axes\u001b[0;34m(self)\u001b[0m\n\u001b[1;32m   2319\u001b[0m         \u001b[0;32mif\u001b[0m \u001b[0ms\u001b[0m \u001b[0;32mis\u001b[0m \u001b[0mNone\u001b[0m\u001b[0;34m:\u001b[0m\u001b[0;34m\u001b[0m\u001b[0m\n\u001b[1;32m   2320\u001b[0m             \u001b[0;32mreturn\u001b[0m \u001b[0mFalse\u001b[0m\u001b[0;34m\u001b[0m\u001b[0m\n\u001b[0;32m-> 2321\u001b[0;31m         \u001b[0mself\u001b[0m\u001b[0;34m.\u001b[0m\u001b[0mget_attrs\u001b[0m\u001b[0;34m(\u001b[0m\u001b[0;34m)\u001b[0m\u001b[0;34m\u001b[0m\u001b[0m\n\u001b[0m\u001b[1;32m   2322\u001b[0m         \u001b[0;32mreturn\u001b[0m \u001b[0mTrue\u001b[0m\u001b[0;34m\u001b[0m\u001b[0m\n\u001b[1;32m   2323\u001b[0m \u001b[0;34m\u001b[0m\u001b[0m\n",
      "\u001b[0;32m/home/frodos/anaconda/lib/python2.7/site-packages/pandas/io/pytables.pyc\u001b[0m in \u001b[0;36mget_attrs\u001b[0;34m(self)\u001b[0m\n\u001b[1;32m   3155\u001b[0m         ]\n\u001b[1;32m   3156\u001b[0m         self.values_axes = [\n\u001b[0;32m-> 3157\u001b[0;31m             \u001b[0ma\u001b[0m\u001b[0;34m.\u001b[0m\u001b[0minfer\u001b[0m\u001b[0;34m(\u001b[0m\u001b[0mself\u001b[0m\u001b[0;34m)\u001b[0m \u001b[0;32mfor\u001b[0m \u001b[0ma\u001b[0m \u001b[0;32min\u001b[0m \u001b[0mself\u001b[0m\u001b[0;34m.\u001b[0m\u001b[0mindexables\u001b[0m \u001b[0;32mif\u001b[0m \u001b[0;32mnot\u001b[0m \u001b[0ma\u001b[0m\u001b[0;34m.\u001b[0m\u001b[0mis_an_indexable\u001b[0m\u001b[0;34m\u001b[0m\u001b[0m\n\u001b[0m\u001b[1;32m   3158\u001b[0m         ]\n\u001b[1;32m   3159\u001b[0m         self.metadata = getattr(\n",
      "\u001b[0;32m/home/frodos/anaconda/lib/python2.7/site-packages/pandas/io/pytables.pyc\u001b[0m in \u001b[0;36minfer\u001b[0;34m(self, handler)\u001b[0m\n\u001b[1;32m   1534\u001b[0m         \u001b[0mnew_self\u001b[0m \u001b[0;34m=\u001b[0m \u001b[0mself\u001b[0m\u001b[0;34m.\u001b[0m\u001b[0mcopy\u001b[0m\u001b[0;34m(\u001b[0m\u001b[0;34m)\u001b[0m\u001b[0;34m\u001b[0m\u001b[0m\n\u001b[1;32m   1535\u001b[0m         \u001b[0mnew_self\u001b[0m\u001b[0;34m.\u001b[0m\u001b[0mset_table\u001b[0m\u001b[0;34m(\u001b[0m\u001b[0mtable\u001b[0m\u001b[0;34m)\u001b[0m\u001b[0;34m\u001b[0m\u001b[0m\n\u001b[0;32m-> 1536\u001b[0;31m         \u001b[0mnew_self\u001b[0m\u001b[0;34m.\u001b[0m\u001b[0mget_attr\u001b[0m\u001b[0;34m(\u001b[0m\u001b[0;34m)\u001b[0m\u001b[0;34m\u001b[0m\u001b[0m\n\u001b[0m\u001b[1;32m   1537\u001b[0m         \u001b[0mnew_self\u001b[0m\u001b[0;34m.\u001b[0m\u001b[0mread_metadata\u001b[0m\u001b[0;34m(\u001b[0m\u001b[0mhandler\u001b[0m\u001b[0;34m)\u001b[0m\u001b[0;34m\u001b[0m\u001b[0m\n\u001b[1;32m   1538\u001b[0m         \u001b[0;32mreturn\u001b[0m \u001b[0mnew_self\u001b[0m\u001b[0;34m\u001b[0m\u001b[0m\n",
      "\u001b[0;32m/home/frodos/anaconda/lib/python2.7/site-packages/pandas/io/pytables.pyc\u001b[0m in \u001b[0;36mget_attr\u001b[0;34m(self)\u001b[0m\n\u001b[1;32m   2137\u001b[0m         \u001b[0mself\u001b[0m\u001b[0;34m.\u001b[0m\u001b[0mdtype\u001b[0m \u001b[0;34m=\u001b[0m \u001b[0mgetattr\u001b[0m\u001b[0;34m(\u001b[0m\u001b[0mself\u001b[0m\u001b[0;34m.\u001b[0m\u001b[0mattrs\u001b[0m\u001b[0;34m,\u001b[0m \u001b[0mself\u001b[0m\u001b[0;34m.\u001b[0m\u001b[0mdtype_attr\u001b[0m\u001b[0;34m,\u001b[0m \u001b[0mNone\u001b[0m\u001b[0;34m)\u001b[0m\u001b[0;34m\u001b[0m\u001b[0m\n\u001b[1;32m   2138\u001b[0m         \u001b[0mself\u001b[0m\u001b[0;34m.\u001b[0m\u001b[0mmeta\u001b[0m \u001b[0;34m=\u001b[0m \u001b[0mgetattr\u001b[0m\u001b[0;34m(\u001b[0m\u001b[0mself\u001b[0m\u001b[0;34m.\u001b[0m\u001b[0mattrs\u001b[0m\u001b[0;34m,\u001b[0m \u001b[0mself\u001b[0m\u001b[0;34m.\u001b[0m\u001b[0mmeta_attr\u001b[0m\u001b[0;34m,\u001b[0m \u001b[0mNone\u001b[0m\u001b[0;34m)\u001b[0m\u001b[0;34m\u001b[0m\u001b[0m\n\u001b[0;32m-> 2139\u001b[0;31m         \u001b[0mself\u001b[0m\u001b[0;34m.\u001b[0m\u001b[0mset_kind\u001b[0m\u001b[0;34m(\u001b[0m\u001b[0;34m)\u001b[0m\u001b[0;34m\u001b[0m\u001b[0m\n\u001b[0m\u001b[1;32m   2140\u001b[0m \u001b[0;34m\u001b[0m\u001b[0m\n\u001b[1;32m   2141\u001b[0m     \u001b[0;32mdef\u001b[0m \u001b[0mset_attr\u001b[0m\u001b[0;34m(\u001b[0m\u001b[0mself\u001b[0m\u001b[0;34m)\u001b[0m\u001b[0;34m:\u001b[0m\u001b[0;34m\u001b[0m\u001b[0m\n",
      "\u001b[0;32m/home/frodos/anaconda/lib/python2.7/site-packages/pandas/io/pytables.pyc\u001b[0m in \u001b[0;36mset_kind\u001b[0;34m(self)\u001b[0m\n\u001b[1;32m   1846\u001b[0m             \u001b[0;31m# set my typ if we need\u001b[0m\u001b[0;34m\u001b[0m\u001b[0;34m\u001b[0m\u001b[0m\n\u001b[1;32m   1847\u001b[0m             \u001b[0;32mif\u001b[0m \u001b[0mself\u001b[0m\u001b[0;34m.\u001b[0m\u001b[0mtyp\u001b[0m \u001b[0;32mis\u001b[0m \u001b[0mNone\u001b[0m\u001b[0;34m:\u001b[0m\u001b[0;34m\u001b[0m\u001b[0m\n\u001b[0;32m-> 1848\u001b[0;31m                 \u001b[0mself\u001b[0m\u001b[0;34m.\u001b[0m\u001b[0mtyp\u001b[0m \u001b[0;34m=\u001b[0m \u001b[0mgetattr\u001b[0m\u001b[0;34m(\u001b[0m\u001b[0mself\u001b[0m\u001b[0;34m.\u001b[0m\u001b[0mdescription\u001b[0m\u001b[0;34m,\u001b[0m \u001b[0mself\u001b[0m\u001b[0;34m.\u001b[0m\u001b[0mcname\u001b[0m\u001b[0;34m,\u001b[0m \u001b[0mNone\u001b[0m\u001b[0;34m)\u001b[0m\u001b[0;34m\u001b[0m\u001b[0m\n\u001b[0m\u001b[1;32m   1849\u001b[0m \u001b[0;34m\u001b[0m\u001b[0m\n\u001b[1;32m   1850\u001b[0m     def set_atom(self, block, block_items, existing_col, min_itemsize,\n",
      "\u001b[0;32m/home/frodos/anaconda/lib/python2.7/site-packages/pandas/io/pytables.pyc\u001b[0m in \u001b[0;36mdescription\u001b[0;34m(self)\u001b[0m\n\u001b[1;32m   1577\u001b[0m     \u001b[0;34m@\u001b[0m\u001b[0mproperty\u001b[0m\u001b[0;34m\u001b[0m\u001b[0m\n\u001b[1;32m   1578\u001b[0m     \u001b[0;32mdef\u001b[0m \u001b[0mdescription\u001b[0m\u001b[0;34m(\u001b[0m\u001b[0mself\u001b[0m\u001b[0;34m)\u001b[0m\u001b[0;34m:\u001b[0m\u001b[0;34m\u001b[0m\u001b[0m\n\u001b[0;32m-> 1579\u001b[0;31m         \u001b[0;32mreturn\u001b[0m \u001b[0mself\u001b[0m\u001b[0;34m.\u001b[0m\u001b[0mtable\u001b[0m\u001b[0;34m.\u001b[0m\u001b[0mdescription\u001b[0m\u001b[0;34m\u001b[0m\u001b[0m\n\u001b[0m\u001b[1;32m   1580\u001b[0m \u001b[0;34m\u001b[0m\u001b[0m\n\u001b[1;32m   1581\u001b[0m     \u001b[0;34m@\u001b[0m\u001b[0mproperty\u001b[0m\u001b[0;34m\u001b[0m\u001b[0m\n",
      "\u001b[0;31mAttributeError\u001b[0m: 'UnImplemented' object has no attribute 'description'"
     ]
    }
   ],
   "source": [
    "trainFile = \"newFeatures2.hdf\"\n",
    "trainDf = pd.read_hdf(trainFile)\n",
    "trainDf.reset_index(drop=True,inplace=True)\n",
    "print  trainDf.shape\n",
    "features = preprocessData(trainDf.drop(['wasOrdered'],axis = 1))\n",
    "ans = trainDf.wasOrdered.apply(lambda x: 1 if x else 0)\n",
    "\n",
    "# create SGD classifier\n",
    "clf  = LM.SGDClassifier()"
   ]
  },
  {
   "cell_type": "code",
   "execution_count": null,
   "metadata": {
    "collapsed": true
   },
   "outputs": [],
   "source": [
    "scores = cross_val_score(clf, features,ans, cv=5)"
   ]
  },
  {
   "cell_type": "code",
   "execution_count": null,
   "metadata": {
    "collapsed": true
   },
   "outputs": [],
   "source": [
    "clf.fit(features,ans);\n",
    "y_pr = clF.predict(features) \n",
    "f1_score(ans,y_pr)\n",
    "\n",
    "plt.subplot(211)\n",
    "(y_pr==ans).hist()\n",
    "plt.subplot(212)\n",
    "\n",
    "(clf.predict(features_test)==ans_test).hist()"
   ]
  },
  {
   "cell_type": "code",
   "execution_count": null,
   "metadata": {
    "collapsed": true
   },
   "outputs": [],
   "source": [
    "def save2File(fName,df):\n",
    "    f = open(fName,'w')\n",
    "    f.write('order_id,products\\n')\n",
    "    np.set_printoptions(linewidth = 500)\n",
    "    for key, val in df.iteritems():\n",
    "        k = np.array2string(val[1])[1:-1]+'\\n'\n",
    "        s = str(val[0])+','+k\n",
    "        f.write(s)\n",
    "    f.close()\n",
    "    np.set_printoptions(linewidth = 75)"
   ]
  },
  {
   "cell_type": "code",
   "execution_count": null,
   "metadata": {
    "collapsed": true
   },
   "outputs": [],
   "source": [
    "def f1Score(y_true, y_pred):\n",
    "    fullSet      = np.unique(np.hstack((y_pred,y_true)))\n",
    "    intersection = np.intersect1d(y_true,y_pred).size\n",
    "    precession   = intersection/float(y_pred.shape[0])\n",
    "    recall       = intersection/float(y_true.shape[0])\n",
    "    try:\n",
    "        f1 = 2*precession*recall/(precession+recall)\n",
    "    except ZeroDivisionError:\n",
    "        f1 = 0\n",
    "    return [precession, recall, f1]"
   ]
  },
  {
   "cell_type": "code",
   "execution_count": 11,
   "metadata": {
    "collapsed": true
   },
   "outputs": [],
   "source": [
    "orders = pd.read_csv('./data/orders.csv',index_col = 'order_id',usecols = ['order_id','user_id','eval_set','order_number','days_since_prior_order'])\n",
    "orders.loc[:,'days_since_prior_order'].fillna(0,inplace = True) \n",
    "orders = orders.assign(date = orders.groupby('user_id').days_since_prior_order.transform(np.cumsum))"
   ]
  },
  {
   "cell_type": "code",
   "execution_count": 12,
   "metadata": {
    "collapsed": false
   },
   "outputs": [],
   "source": [
    "# now I want to test the model\n",
    "trainUserId = orders.query(\"eval_set == 'train'\").user_id.values\n",
    "#testPriorOrderId = orders.query(\"(eval_set =='prior') and user_id in @testUsers\").index.values\n",
    "#testPriorSet = prior.query('order_id in @testPriorOrderId')"
   ]
  },
  {
   "cell_type": "code",
   "execution_count": 13,
   "metadata": {
    "collapsed": false
   },
   "outputs": [],
   "source": [
    "testUsers = trainUserId[-20:-10]\n",
    "testOrders = orders.query('user_id in @testUsers')"
   ]
  },
  {
   "cell_type": "code",
   "execution_count": 14,
   "metadata": {
    "collapsed": false
   },
   "outputs": [],
   "source": [
    "usecols = ['order_id','product_id']\n",
    "items = pd.concat([pd.read_csv('./data/order_products__train.csv',usecols = usecols),\n",
    "                   pd.read_csv('./data/order_products__prior.csv',usecols = usecols)])"
   ]
  },
  {
   "cell_type": "code",
   "execution_count": 15,
   "metadata": {
    "collapsed": false
   },
   "outputs": [
    {
     "name": "stdout",
     "output_type": "stream",
     "text": [
      "206175\n"
     ]
    },
    {
     "name": "stderr",
     "output_type": "stream",
     "text": [
      "D:\\Anaconda2\\lib\\site-packages\\numpy\\core\\_methods.py:59: RuntimeWarning: Mean of empty slice.\n",
      "  warnings.warn(\"Mean of empty slice.\", RuntimeWarning)\n",
      "D:\\Anaconda2\\lib\\site-packages\\numpy\\core\\_methods.py:70: RuntimeWarning: invalid value encountered in double_scalars\n",
      "  ret = ret.dtype.type(ret / rcount)\n"
     ]
    },
    {
     "name": "stdout",
     "output_type": "stream",
     "text": [
      "206176\n",
      "206177\n",
      "206178\n",
      "206181\n",
      "206184\n",
      "206185\n",
      "206186\n",
      "206188\n",
      "206190\n"
     ]
    }
   ],
   "source": [
    "newDf = pd.DataFrame(columns = ['product_id','periodicity','absCount','lastOrder','wasOrdered'])\n",
    "for tId, userGroup in testOrders.groupby('user_id'):\n",
    "    print tId\n",
    "    # вот это можно вычислить один раз для пользователя\n",
    "    trainOrder = userGroup.query(\"eval_set != 'prior'\")\n",
    "    trainOrderDay = trainOrder.date.values\n",
    "\n",
    "    # получаем предзаказы\n",
    "    preOrders = userGroup.query(\"eval_set == 'prior' \").fillna(0).merge(\n",
    "        items,left_index=True,right_on='order_id',copy = False,how='inner')\n",
    "\n",
    "    fullBasket = preOrders.product_id.unique()\n",
    "\n",
    "    r2 = preOrders.groupby('product_id').agg(\n",
    "        {'date': lambda x: np.diff(x.values).mean(),\n",
    "         'order_number': lambda x: x.shape[0]}\n",
    "        ).rename(columns={'date': 'periodicity','order_number':'absCount'})\n",
    "\n",
    "    r3 = preOrders.groupby('product_id').agg(\n",
    "        {'date': lambda x: int(trainOrderDay - x.iloc[-1])}\n",
    "        ).rename(columns={'date':'lastOrder'})\n",
    "\n",
    "    r2 = r2.merge(r3,left_index=True,right_index=True)\n",
    "    r2.reset_index(inplace=True)\n",
    "    \n",
    "    trainBasket = list(userGroup.query(\"(user_id == @tId) and eval_set != 'prior' \").fillna(0).merge(\n",
    "        items,left_index=True,right_on='order_id',copy = False,how='inner').product_id.unique())\n",
    "\n",
    "    r2 = r2.assign(wasOrdered = r2.product_id.apply(lambda x: x in trainBasket))\n",
    "    # теперь можно рассчитать популярность каждого продукта в процентах\n",
    "    #r2 = r2.assign(decay = r2.lastOrder/r2.periodicity)\n",
    "    r2 = r2.assign(userId = tId)\n",
    "    r2.fillna(0,inplace=True)\n",
    "    r2.replace(np.inf,0,inplace=True)\n",
    "    #r2.merge(products,left_on='product_id',right_index=True)\n",
    "    #r2.to_hdf('newFeatures.hdf', 'features', format = 'table',append = True)\n",
    "    newDf = pd.concat([newDf,r2])"
   ]
  },
  {
   "cell_type": "code",
   "execution_count": 16,
   "metadata": {
    "collapsed": false
   },
   "outputs": [
    {
     "data": {
      "text/html": [
       "<div>\n",
       "<table border=\"1\" class=\"dataframe\">\n",
       "  <thead>\n",
       "    <tr style=\"text-align: right;\">\n",
       "      <th></th>\n",
       "      <th>absCount</th>\n",
       "      <th>lastOrder</th>\n",
       "      <th>periodicity</th>\n",
       "      <th>product_id</th>\n",
       "      <th>userId</th>\n",
       "      <th>wasOrdered</th>\n",
       "    </tr>\n",
       "  </thead>\n",
       "  <tbody>\n",
       "    <tr>\n",
       "      <th>11</th>\n",
       "      <td>1.0</td>\n",
       "      <td>14.0</td>\n",
       "      <td>0.000000</td>\n",
       "      <td>20734.0</td>\n",
       "      <td>206175.0</td>\n",
       "      <td>True</td>\n",
       "    </tr>\n",
       "    <tr>\n",
       "      <th>15</th>\n",
       "      <td>4.0</td>\n",
       "      <td>14.0</td>\n",
       "      <td>19.333333</td>\n",
       "      <td>25931.0</td>\n",
       "      <td>206175.0</td>\n",
       "      <td>True</td>\n",
       "    </tr>\n",
       "    <tr>\n",
       "      <th>34</th>\n",
       "      <td>1.0</td>\n",
       "      <td>79.0</td>\n",
       "      <td>0.000000</td>\n",
       "      <td>45007.0</td>\n",
       "      <td>206175.0</td>\n",
       "      <td>True</td>\n",
       "    </tr>\n",
       "    <tr>\n",
       "      <th>37</th>\n",
       "      <td>1.0</td>\n",
       "      <td>34.0</td>\n",
       "      <td>0.000000</td>\n",
       "      <td>47766.0</td>\n",
       "      <td>206175.0</td>\n",
       "      <td>True</td>\n",
       "    </tr>\n",
       "    <tr>\n",
       "      <th>14</th>\n",
       "      <td>9.0</td>\n",
       "      <td>12.0</td>\n",
       "      <td>26.875000</td>\n",
       "      <td>21709.0</td>\n",
       "      <td>206176.0</td>\n",
       "      <td>True</td>\n",
       "    </tr>\n",
       "    <tr>\n",
       "      <th>24</th>\n",
       "      <td>2.0</td>\n",
       "      <td>12.0</td>\n",
       "      <td>164.000000</td>\n",
       "      <td>28920.0</td>\n",
       "      <td>206176.0</td>\n",
       "      <td>True</td>\n",
       "    </tr>\n",
       "    <tr>\n",
       "      <th>33</th>\n",
       "      <td>9.0</td>\n",
       "      <td>20.0</td>\n",
       "      <td>22.125000</td>\n",
       "      <td>37709.0</td>\n",
       "      <td>206176.0</td>\n",
       "      <td>True</td>\n",
       "    </tr>\n",
       "    <tr>\n",
       "      <th>1</th>\n",
       "      <td>1.0</td>\n",
       "      <td>42.0</td>\n",
       "      <td>0.000000</td>\n",
       "      <td>311.0</td>\n",
       "      <td>206177.0</td>\n",
       "      <td>True</td>\n",
       "    </tr>\n",
       "    <tr>\n",
       "      <th>13</th>\n",
       "      <td>1.0</td>\n",
       "      <td>42.0</td>\n",
       "      <td>0.000000</td>\n",
       "      <td>10132.0</td>\n",
       "      <td>206177.0</td>\n",
       "      <td>True</td>\n",
       "    </tr>\n",
       "    <tr>\n",
       "      <th>26</th>\n",
       "      <td>5.0</td>\n",
       "      <td>8.0</td>\n",
       "      <td>34.000000</td>\n",
       "      <td>21903.0</td>\n",
       "      <td>206177.0</td>\n",
       "      <td>True</td>\n",
       "    </tr>\n",
       "    <tr>\n",
       "      <th>30</th>\n",
       "      <td>4.0</td>\n",
       "      <td>8.0</td>\n",
       "      <td>35.333333</td>\n",
       "      <td>24852.0</td>\n",
       "      <td>206177.0</td>\n",
       "      <td>True</td>\n",
       "    </tr>\n",
       "    <tr>\n",
       "      <th>51</th>\n",
       "      <td>2.0</td>\n",
       "      <td>37.0</td>\n",
       "      <td>5.000000</td>\n",
       "      <td>46979.0</td>\n",
       "      <td>206177.0</td>\n",
       "      <td>True</td>\n",
       "    </tr>\n",
       "    <tr>\n",
       "      <th>5</th>\n",
       "      <td>1.0</td>\n",
       "      <td>51.0</td>\n",
       "      <td>0.000000</td>\n",
       "      <td>1999.0</td>\n",
       "      <td>206178.0</td>\n",
       "      <td>True</td>\n",
       "    </tr>\n",
       "    <tr>\n",
       "      <th>43</th>\n",
       "      <td>1.0</td>\n",
       "      <td>61.0</td>\n",
       "      <td>0.000000</td>\n",
       "      <td>28985.0</td>\n",
       "      <td>206178.0</td>\n",
       "      <td>True</td>\n",
       "    </tr>\n",
       "    <tr>\n",
       "      <th>11</th>\n",
       "      <td>8.0</td>\n",
       "      <td>30.0</td>\n",
       "      <td>31.571429</td>\n",
       "      <td>10840.0</td>\n",
       "      <td>206181.0</td>\n",
       "      <td>True</td>\n",
       "    </tr>\n",
       "    <tr>\n",
       "      <th>26</th>\n",
       "      <td>2.0</td>\n",
       "      <td>124.0</td>\n",
       "      <td>84.000000</td>\n",
       "      <td>22169.0</td>\n",
       "      <td>206181.0</td>\n",
       "      <td>True</td>\n",
       "    </tr>\n",
       "    <tr>\n",
       "      <th>28</th>\n",
       "      <td>4.0</td>\n",
       "      <td>102.0</td>\n",
       "      <td>45.333333</td>\n",
       "      <td>23044.0</td>\n",
       "      <td>206181.0</td>\n",
       "      <td>True</td>\n",
       "    </tr>\n",
       "    <tr>\n",
       "      <th>32</th>\n",
       "      <td>11.0</td>\n",
       "      <td>30.0</td>\n",
       "      <td>22.100000</td>\n",
       "      <td>24852.0</td>\n",
       "      <td>206181.0</td>\n",
       "      <td>True</td>\n",
       "    </tr>\n",
       "    <tr>\n",
       "      <th>34</th>\n",
       "      <td>5.0</td>\n",
       "      <td>44.0</td>\n",
       "      <td>25.500000</td>\n",
       "      <td>27554.0</td>\n",
       "      <td>206181.0</td>\n",
       "      <td>True</td>\n",
       "    </tr>\n",
       "    <tr>\n",
       "      <th>37</th>\n",
       "      <td>5.0</td>\n",
       "      <td>30.0</td>\n",
       "      <td>26.750000</td>\n",
       "      <td>30135.0</td>\n",
       "      <td>206181.0</td>\n",
       "      <td>True</td>\n",
       "    </tr>\n",
       "    <tr>\n",
       "      <th>38</th>\n",
       "      <td>7.0</td>\n",
       "      <td>30.0</td>\n",
       "      <td>29.666667</td>\n",
       "      <td>30391.0</td>\n",
       "      <td>206181.0</td>\n",
       "      <td>True</td>\n",
       "    </tr>\n",
       "    <tr>\n",
       "      <th>44</th>\n",
       "      <td>1.0</td>\n",
       "      <td>44.0</td>\n",
       "      <td>0.000000</td>\n",
       "      <td>33316.0</td>\n",
       "      <td>206181.0</td>\n",
       "      <td>True</td>\n",
       "    </tr>\n",
       "    <tr>\n",
       "      <th>54</th>\n",
       "      <td>1.0</td>\n",
       "      <td>72.0</td>\n",
       "      <td>0.000000</td>\n",
       "      <td>41950.0</td>\n",
       "      <td>206181.0</td>\n",
       "      <td>True</td>\n",
       "    </tr>\n",
       "    <tr>\n",
       "      <th>12</th>\n",
       "      <td>1.0</td>\n",
       "      <td>228.0</td>\n",
       "      <td>0.000000</td>\n",
       "      <td>14852.0</td>\n",
       "      <td>206185.0</td>\n",
       "      <td>True</td>\n",
       "    </tr>\n",
       "    <tr>\n",
       "      <th>37</th>\n",
       "      <td>1.0</td>\n",
       "      <td>20.0</td>\n",
       "      <td>0.000000</td>\n",
       "      <td>40153.0</td>\n",
       "      <td>206185.0</td>\n",
       "      <td>True</td>\n",
       "    </tr>\n",
       "    <tr>\n",
       "      <th>0</th>\n",
       "      <td>3.0</td>\n",
       "      <td>7.0</td>\n",
       "      <td>18.500000</td>\n",
       "      <td>2091.0</td>\n",
       "      <td>206186.0</td>\n",
       "      <td>True</td>\n",
       "    </tr>\n",
       "    <tr>\n",
       "      <th>11</th>\n",
       "      <td>2.0</td>\n",
       "      <td>7.0</td>\n",
       "      <td>37.000000</td>\n",
       "      <td>25466.0</td>\n",
       "      <td>206186.0</td>\n",
       "      <td>True</td>\n",
       "    </tr>\n",
       "    <tr>\n",
       "      <th>21</th>\n",
       "      <td>3.0</td>\n",
       "      <td>7.0</td>\n",
       "      <td>18.500000</td>\n",
       "      <td>41290.0</td>\n",
       "      <td>206186.0</td>\n",
       "      <td>True</td>\n",
       "    </tr>\n",
       "    <tr>\n",
       "      <th>4</th>\n",
       "      <td>4.0</td>\n",
       "      <td>102.0</td>\n",
       "      <td>30.000000</td>\n",
       "      <td>6473.0</td>\n",
       "      <td>206188.0</td>\n",
       "      <td>True</td>\n",
       "    </tr>\n",
       "    <tr>\n",
       "      <th>6</th>\n",
       "      <td>2.0</td>\n",
       "      <td>132.0</td>\n",
       "      <td>60.000000</td>\n",
       "      <td>12078.0</td>\n",
       "      <td>206188.0</td>\n",
       "      <td>True</td>\n",
       "    </tr>\n",
       "    <tr>\n",
       "      <th>23</th>\n",
       "      <td>5.0</td>\n",
       "      <td>82.0</td>\n",
       "      <td>27.500000</td>\n",
       "      <td>34487.0</td>\n",
       "      <td>206188.0</td>\n",
       "      <td>True</td>\n",
       "    </tr>\n",
       "    <tr>\n",
       "      <th>24</th>\n",
       "      <td>2.0</td>\n",
       "      <td>102.0</td>\n",
       "      <td>60.000000</td>\n",
       "      <td>35898.0</td>\n",
       "      <td>206188.0</td>\n",
       "      <td>True</td>\n",
       "    </tr>\n",
       "    <tr>\n",
       "      <th>25</th>\n",
       "      <td>1.0</td>\n",
       "      <td>30.0</td>\n",
       "      <td>0.000000</td>\n",
       "      <td>36186.0</td>\n",
       "      <td>206188.0</td>\n",
       "      <td>True</td>\n",
       "    </tr>\n",
       "    <tr>\n",
       "      <th>33</th>\n",
       "      <td>2.0</td>\n",
       "      <td>132.0</td>\n",
       "      <td>30.000000</td>\n",
       "      <td>44560.0</td>\n",
       "      <td>206188.0</td>\n",
       "      <td>True</td>\n",
       "    </tr>\n",
       "    <tr>\n",
       "      <th>5</th>\n",
       "      <td>2.0</td>\n",
       "      <td>30.0</td>\n",
       "      <td>153.000000</td>\n",
       "      <td>8518.0</td>\n",
       "      <td>206190.0</td>\n",
       "      <td>True</td>\n",
       "    </tr>\n",
       "    <tr>\n",
       "      <th>8</th>\n",
       "      <td>3.0</td>\n",
       "      <td>90.0</td>\n",
       "      <td>36.500000</td>\n",
       "      <td>20549.0</td>\n",
       "      <td>206190.0</td>\n",
       "      <td>True</td>\n",
       "    </tr>\n",
       "    <tr>\n",
       "      <th>11</th>\n",
       "      <td>1.0</td>\n",
       "      <td>30.0</td>\n",
       "      <td>0.000000</td>\n",
       "      <td>21616.0</td>\n",
       "      <td>206190.0</td>\n",
       "      <td>True</td>\n",
       "    </tr>\n",
       "    <tr>\n",
       "      <th>13</th>\n",
       "      <td>1.0</td>\n",
       "      <td>30.0</td>\n",
       "      <td>0.000000</td>\n",
       "      <td>23484.0</td>\n",
       "      <td>206190.0</td>\n",
       "      <td>True</td>\n",
       "    </tr>\n",
       "    <tr>\n",
       "      <th>15</th>\n",
       "      <td>3.0</td>\n",
       "      <td>120.0</td>\n",
       "      <td>31.500000</td>\n",
       "      <td>26283.0</td>\n",
       "      <td>206190.0</td>\n",
       "      <td>True</td>\n",
       "    </tr>\n",
       "    <tr>\n",
       "      <th>23</th>\n",
       "      <td>2.0</td>\n",
       "      <td>30.0</td>\n",
       "      <td>133.000000</td>\n",
       "      <td>40706.0</td>\n",
       "      <td>206190.0</td>\n",
       "      <td>True</td>\n",
       "    </tr>\n",
       "    <tr>\n",
       "      <th>29</th>\n",
       "      <td>1.0</td>\n",
       "      <td>30.0</td>\n",
       "      <td>0.000000</td>\n",
       "      <td>46979.0</td>\n",
       "      <td>206190.0</td>\n",
       "      <td>True</td>\n",
       "    </tr>\n",
       "    <tr>\n",
       "      <th>30</th>\n",
       "      <td>6.0</td>\n",
       "      <td>30.0</td>\n",
       "      <td>30.600000</td>\n",
       "      <td>47209.0</td>\n",
       "      <td>206190.0</td>\n",
       "      <td>True</td>\n",
       "    </tr>\n",
       "  </tbody>\n",
       "</table>\n",
       "</div>"
      ],
      "text/plain": [
       "    absCount  lastOrder  periodicity  product_id    userId wasOrdered\n",
       "11       1.0       14.0     0.000000     20734.0  206175.0       True\n",
       "15       4.0       14.0    19.333333     25931.0  206175.0       True\n",
       "34       1.0       79.0     0.000000     45007.0  206175.0       True\n",
       "37       1.0       34.0     0.000000     47766.0  206175.0       True\n",
       "14       9.0       12.0    26.875000     21709.0  206176.0       True\n",
       "24       2.0       12.0   164.000000     28920.0  206176.0       True\n",
       "33       9.0       20.0    22.125000     37709.0  206176.0       True\n",
       "1        1.0       42.0     0.000000       311.0  206177.0       True\n",
       "13       1.0       42.0     0.000000     10132.0  206177.0       True\n",
       "26       5.0        8.0    34.000000     21903.0  206177.0       True\n",
       "30       4.0        8.0    35.333333     24852.0  206177.0       True\n",
       "51       2.0       37.0     5.000000     46979.0  206177.0       True\n",
       "5        1.0       51.0     0.000000      1999.0  206178.0       True\n",
       "43       1.0       61.0     0.000000     28985.0  206178.0       True\n",
       "11       8.0       30.0    31.571429     10840.0  206181.0       True\n",
       "26       2.0      124.0    84.000000     22169.0  206181.0       True\n",
       "28       4.0      102.0    45.333333     23044.0  206181.0       True\n",
       "32      11.0       30.0    22.100000     24852.0  206181.0       True\n",
       "34       5.0       44.0    25.500000     27554.0  206181.0       True\n",
       "37       5.0       30.0    26.750000     30135.0  206181.0       True\n",
       "38       7.0       30.0    29.666667     30391.0  206181.0       True\n",
       "44       1.0       44.0     0.000000     33316.0  206181.0       True\n",
       "54       1.0       72.0     0.000000     41950.0  206181.0       True\n",
       "12       1.0      228.0     0.000000     14852.0  206185.0       True\n",
       "37       1.0       20.0     0.000000     40153.0  206185.0       True\n",
       "0        3.0        7.0    18.500000      2091.0  206186.0       True\n",
       "11       2.0        7.0    37.000000     25466.0  206186.0       True\n",
       "21       3.0        7.0    18.500000     41290.0  206186.0       True\n",
       "4        4.0      102.0    30.000000      6473.0  206188.0       True\n",
       "6        2.0      132.0    60.000000     12078.0  206188.0       True\n",
       "23       5.0       82.0    27.500000     34487.0  206188.0       True\n",
       "24       2.0      102.0    60.000000     35898.0  206188.0       True\n",
       "25       1.0       30.0     0.000000     36186.0  206188.0       True\n",
       "33       2.0      132.0    30.000000     44560.0  206188.0       True\n",
       "5        2.0       30.0   153.000000      8518.0  206190.0       True\n",
       "8        3.0       90.0    36.500000     20549.0  206190.0       True\n",
       "11       1.0       30.0     0.000000     21616.0  206190.0       True\n",
       "13       1.0       30.0     0.000000     23484.0  206190.0       True\n",
       "15       3.0      120.0    31.500000     26283.0  206190.0       True\n",
       "23       2.0       30.0   133.000000     40706.0  206190.0       True\n",
       "29       1.0       30.0     0.000000     46979.0  206190.0       True\n",
       "30       6.0       30.0    30.600000     47209.0  206190.0       True"
      ]
     },
     "execution_count": 16,
     "metadata": {},
     "output_type": "execute_result"
    }
   ],
   "source": [
    "newDf.query('wasOrdered == True') "
   ]
  },
  {
   "cell_type": "code",
   "execution_count": 21,
   "metadata": {
    "collapsed": false
   },
   "outputs": [],
   "source": [
    "features_test = preprocessData(newDf.drop(['wasOrdered'],axis = 1))\n",
    "ans_test = newDf.wasOrdered.apply(lambda x: 1 if x else 0)"
   ]
  },
  {
   "cell_type": "code",
   "execution_count": 55,
   "metadata": {
    "collapsed": false
   },
   "outputs": [
    {
     "data": {
      "text/plain": [
       "<matplotlib.axes._subplots.AxesSubplot at 0x1dee3048>"
      ]
     },
     "execution_count": 55,
     "metadata": {},
     "output_type": "execute_result"
    },
    {
     "data": {
      "image/png": "[encoded data removed]",
      "text/plain": [
       "<matplotlib.figure.Figure at 0x1def8748>"
      ]
     },
     "metadata": {},
     "output_type": "display_data"
    }
   ],
   "source": [
    "(classifier.predict(features)==ans).hist()"
   ]
  },
  {
   "cell_type": "code",
   "execution_count": 54,
   "metadata": {
    "collapsed": false
   },
   "outputs": [
    {
     "data": {
      "text/plain": [
       "<matplotlib.axes._subplots.AxesSubplot at 0x1d3bfd68>"
      ]
     },
     "execution_count": 54,
     "metadata": {},
     "output_type": "execute_result"
    },
    {
     "data": {
      "image/png": "[encoded data removed]",
      "text/plain": [
       "<matplotlib.figure.Figure at 0x1d50ad68>"
      ]
     },
     "metadata": {},
     "output_type": "display_data"
    }
   ],
   "source": [
    "(classifier.predict(features_test)==ans_test).hist()"
   ]
  },
  {
   "cell_type": "code",
   "execution_count": null,
   "metadata": {
    "collapsed": true
   },
   "outputs": [],
   "source": []
  }
 ],
 "metadata": {
  "kernelspec": {
   "display_name": "Python 2",
   "language": "python",
   "name": "python2"
  },
  "language_info": {
   "codemirror_mode": {
    "name": "ipython",
    "version": 2
   },
   "file_extension": ".py",
   "mimetype": "text/x-python",
   "name": "python",
   "nbconvert_exporter": "python",
   "pygments_lexer": "ipython2",
   "version": "2.7.13"
  }
 },
 "nbformat": 4,
 "nbformat_minor": 2
}
