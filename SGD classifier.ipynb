{
 "cells": [
  {
   "cell_type": "code",
   "execution_count": 1,
   "metadata": {
    "collapsed": false
   },
   "outputs": [],
   "source": [
    "# import libraries\n",
    "import pandas as pd\n",
    "import numpy as np\n",
    "import matplotlib.pyplot as plt\n",
    "\n",
    "%matplotlib inline"
   ]
  },
  {
   "cell_type": "markdown",
   "metadata": {},
   "source": [
    "## Read datasets"
   ]
  },
  {
   "cell_type": "code",
   "execution_count": 279,
   "metadata": {
    "collapsed": false,
    "scrolled": true
   },
   "outputs": [
    {
     "data": {
      "text/html": [
       "<div>\n",
       "<table border=\"1\" class=\"dataframe\">\n",
       "  <thead>\n",
       "    <tr style=\"text-align: right;\">\n",
       "      <th></th>\n",
       "      <th>user_id</th>\n",
       "      <th>eval_set</th>\n",
       "      <th>order_number</th>\n",
       "      <th>days_since_prior_order</th>\n",
       "      <th>date</th>\n",
       "    </tr>\n",
       "    <tr>\n",
       "      <th>order_id</th>\n",
       "      <th></th>\n",
       "      <th></th>\n",
       "      <th></th>\n",
       "      <th></th>\n",
       "      <th></th>\n",
       "    </tr>\n",
       "  </thead>\n",
       "  <tbody>\n",
       "    <tr>\n",
       "      <th>2539329</th>\n",
       "      <td>1</td>\n",
       "      <td>prior</td>\n",
       "      <td>1</td>\n",
       "      <td>0.0</td>\n",
       "      <td>0.0</td>\n",
       "    </tr>\n",
       "    <tr>\n",
       "      <th>2398795</th>\n",
       "      <td>1</td>\n",
       "      <td>prior</td>\n",
       "      <td>2</td>\n",
       "      <td>15.0</td>\n",
       "      <td>15.0</td>\n",
       "    </tr>\n",
       "    <tr>\n",
       "      <th>473747</th>\n",
       "      <td>1</td>\n",
       "      <td>prior</td>\n",
       "      <td>3</td>\n",
       "      <td>21.0</td>\n",
       "      <td>36.0</td>\n",
       "    </tr>\n",
       "    <tr>\n",
       "      <th>2254736</th>\n",
       "      <td>1</td>\n",
       "      <td>prior</td>\n",
       "      <td>4</td>\n",
       "      <td>29.0</td>\n",
       "      <td>65.0</td>\n",
       "    </tr>\n",
       "    <tr>\n",
       "      <th>431534</th>\n",
       "      <td>1</td>\n",
       "      <td>prior</td>\n",
       "      <td>5</td>\n",
       "      <td>28.0</td>\n",
       "      <td>93.0</td>\n",
       "    </tr>\n",
       "    <tr>\n",
       "      <th>3367565</th>\n",
       "      <td>1</td>\n",
       "      <td>prior</td>\n",
       "      <td>6</td>\n",
       "      <td>19.0</td>\n",
       "      <td>112.0</td>\n",
       "    </tr>\n",
       "    <tr>\n",
       "      <th>550135</th>\n",
       "      <td>1</td>\n",
       "      <td>prior</td>\n",
       "      <td>7</td>\n",
       "      <td>20.0</td>\n",
       "      <td>132.0</td>\n",
       "    </tr>\n",
       "    <tr>\n",
       "      <th>3108588</th>\n",
       "      <td>1</td>\n",
       "      <td>prior</td>\n",
       "      <td>8</td>\n",
       "      <td>14.0</td>\n",
       "      <td>146.0</td>\n",
       "    </tr>\n",
       "    <tr>\n",
       "      <th>2295261</th>\n",
       "      <td>1</td>\n",
       "      <td>prior</td>\n",
       "      <td>9</td>\n",
       "      <td>0.0</td>\n",
       "      <td>146.0</td>\n",
       "    </tr>\n",
       "    <tr>\n",
       "      <th>2550362</th>\n",
       "      <td>1</td>\n",
       "      <td>prior</td>\n",
       "      <td>10</td>\n",
       "      <td>30.0</td>\n",
       "      <td>176.0</td>\n",
       "    </tr>\n",
       "    <tr>\n",
       "      <th>1187899</th>\n",
       "      <td>1</td>\n",
       "      <td>train</td>\n",
       "      <td>11</td>\n",
       "      <td>14.0</td>\n",
       "      <td>190.0</td>\n",
       "    </tr>\n",
       "  </tbody>\n",
       "</table>\n",
       "</div>"
      ],
      "text/plain": [
       "          user_id eval_set  order_number  days_since_prior_order   date\n",
       "order_id                                                               \n",
       "2539329         1    prior             1                     0.0    0.0\n",
       "2398795         1    prior             2                    15.0   15.0\n",
       "473747          1    prior             3                    21.0   36.0\n",
       "2254736         1    prior             4                    29.0   65.0\n",
       "431534          1    prior             5                    28.0   93.0\n",
       "3367565         1    prior             6                    19.0  112.0\n",
       "550135          1    prior             7                    20.0  132.0\n",
       "3108588         1    prior             8                    14.0  146.0\n",
       "2295261         1    prior             9                     0.0  146.0\n",
       "2550362         1    prior            10                    30.0  176.0\n",
       "1187899         1    train            11                    14.0  190.0"
      ]
     },
     "execution_count": 279,
     "metadata": {},
     "output_type": "execute_result"
    }
   ],
   "source": [
    "# This file tells to which set (prior, train, test) an order belongs.\n",
    "# You are predicting reordered items only for the test set orders. 'order_dow' is the day of week.\n",
    "\n",
    "# COLUMNS:\n",
    "# order_id,user_id,eval_set,order_number,order_dow,order_hour_of_day,days_since_prior_order\n",
    "orders = pd.read_csv('./data/orders.csv',index_col = 'order_id',usecols = ['order_id','user_id','eval_set','order_number','days_since_prior_order'])\n",
    "orders.loc[:,'days_since_prior_order'].fillna(0,inplace = True) \n",
    "orders = orders.assign(date = orders.groupby('user_id').days_since_prior_order.transform(np.cumsum))\n",
    "orders.head(11)"
   ]
  },
  {
   "cell_type": "code",
   "execution_count": 3,
   "metadata": {
    "collapsed": false
   },
   "outputs": [
    {
     "data": {
      "text/html": [
       "<div>\n",
       "<table border=\"1\" class=\"dataframe\">\n",
       "  <thead>\n",
       "    <tr style=\"text-align: right;\">\n",
       "      <th></th>\n",
       "      <th>order_id</th>\n",
       "      <th>product_id</th>\n",
       "    </tr>\n",
       "  </thead>\n",
       "  <tbody>\n",
       "    <tr>\n",
       "      <th>0</th>\n",
       "      <td>1</td>\n",
       "      <td>49302</td>\n",
       "    </tr>\n",
       "    <tr>\n",
       "      <th>1</th>\n",
       "      <td>1</td>\n",
       "      <td>11109</td>\n",
       "    </tr>\n",
       "    <tr>\n",
       "      <th>2</th>\n",
       "      <td>1</td>\n",
       "      <td>10246</td>\n",
       "    </tr>\n",
       "    <tr>\n",
       "      <th>3</th>\n",
       "      <td>1</td>\n",
       "      <td>49683</td>\n",
       "    </tr>\n",
       "    <tr>\n",
       "      <th>4</th>\n",
       "      <td>1</td>\n",
       "      <td>43633</td>\n",
       "    </tr>\n",
       "  </tbody>\n",
       "</table>\n",
       "</div>"
      ],
      "text/plain": [
       "   order_id  product_id\n",
       "0         1       49302\n",
       "1         1       11109\n",
       "2         1       10246\n",
       "3         1       49683\n",
       "4         1       43633"
      ]
     },
     "execution_count": 3,
     "metadata": {},
     "output_type": "execute_result"
    }
   ],
   "source": [
    "# These files specify which products were purchased in each order.\n",
    "# order_products__prior.csv contains previous order contents for all customers.\n",
    "# 'reordered' indicates that the customer has a previous order that contains the product. \n",
    "# Note that some orders will have no reordered items.\n",
    "# You may predict an explicit 'None' value for orders with no reordered items.\n",
    "# See the evaluation page for full details.\n",
    "\n",
    "# COLUMNS\n",
    "# order_id,product_id,add_to_cart_order,reordered \n",
    "usecols = ['order_id','product_id']\n",
    "items = pd.concat([pd.read_csv('./data/order_products__train.csv',usecols = usecols),\n",
    "                   pd.read_csv('./data/order_products__prior.csv',usecols = usecols)])\n",
    "items.head()"
   ]
  },
  {
   "cell_type": "markdown",
   "metadata": {},
   "source": [
    "Additional information\n",
    "\n",
    "Пока не ясно, как эта информация может быть использована. Не буду грузить."
   ]
  },
  {
   "cell_type": "code",
   "execution_count": 4,
   "metadata": {
    "collapsed": true
   },
   "outputs": [],
   "source": [
    "products    = pd.read_csv('./data/products.csv',index_col='product_id')\n",
    "#aisles      = pd.read_csv('./data/aisles.csv',index_col = 'aisle_id')\n",
    "#departments = pd.read_csv('./data/departments.csv', index_col = 'department_id')"
   ]
  },
  {
   "cell_type": "markdown",
   "metadata": {},
   "source": [
    "В целом, что можно делать?\n",
    "\n",
    "Ответ на какой вопрос:\n",
    "\n",
    "Сгруппировать покупки по пользователю и по заказу\n",
    "\n",
    "В тестовых заказах известна часть продуктов. Надо указать, какие ещё продукты будут дозаказаны.\n",
    "Можно для каждого пользователя и продукта обучить классификатор, который будет отвечать на вопрос - купить ли пользователь это? \n",
    "Итого: на выходе требуется указать id продуктов, которые будут куплены.\n",
    "Итого, это может быть классификатор. Либо глубокая нейронная сеть.\n",
    "\n",
    "Для чего нужны проходы? Наверное, покупка одного продукта из прохода увеличивает вероятность покупки продукта из того же прохода.\n",
    "\n",
    "Baseline решение:\n",
    "найти наиболее частые группы товаров и проверить точность решения. Для этого можно использовать биграммы.\n",
    "Для начала попробуем сгруппировать продукты по пользователям и товарам."
   ]
  },
  {
   "cell_type": "markdown",
   "metadata": {},
   "source": [
    "Попробовать объединить train и preorder в один сет. Добавить поля название продукта, пользователь, order_id, eval_set, order_number etc из таблицы orders. Сгруппировать по пользователям (первые уровень) и заказам (второй уровень)."
   ]
  },
  {
   "cell_type": "code",
   "execution_count": null,
   "metadata": {
    "collapsed": false
   },
   "outputs": [],
   "source": [
    "def addFeatures(df):\n",
    "    priorSet = df.merge(products, left_on='product_id', right_index=True, how = 'left', copy = False)\n",
    "    priorSet = priorSet.merge(aisles, left_on = 'aisle_id',right_index = True, how = 'left', copy = False)\n",
    "    priorSet = priorSet.merge(departments, left_on = 'department_id', right_index = True, how = 'left', copy = False)\n",
    "    priorSet = priorSet.merge(orders, left_on = 'order_id', right_index = True, how = 'left', copy = False)\n",
    "    return priorSet"
   ]
  },
  {
   "cell_type": "markdown",
   "metadata": {
    "collapsed": true
   },
   "source": [
    "Как реализовать скрипт?\n",
    "\n",
    "<b> Baseline решение - самые популярные продукты из его корзины </b>\n",
    "\n",
    "Для каждого пользователя считаем:\n",
    "\n",
    "1) <u>средний размер корзины</u>\n",
    "Для этого группируем таблицу prior по 1) пользователям; 2) заказам. \n",
    "Исключаем train заказы\n",
    "Вычисляем средний размер (GroupBy object, .size().mean() )\n",
    "@TODO - проверить точность модели для разных способов округления среднего размера корзины;\n",
    "\n",
    "2) <u>самые популярные продукты</u>\n",
    "Группируем таблицу prior по 1) пользователям; 2) продуктам. Считаем статистику по продуктам, сортируем."
   ]
  },
  {
   "cell_type": "code",
   "execution_count": null,
   "metadata": {
    "collapsed": true
   },
   "outputs": [],
   "source": [
    "def basketSize(userGroup):\n",
    "    g = userGroup.groupby(['order_id'])\n",
    "    return g['order_id'].size().mean()"
   ]
  },
  {
   "cell_type": "code",
   "execution_count": null,
   "metadata": {
    "collapsed": true
   },
   "outputs": [],
   "source": [
    "def save2File(fName,df):\n",
    "    f = open(fName,'w')\n",
    "    f.write('order_id,products\\n')\n",
    "    np.set_printoptions(linewidth = 500)\n",
    "    for key, val in df.iteritems():\n",
    "        k = np.array2string(val[1])[1:-1]+'\\n'\n",
    "        s = str(val[0])+','+k\n",
    "        f.write(s)\n",
    "    f.close()\n",
    "    np.set_printoptions(linewidth = 75)"
   ]
  },
  {
   "cell_type": "code",
   "execution_count": null,
   "metadata": {
    "collapsed": false
   },
   "outputs": [],
   "source": [
    "testUserId = orders.query(\"eval_set == 'test'\").user_id.values\n",
    "testPriorOrderId = orders.query(\"(eval_set =='prior') and user_id in @testUsers\").index.values\n",
    "testPriorSet = prior.query('order_id in @testPriorOrderId')"
   ]
  },
  {
   "cell_type": "markdown",
   "metadata": {},
   "source": [
    "Сохранять результаты в dateframe вида\n",
    "\n",
    "1) user_id\n",
    "\n",
    "2) order_id\n",
    "\n",
    "3) prediction\n",
    "\n",
    "4) test"
   ]
  },
  {
   "cell_type": "code",
   "execution_count": null,
   "metadata": {
    "collapsed": true
   },
   "outputs": [],
   "source": [
    "trainDf = pd.DataFrame(columns = ['user_id','order_id','prediction','real'])"
   ]
  },
  {
   "cell_type": "code",
   "execution_count": null,
   "metadata": {
    "collapsed": false
   },
   "outputs": [],
   "source": [
    "targetGroup = 'train'\n",
    "\n",
    "userId = orders.query(\"eval_set == @targetGroup\").user_id.values\n",
    "priorOrderId = orders.query(\"(eval_set =='prior') and user_id in @userId\").index.values\n",
    "priorSet = prior.query('order_id in @priorOrderId')\n",
    "#trainPriorSet = addFeatures(trainPriorSet)\n",
    "priorSet = priorSet.merge(orders.loc[:,['user_id','order_number']],left_on='order_id',right_index=True,copy= False)\n",
    "\n",
    "# calculate basket size\n",
    "bs = priorSet.groupby('user_id').aggregate(basketSize)['order_id']\n",
    "bs.rename('basket_size',inplace=True);\n",
    "\n",
    "# plot basket size\n",
    "bs.hist(bins = 70);\n",
    "plt.xlabel('Mean basket size')\n",
    "plt.ylabel('Users')\n",
    "\n",
    "# calculate most popular goods\n",
    "prod = priorSet.groupby(['user_id','product_id']).order_id.size().to_frame(name = 'count')\n",
    "prod = prod.reset_index(level=1)\n",
    "prod = prod.reset_index(level=0)\n",
    "\n",
    "# reindex orders dataframe\n",
    "orders2 = orders.query(\"(user_id in @userId) and (eval_set == @targetGroup)\").reset_index().set_index('user_id')"
   ]
  },
  {
   "cell_type": "code",
   "execution_count": null,
   "metadata": {
    "collapsed": false
   },
   "outputs": [],
   "source": [
    "# create final set\n",
    "res = dict()\n",
    "for user_id, basket in prod.groupby('user_id'):\n",
    "    #print user_id\n",
    "    order_id = orders2.loc[user_id].order_id\n",
    "    trainDf = trainDf.append({'user_id':  user_id,\n",
    "                    'order_id': order_id,\n",
    "                    'prediction': basket.sort_values('count',ascending=False).head(int(np.floor(bs.get(user_id)))).product_id.values,\n",
    "                    'real': train.query('order_id == @order_id').product_id.values},\n",
    "                   ignore_index = True)\n",
    "\n",
    "trainDf.to_pickle('train_solution.pcl')    \n",
    "#save2File('solution3.csv',res)"
   ]
  },
  {
   "cell_type": "code",
   "execution_count": null,
   "metadata": {
    "collapsed": true
   },
   "outputs": [],
   "source": [
    "def f1Score(y_true, y_pred):\n",
    "    fullSet      = np.unique(np.hstack((y_pred,y_true)))\n",
    "    intersection = np.intersect1d(y_true,y_pred).size\n",
    "    precession   = intersection/float(y_pred.shape[0])\n",
    "    recall       = intersection/float(y_true.shape[0])\n",
    "    try:\n",
    "        f1 = 2*precession*recall/(precession+recall)\n",
    "    except ZeroDivisionError:\n",
    "        f1 = 0\n",
    "    return [precession, recall, f1]"
   ]
  },
  {
   "cell_type": "code",
   "execution_count": null,
   "metadata": {
    "collapsed": false
   },
   "outputs": [],
   "source": [
    "res = np.empty([0,5])\n",
    "for user_id, val in resTrain.iteritems():\n",
    "    order_id = val[0]\n",
    "    y_pr = val[1]\n",
    "    y_true = train.query('order_id == @order_id').product_id.values\n",
    "    [precession, recall, f1] = f1Score(y_true,y_pr)\n",
    "    res = np.vstack([res,[user_id, order_id, precession, recall, f1]])"
   ]
  },
  {
   "cell_type": "code",
   "execution_count": null,
   "metadata": {
    "collapsed": false
   },
   "outputs": [],
   "source": [
    "plt.figure(figsize=[20,5])\n",
    "\n",
    "plt.subplot(131)\n",
    "plt.hist(res[:,2],bins = 20);\n",
    "plt.title('precession')\n",
    "\n",
    "plt.subplot(132)\n",
    "plt.hist(res[:,3],bins = 20);\n",
    "plt.title('recall')\n",
    "\n",
    "plt.subplot(133)\n",
    "plt.hist(res[:,4],bins = 20);\n",
    "plt.title('f1')"
   ]
  },
  {
   "cell_type": "code",
   "execution_count": 280,
   "metadata": {
    "collapsed": false
   },
   "outputs": [],
   "source": [
    "tUser = 1 # target user\n",
    "pr = 13032 # target product\n",
    "# вот это можно вычислить один раз для пользователя\n",
    "trainOrder = orders.query(\"(user_id == @tUser) and eval_set != 'prior'\")\n",
    "trainOrderDay = trainOrder.date.values"
   ]
  },
  {
   "cell_type": "code",
   "execution_count": 281,
   "metadata": {
    "collapsed": false,
    "scrolled": true
   },
   "outputs": [
    {
     "data": {
      "text/html": [
       "<div>\n",
       "<table border=\"1\" class=\"dataframe\">\n",
       "  <thead>\n",
       "    <tr style=\"text-align: right;\">\n",
       "      <th></th>\n",
       "      <th>product_id</th>\n",
       "      <th>periodicity</th>\n",
       "      <th>absCount</th>\n",
       "      <th>lastOrder</th>\n",
       "      <th>wasOrdered</th>\n",
       "    </tr>\n",
       "  </thead>\n",
       "  <tbody>\n",
       "    <tr>\n",
       "      <th>0</th>\n",
       "      <td>196</td>\n",
       "      <td>19.555556</td>\n",
       "      <td>10</td>\n",
       "      <td>14.0</td>\n",
       "      <td>True</td>\n",
       "    </tr>\n",
       "    <tr>\n",
       "      <th>1</th>\n",
       "      <td>10258</td>\n",
       "      <td>20.125000</td>\n",
       "      <td>9</td>\n",
       "      <td>14.0</td>\n",
       "      <td>True</td>\n",
       "    </tr>\n",
       "    <tr>\n",
       "      <th>2</th>\n",
       "      <td>10326</td>\n",
       "      <td>NaN</td>\n",
       "      <td>1</td>\n",
       "      <td>97.0</td>\n",
       "      <td>False</td>\n",
       "    </tr>\n",
       "    <tr>\n",
       "      <th>3</th>\n",
       "      <td>12427</td>\n",
       "      <td>19.555556</td>\n",
       "      <td>10</td>\n",
       "      <td>14.0</td>\n",
       "      <td>False</td>\n",
       "    </tr>\n",
       "    <tr>\n",
       "      <th>4</th>\n",
       "      <td>13032</td>\n",
       "      <td>80.500000</td>\n",
       "      <td>3</td>\n",
       "      <td>14.0</td>\n",
       "      <td>True</td>\n",
       "    </tr>\n",
       "    <tr>\n",
       "      <th>5</th>\n",
       "      <td>13176</td>\n",
       "      <td>78.000000</td>\n",
       "      <td>2</td>\n",
       "      <td>97.0</td>\n",
       "      <td>False</td>\n",
       "    </tr>\n",
       "    <tr>\n",
       "      <th>6</th>\n",
       "      <td>14084</td>\n",
       "      <td>NaN</td>\n",
       "      <td>1</td>\n",
       "      <td>190.0</td>\n",
       "      <td>False</td>\n",
       "    </tr>\n",
       "    <tr>\n",
       "      <th>7</th>\n",
       "      <td>17122</td>\n",
       "      <td>NaN</td>\n",
       "      <td>1</td>\n",
       "      <td>97.0</td>\n",
       "      <td>False</td>\n",
       "    </tr>\n",
       "    <tr>\n",
       "      <th>8</th>\n",
       "      <td>25133</td>\n",
       "      <td>20.000000</td>\n",
       "      <td>8</td>\n",
       "      <td>14.0</td>\n",
       "      <td>True</td>\n",
       "    </tr>\n",
       "    <tr>\n",
       "      <th>9</th>\n",
       "      <td>26088</td>\n",
       "      <td>15.000000</td>\n",
       "      <td>2</td>\n",
       "      <td>175.0</td>\n",
       "      <td>True</td>\n",
       "    </tr>\n",
       "    <tr>\n",
       "      <th>10</th>\n",
       "      <td>26405</td>\n",
       "      <td>65.000000</td>\n",
       "      <td>2</td>\n",
       "      <td>125.0</td>\n",
       "      <td>True</td>\n",
       "    </tr>\n",
       "    <tr>\n",
       "      <th>11</th>\n",
       "      <td>30450</td>\n",
       "      <td>NaN</td>\n",
       "      <td>1</td>\n",
       "      <td>154.0</td>\n",
       "      <td>False</td>\n",
       "    </tr>\n",
       "    <tr>\n",
       "      <th>12</th>\n",
       "      <td>35951</td>\n",
       "      <td>NaN</td>\n",
       "      <td>1</td>\n",
       "      <td>14.0</td>\n",
       "      <td>False</td>\n",
       "    </tr>\n",
       "    <tr>\n",
       "      <th>13</th>\n",
       "      <td>38928</td>\n",
       "      <td>NaN</td>\n",
       "      <td>1</td>\n",
       "      <td>14.0</td>\n",
       "      <td>True</td>\n",
       "    </tr>\n",
       "    <tr>\n",
       "      <th>14</th>\n",
       "      <td>39657</td>\n",
       "      <td>NaN</td>\n",
       "      <td>1</td>\n",
       "      <td>14.0</td>\n",
       "      <td>True</td>\n",
       "    </tr>\n",
       "    <tr>\n",
       "      <th>15</th>\n",
       "      <td>41787</td>\n",
       "      <td>NaN</td>\n",
       "      <td>1</td>\n",
       "      <td>97.0</td>\n",
       "      <td>False</td>\n",
       "    </tr>\n",
       "    <tr>\n",
       "      <th>16</th>\n",
       "      <td>46149</td>\n",
       "      <td>15.000000</td>\n",
       "      <td>3</td>\n",
       "      <td>14.0</td>\n",
       "      <td>True</td>\n",
       "    </tr>\n",
       "    <tr>\n",
       "      <th>17</th>\n",
       "      <td>49235</td>\n",
       "      <td>0.000000</td>\n",
       "      <td>2</td>\n",
       "      <td>44.0</td>\n",
       "      <td>True</td>\n",
       "    </tr>\n",
       "  </tbody>\n",
       "</table>\n",
       "</div>"
      ],
      "text/plain": [
       "    product_id  periodicity  absCount  lastOrder wasOrdered\n",
       "0          196    19.555556        10       14.0       True\n",
       "1        10258    20.125000         9       14.0       True\n",
       "2        10326          NaN         1       97.0      False\n",
       "3        12427    19.555556        10       14.0      False\n",
       "4        13032    80.500000         3       14.0       True\n",
       "5        13176    78.000000         2       97.0      False\n",
       "6        14084          NaN         1      190.0      False\n",
       "7        17122          NaN         1       97.0      False\n",
       "8        25133    20.000000         8       14.0       True\n",
       "9        26088    15.000000         2      175.0       True\n",
       "10       26405    65.000000         2      125.0       True\n",
       "11       30450          NaN         1      154.0      False\n",
       "12       35951          NaN         1       14.0      False\n",
       "13       38928          NaN         1       14.0       True\n",
       "14       39657          NaN         1       14.0       True\n",
       "15       41787          NaN         1       97.0      False\n",
       "16       46149    15.000000         3       14.0       True\n",
       "17       49235     0.000000         2       44.0       True"
      ]
     },
     "execution_count": 281,
     "metadata": {},
     "output_type": "execute_result"
    }
   ],
   "source": [
    "preOrders = orders.query(\"(user_id == @tUser) and eval_set == 'prior' \").fillna(0).merge(\n",
    "    items,left_index=True,right_on='order_id',copy = False,how='inner')\n",
    "\n",
    "fullBasket = preOrders.product_id.unique()\n",
    "\n",
    "r2 = preOrders.groupby('product_id').agg(\n",
    "    {'date': lambda x: np.diff(x.values).mean(),\n",
    "     'order_number': lambda x: x.shape[0]}\n",
    "    ).rename(columns={'date': 'periodicity','order_number':'absCount'})\n",
    "\n",
    "r3 = preOrders.groupby('product_id').agg(\n",
    "    {'date': lambda x: int(trainOrderDay - x.iloc[-1])}\n",
    "    ).rename(columns={'date':'lastOrder'})\n",
    "\n",
    "r2 = r2.merge(r3,left_index=True,right_index=True)\n",
    "r2.reset_index(inplace=True)\n",
    "trainOrders = orders.query(\"(user_id == @tUser) and eval_set != 'prior' \").fillna(0).merge(\n",
    "    items,left_index=True,right_on='order_id',copy = False,how='inner')\n",
    "\n",
    "trainBasket = list(trainOrders.product_id.unique())\n",
    "r2 = r2.assign(wasOrdered = r2.product_id.apply(lambda x: x in trainBasket))\n",
    "r2"
   ]
  },
  {
   "cell_type": "code",
   "execution_count": 291,
   "metadata": {
    "collapsed": true
   },
   "outputs": [],
   "source": [
    "# теперь можно рассчитать популярность каждого продукта в процентах\n",
    "r2 = r2.assign(decay = r2.lastOrder/r2.periodicity)"
   ]
  },
  {
   "cell_type": "code",
   "execution_count": 306,
   "metadata": {
    "collapsed": false
   },
   "outputs": [],
   "source": [
    "r2.fillna(0,inplace=True)\n",
    "r2.replace(np.inf,0,inplace=True)"
   ]
  },
  {
   "cell_type": "code",
   "execution_count": 307,
   "metadata": {
    "collapsed": false
   },
   "outputs": [
    {
     "data": {
      "text/plain": [
       "array([<matplotlib.axes._subplots.AxesSubplot object at 0x000000000CD4C7F0>,\n",
       "       <matplotlib.axes._subplots.AxesSubplot object at 0x000000000BD13CF8>], dtype=object)"
      ]
     },
     "execution_count": 307,
     "metadata": {},
     "output_type": "execute_result"
    },
    {
     "data": {
      "image/png": "[encoded data removed]",
      "text/plain": [
       "<matplotlib.figure.Figure at 0xcec8390>"
      ]
     },
     "metadata": {},
     "output_type": "display_data"
    }
   ],
   "source": [
    "r2.hist(column='periodicity',by='wasOrdered',)"
   ]
  },
  {
   "cell_type": "code",
   "execution_count": 309,
   "metadata": {
    "collapsed": false
   },
   "outputs": [
    {
     "data": {
      "text/plain": [
       "array([<matplotlib.axes._subplots.AxesSubplot object at 0x000000000D7D3550>,\n",
       "       <matplotlib.axes._subplots.AxesSubplot object at 0x000000000D94A6A0>], dtype=object)"
      ]
     },
     "execution_count": 309,
     "metadata": {},
     "output_type": "execute_result"
    },
    {
     "data": {
      "image/png": "[encoded data removed]",
      "text/plain": [
       "<matplotlib.figure.Figure at 0xd7de4a8>"
      ]
     },
     "metadata": {},
     "output_type": "display_data"
    }
   ],
   "source": [
    "r2.hist(column='lastOrder',by='wasOrdered')"
   ]
  },
  {
   "cell_type": "code",
   "execution_count": 310,
   "metadata": {
    "collapsed": false
   },
   "outputs": [
    {
     "data": {
      "text/plain": [
       "array([<matplotlib.axes._subplots.AxesSubplot object at 0x000000000DAEE358>,\n",
       "       <matplotlib.axes._subplots.AxesSubplot object at 0x000000000DB3DF28>], dtype=object)"
      ]
     },
     "execution_count": 310,
     "metadata": {},
     "output_type": "execute_result"
    },
    {
     "data": {
      "image/png": "[encoded data removed]",
      "text/plain": [
       "<matplotlib.figure.Figure at 0xd7dec18>"
      ]
     },
     "metadata": {},
     "output_type": "display_data"
    }
   ],
   "source": [
    "r2.hist(column='absCount',by='wasOrdered')"
   ]
  },
  {
   "cell_type": "code",
   "execution_count": 312,
   "metadata": {
    "collapsed": false
   },
   "outputs": [
    {
     "data": {
      "text/plain": [
       "array([<matplotlib.axes._subplots.AxesSubplot object at 0x000000000E30F4E0>,\n",
       "       <matplotlib.axes._subplots.AxesSubplot object at 0x000000000D3D0A90>], dtype=object)"
      ]
     },
     "execution_count": 312,
     "metadata": {},
     "output_type": "execute_result"
    },
    {
     "data": {
      "image/png": "[encoded data removed]",
      "text/plain": [
       "<matplotlib.figure.Figure at 0xe31b710>"
      ]
     },
     "metadata": {},
     "output_type": "display_data"
    }
   ],
   "source": [
    "r2.hist(column='decay',by='wasOrdered',bins = 10)"
   ]
  },
  {
   "cell_type": "code",
   "execution_count": 313,
   "metadata": {
    "collapsed": false
   },
   "outputs": [
    {
     "data": {
      "text/html": [
       "<div>\n",
       "<table border=\"1\" class=\"dataframe\">\n",
       "  <thead>\n",
       "    <tr style=\"text-align: right;\">\n",
       "      <th></th>\n",
       "      <th>product_id</th>\n",
       "      <th>periodicity</th>\n",
       "      <th>absCount</th>\n",
       "      <th>lastOrder</th>\n",
       "      <th>wasOrdered</th>\n",
       "      <th>decay</th>\n",
       "      <th>product_name</th>\n",
       "      <th>aisle_id</th>\n",
       "      <th>department_id</th>\n",
       "    </tr>\n",
       "  </thead>\n",
       "  <tbody>\n",
       "    <tr>\n",
       "      <th>0</th>\n",
       "      <td>196</td>\n",
       "      <td>19.555556</td>\n",
       "      <td>10</td>\n",
       "      <td>14.0</td>\n",
       "      <td>True</td>\n",
       "      <td>0.715909</td>\n",
       "      <td>Soda</td>\n",
       "      <td>77</td>\n",
       "      <td>7</td>\n",
       "    </tr>\n",
       "    <tr>\n",
       "      <th>1</th>\n",
       "      <td>10258</td>\n",
       "      <td>20.125000</td>\n",
       "      <td>9</td>\n",
       "      <td>14.0</td>\n",
       "      <td>True</td>\n",
       "      <td>0.695652</td>\n",
       "      <td>Pistachios</td>\n",
       "      <td>117</td>\n",
       "      <td>19</td>\n",
       "    </tr>\n",
       "    <tr>\n",
       "      <th>2</th>\n",
       "      <td>10326</td>\n",
       "      <td>0.000000</td>\n",
       "      <td>1</td>\n",
       "      <td>97.0</td>\n",
       "      <td>False</td>\n",
       "      <td>0.000000</td>\n",
       "      <td>Organic Fuji Apples</td>\n",
       "      <td>24</td>\n",
       "      <td>4</td>\n",
       "    </tr>\n",
       "    <tr>\n",
       "      <th>3</th>\n",
       "      <td>12427</td>\n",
       "      <td>19.555556</td>\n",
       "      <td>10</td>\n",
       "      <td>14.0</td>\n",
       "      <td>False</td>\n",
       "      <td>0.715909</td>\n",
       "      <td>Original Beef Jerky</td>\n",
       "      <td>23</td>\n",
       "      <td>19</td>\n",
       "    </tr>\n",
       "    <tr>\n",
       "      <th>4</th>\n",
       "      <td>13032</td>\n",
       "      <td>80.500000</td>\n",
       "      <td>3</td>\n",
       "      <td>14.0</td>\n",
       "      <td>True</td>\n",
       "      <td>0.173913</td>\n",
       "      <td>Cinnamon Toast Crunch</td>\n",
       "      <td>121</td>\n",
       "      <td>14</td>\n",
       "    </tr>\n",
       "    <tr>\n",
       "      <th>5</th>\n",
       "      <td>13176</td>\n",
       "      <td>78.000000</td>\n",
       "      <td>2</td>\n",
       "      <td>97.0</td>\n",
       "      <td>False</td>\n",
       "      <td>1.243590</td>\n",
       "      <td>Bag of Organic Bananas</td>\n",
       "      <td>24</td>\n",
       "      <td>4</td>\n",
       "    </tr>\n",
       "    <tr>\n",
       "      <th>6</th>\n",
       "      <td>14084</td>\n",
       "      <td>0.000000</td>\n",
       "      <td>1</td>\n",
       "      <td>190.0</td>\n",
       "      <td>False</td>\n",
       "      <td>0.000000</td>\n",
       "      <td>Organic Unsweetened Vanilla Almond Milk</td>\n",
       "      <td>91</td>\n",
       "      <td>16</td>\n",
       "    </tr>\n",
       "    <tr>\n",
       "      <th>7</th>\n",
       "      <td>17122</td>\n",
       "      <td>0.000000</td>\n",
       "      <td>1</td>\n",
       "      <td>97.0</td>\n",
       "      <td>False</td>\n",
       "      <td>0.000000</td>\n",
       "      <td>Honeycrisp Apples</td>\n",
       "      <td>24</td>\n",
       "      <td>4</td>\n",
       "    </tr>\n",
       "    <tr>\n",
       "      <th>8</th>\n",
       "      <td>25133</td>\n",
       "      <td>20.000000</td>\n",
       "      <td>8</td>\n",
       "      <td>14.0</td>\n",
       "      <td>True</td>\n",
       "      <td>0.700000</td>\n",
       "      <td>Organic String Cheese</td>\n",
       "      <td>21</td>\n",
       "      <td>16</td>\n",
       "    </tr>\n",
       "    <tr>\n",
       "      <th>9</th>\n",
       "      <td>26088</td>\n",
       "      <td>15.000000</td>\n",
       "      <td>2</td>\n",
       "      <td>175.0</td>\n",
       "      <td>True</td>\n",
       "      <td>11.666667</td>\n",
       "      <td>Aged White Cheddar Popcorn</td>\n",
       "      <td>23</td>\n",
       "      <td>19</td>\n",
       "    </tr>\n",
       "    <tr>\n",
       "      <th>10</th>\n",
       "      <td>26405</td>\n",
       "      <td>65.000000</td>\n",
       "      <td>2</td>\n",
       "      <td>125.0</td>\n",
       "      <td>True</td>\n",
       "      <td>1.923077</td>\n",
       "      <td>XL Pick-A-Size Paper Towel Rolls</td>\n",
       "      <td>54</td>\n",
       "      <td>17</td>\n",
       "    </tr>\n",
       "    <tr>\n",
       "      <th>11</th>\n",
       "      <td>30450</td>\n",
       "      <td>0.000000</td>\n",
       "      <td>1</td>\n",
       "      <td>154.0</td>\n",
       "      <td>False</td>\n",
       "      <td>0.000000</td>\n",
       "      <td>Creamy Almond Butter</td>\n",
       "      <td>88</td>\n",
       "      <td>13</td>\n",
       "    </tr>\n",
       "    <tr>\n",
       "      <th>12</th>\n",
       "      <td>35951</td>\n",
       "      <td>0.000000</td>\n",
       "      <td>1</td>\n",
       "      <td>14.0</td>\n",
       "      <td>False</td>\n",
       "      <td>0.000000</td>\n",
       "      <td>Organic Unsweetened Almond Milk</td>\n",
       "      <td>91</td>\n",
       "      <td>16</td>\n",
       "    </tr>\n",
       "    <tr>\n",
       "      <th>13</th>\n",
       "      <td>38928</td>\n",
       "      <td>0.000000</td>\n",
       "      <td>1</td>\n",
       "      <td>14.0</td>\n",
       "      <td>True</td>\n",
       "      <td>0.000000</td>\n",
       "      <td>0% Greek Strained Yogurt</td>\n",
       "      <td>120</td>\n",
       "      <td>16</td>\n",
       "    </tr>\n",
       "    <tr>\n",
       "      <th>14</th>\n",
       "      <td>39657</td>\n",
       "      <td>0.000000</td>\n",
       "      <td>1</td>\n",
       "      <td>14.0</td>\n",
       "      <td>True</td>\n",
       "      <td>0.000000</td>\n",
       "      <td>Milk Chocolate Almonds</td>\n",
       "      <td>45</td>\n",
       "      <td>19</td>\n",
       "    </tr>\n",
       "    <tr>\n",
       "      <th>15</th>\n",
       "      <td>41787</td>\n",
       "      <td>0.000000</td>\n",
       "      <td>1</td>\n",
       "      <td>97.0</td>\n",
       "      <td>False</td>\n",
       "      <td>0.000000</td>\n",
       "      <td>Bartlett Pears</td>\n",
       "      <td>24</td>\n",
       "      <td>4</td>\n",
       "    </tr>\n",
       "    <tr>\n",
       "      <th>16</th>\n",
       "      <td>46149</td>\n",
       "      <td>15.000000</td>\n",
       "      <td>3</td>\n",
       "      <td>14.0</td>\n",
       "      <td>True</td>\n",
       "      <td>0.933333</td>\n",
       "      <td>Zero Calorie Cola</td>\n",
       "      <td>77</td>\n",
       "      <td>7</td>\n",
       "    </tr>\n",
       "    <tr>\n",
       "      <th>17</th>\n",
       "      <td>49235</td>\n",
       "      <td>0.000000</td>\n",
       "      <td>2</td>\n",
       "      <td>44.0</td>\n",
       "      <td>True</td>\n",
       "      <td>0.000000</td>\n",
       "      <td>Organic Half &amp; Half</td>\n",
       "      <td>53</td>\n",
       "      <td>16</td>\n",
       "    </tr>\n",
       "  </tbody>\n",
       "</table>\n",
       "</div>"
      ],
      "text/plain": [
       "    product_id  periodicity  absCount  lastOrder wasOrdered      decay  \\\n",
       "0          196    19.555556        10       14.0       True   0.715909   \n",
       "1        10258    20.125000         9       14.0       True   0.695652   \n",
       "2        10326     0.000000         1       97.0      False   0.000000   \n",
       "3        12427    19.555556        10       14.0      False   0.715909   \n",
       "4        13032    80.500000         3       14.0       True   0.173913   \n",
       "5        13176    78.000000         2       97.0      False   1.243590   \n",
       "6        14084     0.000000         1      190.0      False   0.000000   \n",
       "7        17122     0.000000         1       97.0      False   0.000000   \n",
       "8        25133    20.000000         8       14.0       True   0.700000   \n",
       "9        26088    15.000000         2      175.0       True  11.666667   \n",
       "10       26405    65.000000         2      125.0       True   1.923077   \n",
       "11       30450     0.000000         1      154.0      False   0.000000   \n",
       "12       35951     0.000000         1       14.0      False   0.000000   \n",
       "13       38928     0.000000         1       14.0       True   0.000000   \n",
       "14       39657     0.000000         1       14.0       True   0.000000   \n",
       "15       41787     0.000000         1       97.0      False   0.000000   \n",
       "16       46149    15.000000         3       14.0       True   0.933333   \n",
       "17       49235     0.000000         2       44.0       True   0.000000   \n",
       "\n",
       "                               product_name  aisle_id  department_id  \n",
       "0                                      Soda        77              7  \n",
       "1                                Pistachios       117             19  \n",
       "2                       Organic Fuji Apples        24              4  \n",
       "3                       Original Beef Jerky        23             19  \n",
       "4                     Cinnamon Toast Crunch       121             14  \n",
       "5                    Bag of Organic Bananas        24              4  \n",
       "6   Organic Unsweetened Vanilla Almond Milk        91             16  \n",
       "7                         Honeycrisp Apples        24              4  \n",
       "8                     Organic String Cheese        21             16  \n",
       "9                Aged White Cheddar Popcorn        23             19  \n",
       "10         XL Pick-A-Size Paper Towel Rolls        54             17  \n",
       "11                     Creamy Almond Butter        88             13  \n",
       "12          Organic Unsweetened Almond Milk        91             16  \n",
       "13                 0% Greek Strained Yogurt       120             16  \n",
       "14                   Milk Chocolate Almonds        45             19  \n",
       "15                           Bartlett Pears        24              4  \n",
       "16                        Zero Calorie Cola        77              7  \n",
       "17                      Organic Half & Half        53             16  "
      ]
     },
     "execution_count": 313,
     "metadata": {},
     "output_type": "execute_result"
    }
   ],
   "source": [
    "r2.merge(products,left_on='product_id',right_index=True)"
   ]
  },
  {
   "cell_type": "code",
   "execution_count": null,
   "metadata": {
    "collapsed": true
   },
   "outputs": [],
   "source": []
  }
 ],
 "metadata": {
  "kernelspec": {
   "display_name": "Python 2",
   "language": "python",
   "name": "python2"
  },
  "language_info": {
   "codemirror_mode": {
    "name": "ipython",
    "version": 2
   },
   "file_extension": ".py",
   "mimetype": "text/x-python",
   "name": "python",
   "nbconvert_exporter": "python",
   "pygments_lexer": "ipython2",
   "version": "2.7.13"
  }
 },
 "nbformat": 4,
 "nbformat_minor": 2
}
