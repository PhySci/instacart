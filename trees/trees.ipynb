{
 "cells": [
  {
   "cell_type": "code",
   "execution_count": 33,
   "metadata": {
    "collapsed": true
   },
   "outputs": [],
   "source": [
    "import numpy as np\n",
    "import pandas as pd\n",
    "import collections\n",
    "\n",
    "import matplotlib.pyplot as plt\n",
    "\n",
    "% matplotlib inline"
   ]
  },
  {
   "cell_type": "markdown",
   "metadata": {},
   "source": [
    "Я напрочь забыл всё, что делал с SGD классификатором. Поэтому надо бы вспомнить. Оптимальный вариант - сформировать хороший pipepline с тем, что делать одну процедуру для всех.\n",
    "\n",
    "<ol> <u>Что необходимо сделать:</u>\n",
    "<li> Скоринговая функция расчёта f1\n",
    "<li> Какие признаки должны войти в dataset?\n",
    "<li> функционал подбора гиперпараметров\n",
    "</ol>"
   ]
  },
  {
   "cell_type": "markdown",
   "metadata": {},
   "source": [
    "Для каждого пользователя следует рассчитать следующие свойства:\n",
    "\n",
    "1. Полный список всех продуктов (fullBasket)\n",
    "2. Для каждого продукта из fullBasket\n",
    "    - сколько раз этот продукт был куплен;\n",
    "    - средняя периодичность покупок данного товара (в днях);\n",
    "    - сколько дней прошло с последней покупки данного товара;\n",
    "    - "
   ]
  },
  {
   "cell_type": "code",
   "execution_count": 4,
   "metadata": {
    "collapsed": false
   },
   "outputs": [
    {
     "data": {
      "text/html": [
       "<div>\n",
       "<table border=\"1\" class=\"dataframe\">\n",
       "  <thead>\n",
       "    <tr style=\"text-align: right;\">\n",
       "      <th></th>\n",
       "      <th>user_id</th>\n",
       "      <th>eval_set</th>\n",
       "      <th>order_number</th>\n",
       "      <th>days_since_prior_order</th>\n",
       "    </tr>\n",
       "    <tr>\n",
       "      <th>order_id</th>\n",
       "      <th></th>\n",
       "      <th></th>\n",
       "      <th></th>\n",
       "      <th></th>\n",
       "    </tr>\n",
       "  </thead>\n",
       "  <tbody>\n",
       "    <tr>\n",
       "      <th>2539329</th>\n",
       "      <td>1</td>\n",
       "      <td>prior</td>\n",
       "      <td>1</td>\n",
       "      <td>NaN</td>\n",
       "    </tr>\n",
       "    <tr>\n",
       "      <th>2398795</th>\n",
       "      <td>1</td>\n",
       "      <td>prior</td>\n",
       "      <td>2</td>\n",
       "      <td>15.0</td>\n",
       "    </tr>\n",
       "    <tr>\n",
       "      <th>473747</th>\n",
       "      <td>1</td>\n",
       "      <td>prior</td>\n",
       "      <td>3</td>\n",
       "      <td>21.0</td>\n",
       "    </tr>\n",
       "    <tr>\n",
       "      <th>2254736</th>\n",
       "      <td>1</td>\n",
       "      <td>prior</td>\n",
       "      <td>4</td>\n",
       "      <td>29.0</td>\n",
       "    </tr>\n",
       "    <tr>\n",
       "      <th>431534</th>\n",
       "      <td>1</td>\n",
       "      <td>prior</td>\n",
       "      <td>5</td>\n",
       "      <td>28.0</td>\n",
       "    </tr>\n",
       "  </tbody>\n",
       "</table>\n",
       "</div>"
      ],
      "text/plain": [
       "          user_id eval_set  order_number  days_since_prior_order\n",
       "order_id                                                        \n",
       "2539329         1    prior             1                     NaN\n",
       "2398795         1    prior             2                    15.0\n",
       "473747          1    prior             3                    21.0\n",
       "2254736         1    prior             4                    29.0\n",
       "431534          1    prior             5                    28.0"
      ]
     },
     "execution_count": 4,
     "metadata": {},
     "output_type": "execute_result"
    }
   ],
   "source": [
    "# подгружаем данные\n",
    "# This file tells to which set (prior, train, test) an order belongs.\n",
    "# You are predicting reordered items only for the test set orders. 'order_dow' is the day of week.\n",
    "\n",
    "# COLUMNS:\n",
    "# order_id,user_id,eval_set,order_number,order_dow,order_hour_of_day,days_since_prior_order\n",
    "orders = pd.read_pickle('../data/orders.pcl')\n",
    "ordersGroup = orders.groupby('user_id')\n",
    "orders.head()"
   ]
  },
  {
   "cell_type": "code",
   "execution_count": 6,
   "metadata": {
    "collapsed": false
   },
   "outputs": [
    {
     "data": {
      "text/html": [
       "<div>\n",
       "<table border=\"1\" class=\"dataframe\">\n",
       "  <thead>\n",
       "    <tr style=\"text-align: right;\">\n",
       "      <th></th>\n",
       "      <th>order_id</th>\n",
       "      <th>product_id</th>\n",
       "    </tr>\n",
       "  </thead>\n",
       "  <tbody>\n",
       "    <tr>\n",
       "      <th>0</th>\n",
       "      <td>1</td>\n",
       "      <td>49302</td>\n",
       "    </tr>\n",
       "    <tr>\n",
       "      <th>1</th>\n",
       "      <td>1</td>\n",
       "      <td>11109</td>\n",
       "    </tr>\n",
       "    <tr>\n",
       "      <th>2</th>\n",
       "      <td>1</td>\n",
       "      <td>10246</td>\n",
       "    </tr>\n",
       "    <tr>\n",
       "      <th>3</th>\n",
       "      <td>1</td>\n",
       "      <td>49683</td>\n",
       "    </tr>\n",
       "    <tr>\n",
       "      <th>4</th>\n",
       "      <td>1</td>\n",
       "      <td>43633</td>\n",
       "    </tr>\n",
       "  </tbody>\n",
       "</table>\n",
       "</div>"
      ],
      "text/plain": [
       "   order_id  product_id\n",
       "0         1       49302\n",
       "1         1       11109\n",
       "2         1       10246\n",
       "3         1       49683\n",
       "4         1       43633"
      ]
     },
     "execution_count": 6,
     "metadata": {},
     "output_type": "execute_result"
    }
   ],
   "source": [
    "items = pd.read_pickle('../data/items.pcl')\n",
    "itemsGroup = items.groupby('order_id')\n",
    "items.head()"
   ]
  },
  {
   "cell_type": "markdown",
   "metadata": {},
   "source": [
    "## что теперь делаем?\n",
    "1) Проходим по всем пользователям.\n",
    "\n",
    "2) Получаем список всех prior заказов пользователя.\n",
    "\n",
    "3) П"
   ]
  },
  {
   "cell_type": "code",
   "execution_count": 183,
   "metadata": {
    "collapsed": false
   },
   "outputs": [
    {
     "name": "stdout",
     "output_type": "stream",
     "text": [
      "[2539329 2398795  473747 2254736  431534 3367565  550135 3108588 2295261\n",
      " 2550362]\n",
      "1187899\n"
     ]
    },
    {
     "data": {
      "text/html": [
       "<div>\n",
       "<table border=\"1\" class=\"dataframe\">\n",
       "  <thead>\n",
       "    <tr style=\"text-align: right;\">\n",
       "      <th></th>\n",
       "      <th>user_id</th>\n",
       "      <th>eval_set</th>\n",
       "      <th>order_number</th>\n",
       "      <th>days_since_prior_order</th>\n",
       "      <th>date</th>\n",
       "    </tr>\n",
       "    <tr>\n",
       "      <th>order_id</th>\n",
       "      <th></th>\n",
       "      <th></th>\n",
       "      <th></th>\n",
       "      <th></th>\n",
       "      <th></th>\n",
       "    </tr>\n",
       "  </thead>\n",
       "  <tbody>\n",
       "    <tr>\n",
       "      <th>2539329</th>\n",
       "      <td>1</td>\n",
       "      <td>prior</td>\n",
       "      <td>1</td>\n",
       "      <td>0.0</td>\n",
       "      <td>0.0</td>\n",
       "    </tr>\n",
       "    <tr>\n",
       "      <th>2398795</th>\n",
       "      <td>1</td>\n",
       "      <td>prior</td>\n",
       "      <td>2</td>\n",
       "      <td>15.0</td>\n",
       "      <td>15.0</td>\n",
       "    </tr>\n",
       "    <tr>\n",
       "      <th>473747</th>\n",
       "      <td>1</td>\n",
       "      <td>prior</td>\n",
       "      <td>3</td>\n",
       "      <td>21.0</td>\n",
       "      <td>36.0</td>\n",
       "    </tr>\n",
       "    <tr>\n",
       "      <th>2254736</th>\n",
       "      <td>1</td>\n",
       "      <td>prior</td>\n",
       "      <td>4</td>\n",
       "      <td>29.0</td>\n",
       "      <td>65.0</td>\n",
       "    </tr>\n",
       "    <tr>\n",
       "      <th>431534</th>\n",
       "      <td>1</td>\n",
       "      <td>prior</td>\n",
       "      <td>5</td>\n",
       "      <td>28.0</td>\n",
       "      <td>93.0</td>\n",
       "    </tr>\n",
       "  </tbody>\n",
       "</table>\n",
       "</div>"
      ],
      "text/plain": [
       "          user_id eval_set  order_number  days_since_prior_order  date\n",
       "order_id                                                              \n",
       "2539329         1    prior             1                     0.0   0.0\n",
       "2398795         1    prior             2                    15.0  15.0\n",
       "473747          1    prior             3                    21.0  36.0\n",
       "2254736         1    prior             4                    29.0  65.0\n",
       "431534          1    prior             5                    28.0  93.0"
      ]
     },
     "execution_count": 183,
     "metadata": {},
     "output_type": "execute_result"
    }
   ],
   "source": [
    "tUser = 1\n",
    "userOrders = ordersGroup.get_group(tUser).fillna(0)\n",
    "userOrders = userOrders.assign(date = userOrders.days_since_prior_order.cumsum()) \n",
    "userOrdersId = userOrders.index.values\n",
    "priorOrders = userOrdersId[:-1]\n",
    "lastOrder = userOrdersId[-1]\n",
    "\n",
    "print priorOrders\n",
    "print lastOrder\n",
    "\n",
    "userOrders.head()"
   ]
  },
  {
   "cell_type": "code",
   "execution_count": 176,
   "metadata": {
    "collapsed": false
   },
   "outputs": [
    {
     "name": "stdout",
     "output_type": "stream",
     "text": [
      "[5 6 5 5 8 4 5 6 6 9]\n",
      "11\n"
     ]
    },
    {
     "data": {
      "text/html": [
       "<div>\n",
       "<table border=\"1\" class=\"dataframe\">\n",
       "  <thead>\n",
       "    <tr style=\"text-align: right;\">\n",
       "      <th></th>\n",
       "      <th>product_id</th>\n",
       "      <th>amount</th>\n",
       "    </tr>\n",
       "  </thead>\n",
       "  <tbody>\n",
       "    <tr>\n",
       "      <th>0</th>\n",
       "      <td>17122</td>\n",
       "      <td>1</td>\n",
       "    </tr>\n",
       "    <tr>\n",
       "      <th>1</th>\n",
       "      <td>41787</td>\n",
       "      <td>1</td>\n",
       "    </tr>\n",
       "    <tr>\n",
       "      <th>2</th>\n",
       "      <td>14084</td>\n",
       "      <td>1</td>\n",
       "    </tr>\n",
       "    <tr>\n",
       "      <th>3</th>\n",
       "      <td>26405</td>\n",
       "      <td>2</td>\n",
       "    </tr>\n",
       "    <tr>\n",
       "      <th>4</th>\n",
       "      <td>26088</td>\n",
       "      <td>2</td>\n",
       "    </tr>\n",
       "    <tr>\n",
       "      <th>5</th>\n",
       "      <td>39657</td>\n",
       "      <td>1</td>\n",
       "    </tr>\n",
       "    <tr>\n",
       "      <th>6</th>\n",
       "      <td>12427</td>\n",
       "      <td>10</td>\n",
       "    </tr>\n",
       "    <tr>\n",
       "      <th>7</th>\n",
       "      <td>25133</td>\n",
       "      <td>8</td>\n",
       "    </tr>\n",
       "    <tr>\n",
       "      <th>8</th>\n",
       "      <td>35951</td>\n",
       "      <td>1</td>\n",
       "    </tr>\n",
       "    <tr>\n",
       "      <th>9</th>\n",
       "      <td>38928</td>\n",
       "      <td>1</td>\n",
       "    </tr>\n",
       "  </tbody>\n",
       "</table>\n",
       "</div>"
      ],
      "text/plain": [
       "   product_id  amount\n",
       "0       17122       1\n",
       "1       41787       1\n",
       "2       14084       1\n",
       "3       26405       2\n",
       "4       26088       2\n",
       "5       39657       1\n",
       "6       12427      10\n",
       "7       25133       8\n",
       "8       35951       1\n",
       "9       38928       1"
      ]
     },
     "execution_count": 176,
     "metadata": {},
     "output_type": "execute_result"
    }
   ],
   "source": [
    "cnt = collections.Counter()\n",
    "allBaskets = [itemsGroup.get_group(ordId).product_id.values for ordId in priorOrders]\n",
    "basketSize = []\n",
    "for k in allBaskets:\n",
    "    basketSize.append(k.shape[0])\n",
    "    for v in k:\n",
    "        cnt[v]+=1\n",
    "tmp = pd.DataFrame.from_dict(cnt, orient='index').reset_index().rename(columns = {'index':'product_id',0:'amount'})\n",
    "basketSize = np.array(basketSize)\n",
    "print basketSize\n",
    "print itemsGroup.get_group(lastOrder).shape[0]\n",
    "tmp.head(10)"
   ]
  },
  {
   "cell_type": "code",
   "execution_count": 181,
   "metadata": {
    "collapsed": false
   },
   "outputs": [
    {
     "data": {
      "text/plain": [
       "[          order_id  product_id\n",
       " 24076664   2539329         196\n",
       " 24076665   2539329       14084\n",
       " 24076666   2539329       12427\n",
       " 24076667   2539329       26088\n",
       " 24076668   2539329       26405,           order_id  product_id\n",
       " 22742744   2398795         196\n",
       " 22742745   2398795       10258\n",
       " 22742746   2398795       12427\n",
       " 22742747   2398795       13176\n",
       " 22742748   2398795       26088\n",
       " 22742749   2398795       13032,          order_id  product_id\n",
       " 4488095    473747         196\n",
       " 4488096    473747       12427\n",
       " 4488097    473747       10258\n",
       " 4488098    473747       25133\n",
       " 4488099    473747       30450,           order_id  product_id\n",
       " 21376074   2254736         196\n",
       " 21376075   2254736       12427\n",
       " 21376076   2254736       10258\n",
       " 21376077   2254736       25133\n",
       " 21376078   2254736       26405,          order_id  product_id\n",
       " 4089398    431534         196\n",
       " 4089399    431534       12427\n",
       " 4089400    431534       10258\n",
       " 4089401    431534       25133\n",
       " 4089402    431534       10326\n",
       " 4089403    431534       17122\n",
       " 4089404    431534       41787\n",
       " 4089405    431534       13176,           order_id  product_id\n",
       " 31927070   3367565         196\n",
       " 31927071   3367565       12427\n",
       " 31927072   3367565       10258\n",
       " 31927073   3367565       25133,          order_id  product_id\n",
       " 5212927    550135         196\n",
       " 5212928    550135       10258\n",
       " 5212929    550135       12427\n",
       " 5212930    550135       25133\n",
       " 5212931    550135       13032,           order_id  product_id\n",
       " 29474805   3108588       12427\n",
       " 29474806   3108588         196\n",
       " 29474807   3108588       10258\n",
       " 29474808   3108588       25133\n",
       " 29474809   3108588       46149\n",
       " 29474810   3108588       49235,           order_id  product_id\n",
       " 21760443   2295261       49235\n",
       " 21760444   2295261       46149\n",
       " 21760445   2295261       25133\n",
       " 21760446   2295261         196\n",
       " 21760447   2295261       10258\n",
       " 21760448   2295261       12427,           order_id  product_id\n",
       " 24181266   2550362         196\n",
       " 24181267   2550362       46149\n",
       " 24181268   2550362       39657\n",
       " 24181269   2550362       38928\n",
       " 24181270   2550362       25133\n",
       " 24181271   2550362       10258\n",
       " 24181272   2550362       35951\n",
       " 24181273   2550362       13032\n",
       " 24181274   2550362       12427]"
      ]
     },
     "execution_count": 181,
     "metadata": {},
     "output_type": "execute_result"
    }
   ],
   "source": [
    "[itemsGroup.get_group(ordId) for ordId in priorOrders]"
   ]
  },
  {
   "cell_type": "code",
   "execution_count": null,
   "metadata": {
    "collapsed": true
   },
   "outputs": [],
   "source": []
  }
 ],
 "metadata": {
  "kernelspec": {
   "display_name": "Python 2",
   "language": "python",
   "name": "python2"
  },
  "language_info": {
   "codemirror_mode": {
    "name": "ipython",
    "version": 2
   },
   "file_extension": ".py",
   "mimetype": "text/x-python",
   "name": "python",
   "nbconvert_exporter": "python",
   "pygments_lexer": "ipython2",
   "version": "2.7.13"
  }
 },
 "nbformat": 4,
 "nbformat_minor": 2
}
