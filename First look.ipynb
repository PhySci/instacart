{
 "cells": [
  {
   "cell_type": "code",
   "execution_count": 1,
   "metadata": {
    "collapsed": false
   },
   "outputs": [],
   "source": [
    "import pandas as pd\n",
    "import numpy as np\n",
    "import matplotlib.pyplot as plt\n",
    "\n",
    "%matplotlib inline"
   ]
  },
  {
   "cell_type": "markdown",
   "metadata": {},
   "source": [
    "## Read datasets"
   ]
  },
  {
   "cell_type": "code",
   "execution_count": 2,
   "metadata": {
    "collapsed": false,
    "scrolled": true
   },
   "outputs": [],
   "source": [
    "# This file tells to which set (prior, train, test) an order belongs.\n",
    "# You are predicting reordered items only for the test set orders. 'order_dow' is the day of week.\n",
    "\n",
    "# COLUMNS:\n",
    "# order_id,user_id,eval_set,order_number,order_dow,order_hour_of_day,days_since_prior_order\n",
    "orders = pd.read_csv('./data/orders.csv',index_col = 'order_id')"
   ]
  },
  {
   "cell_type": "code",
   "execution_count": 106,
   "metadata": {
    "collapsed": false
   },
   "outputs": [
    {
     "data": {
      "text/html": [
       "<div>\n",
       "<table border=\"1\" class=\"dataframe\">\n",
       "  <thead>\n",
       "    <tr style=\"text-align: right;\">\n",
       "      <th></th>\n",
       "      <th>user_id</th>\n",
       "      <th>eval_set</th>\n",
       "      <th>order_number</th>\n",
       "      <th>order_dow</th>\n",
       "      <th>order_hour_of_day</th>\n",
       "      <th>days_since_prior_order</th>\n",
       "    </tr>\n",
       "    <tr>\n",
       "      <th>order_id</th>\n",
       "      <th></th>\n",
       "      <th></th>\n",
       "      <th></th>\n",
       "      <th></th>\n",
       "      <th></th>\n",
       "      <th></th>\n",
       "    </tr>\n",
       "  </thead>\n",
       "  <tbody>\n",
       "    <tr>\n",
       "      <th>2539329</th>\n",
       "      <td>1</td>\n",
       "      <td>prior</td>\n",
       "      <td>1</td>\n",
       "      <td>2</td>\n",
       "      <td>8</td>\n",
       "      <td>NaN</td>\n",
       "    </tr>\n",
       "    <tr>\n",
       "      <th>2398795</th>\n",
       "      <td>1</td>\n",
       "      <td>prior</td>\n",
       "      <td>2</td>\n",
       "      <td>3</td>\n",
       "      <td>7</td>\n",
       "      <td>15.0</td>\n",
       "    </tr>\n",
       "    <tr>\n",
       "      <th>473747</th>\n",
       "      <td>1</td>\n",
       "      <td>prior</td>\n",
       "      <td>3</td>\n",
       "      <td>3</td>\n",
       "      <td>12</td>\n",
       "      <td>21.0</td>\n",
       "    </tr>\n",
       "    <tr>\n",
       "      <th>2254736</th>\n",
       "      <td>1</td>\n",
       "      <td>prior</td>\n",
       "      <td>4</td>\n",
       "      <td>4</td>\n",
       "      <td>7</td>\n",
       "      <td>29.0</td>\n",
       "    </tr>\n",
       "    <tr>\n",
       "      <th>431534</th>\n",
       "      <td>1</td>\n",
       "      <td>prior</td>\n",
       "      <td>5</td>\n",
       "      <td>4</td>\n",
       "      <td>15</td>\n",
       "      <td>28.0</td>\n",
       "    </tr>\n",
       "    <tr>\n",
       "      <th>3367565</th>\n",
       "      <td>1</td>\n",
       "      <td>prior</td>\n",
       "      <td>6</td>\n",
       "      <td>2</td>\n",
       "      <td>7</td>\n",
       "      <td>19.0</td>\n",
       "    </tr>\n",
       "    <tr>\n",
       "      <th>550135</th>\n",
       "      <td>1</td>\n",
       "      <td>prior</td>\n",
       "      <td>7</td>\n",
       "      <td>1</td>\n",
       "      <td>9</td>\n",
       "      <td>20.0</td>\n",
       "    </tr>\n",
       "    <tr>\n",
       "      <th>3108588</th>\n",
       "      <td>1</td>\n",
       "      <td>prior</td>\n",
       "      <td>8</td>\n",
       "      <td>1</td>\n",
       "      <td>14</td>\n",
       "      <td>14.0</td>\n",
       "    </tr>\n",
       "    <tr>\n",
       "      <th>2295261</th>\n",
       "      <td>1</td>\n",
       "      <td>prior</td>\n",
       "      <td>9</td>\n",
       "      <td>1</td>\n",
       "      <td>16</td>\n",
       "      <td>0.0</td>\n",
       "    </tr>\n",
       "    <tr>\n",
       "      <th>2550362</th>\n",
       "      <td>1</td>\n",
       "      <td>prior</td>\n",
       "      <td>10</td>\n",
       "      <td>4</td>\n",
       "      <td>8</td>\n",
       "      <td>30.0</td>\n",
       "    </tr>\n",
       "    <tr>\n",
       "      <th>1187899</th>\n",
       "      <td>1</td>\n",
       "      <td>train</td>\n",
       "      <td>11</td>\n",
       "      <td>4</td>\n",
       "      <td>8</td>\n",
       "      <td>14.0</td>\n",
       "    </tr>\n",
       "    <tr>\n",
       "      <th>2168274</th>\n",
       "      <td>2</td>\n",
       "      <td>prior</td>\n",
       "      <td>1</td>\n",
       "      <td>2</td>\n",
       "      <td>11</td>\n",
       "      <td>NaN</td>\n",
       "    </tr>\n",
       "    <tr>\n",
       "      <th>1501582</th>\n",
       "      <td>2</td>\n",
       "      <td>prior</td>\n",
       "      <td>2</td>\n",
       "      <td>5</td>\n",
       "      <td>10</td>\n",
       "      <td>10.0</td>\n",
       "    </tr>\n",
       "    <tr>\n",
       "      <th>1901567</th>\n",
       "      <td>2</td>\n",
       "      <td>prior</td>\n",
       "      <td>3</td>\n",
       "      <td>1</td>\n",
       "      <td>10</td>\n",
       "      <td>3.0</td>\n",
       "    </tr>\n",
       "    <tr>\n",
       "      <th>738281</th>\n",
       "      <td>2</td>\n",
       "      <td>prior</td>\n",
       "      <td>4</td>\n",
       "      <td>2</td>\n",
       "      <td>10</td>\n",
       "      <td>8.0</td>\n",
       "    </tr>\n",
       "    <tr>\n",
       "      <th>1673511</th>\n",
       "      <td>2</td>\n",
       "      <td>prior</td>\n",
       "      <td>5</td>\n",
       "      <td>3</td>\n",
       "      <td>11</td>\n",
       "      <td>8.0</td>\n",
       "    </tr>\n",
       "    <tr>\n",
       "      <th>1199898</th>\n",
       "      <td>2</td>\n",
       "      <td>prior</td>\n",
       "      <td>6</td>\n",
       "      <td>2</td>\n",
       "      <td>9</td>\n",
       "      <td>13.0</td>\n",
       "    </tr>\n",
       "    <tr>\n",
       "      <th>3194192</th>\n",
       "      <td>2</td>\n",
       "      <td>prior</td>\n",
       "      <td>7</td>\n",
       "      <td>2</td>\n",
       "      <td>12</td>\n",
       "      <td>14.0</td>\n",
       "    </tr>\n",
       "    <tr>\n",
       "      <th>788338</th>\n",
       "      <td>2</td>\n",
       "      <td>prior</td>\n",
       "      <td>8</td>\n",
       "      <td>1</td>\n",
       "      <td>15</td>\n",
       "      <td>27.0</td>\n",
       "    </tr>\n",
       "    <tr>\n",
       "      <th>1718559</th>\n",
       "      <td>2</td>\n",
       "      <td>prior</td>\n",
       "      <td>9</td>\n",
       "      <td>2</td>\n",
       "      <td>9</td>\n",
       "      <td>8.0</td>\n",
       "    </tr>\n",
       "  </tbody>\n",
       "</table>\n",
       "</div>"
      ],
      "text/plain": [
       "          user_id eval_set  order_number  order_dow  order_hour_of_day  \\\n",
       "order_id                                                                 \n",
       "2539329         1    prior             1          2                  8   \n",
       "2398795         1    prior             2          3                  7   \n",
       "473747          1    prior             3          3                 12   \n",
       "2254736         1    prior             4          4                  7   \n",
       "431534          1    prior             5          4                 15   \n",
       "3367565         1    prior             6          2                  7   \n",
       "550135          1    prior             7          1                  9   \n",
       "3108588         1    prior             8          1                 14   \n",
       "2295261         1    prior             9          1                 16   \n",
       "2550362         1    prior            10          4                  8   \n",
       "1187899         1    train            11          4                  8   \n",
       "2168274         2    prior             1          2                 11   \n",
       "1501582         2    prior             2          5                 10   \n",
       "1901567         2    prior             3          1                 10   \n",
       "738281          2    prior             4          2                 10   \n",
       "1673511         2    prior             5          3                 11   \n",
       "1199898         2    prior             6          2                  9   \n",
       "3194192         2    prior             7          2                 12   \n",
       "788338          2    prior             8          1                 15   \n",
       "1718559         2    prior             9          2                  9   \n",
       "\n",
       "          days_since_prior_order  \n",
       "order_id                          \n",
       "2539329                      NaN  \n",
       "2398795                     15.0  \n",
       "473747                      21.0  \n",
       "2254736                     29.0  \n",
       "431534                      28.0  \n",
       "3367565                     19.0  \n",
       "550135                      20.0  \n",
       "3108588                     14.0  \n",
       "2295261                      0.0  \n",
       "2550362                     30.0  \n",
       "1187899                     14.0  \n",
       "2168274                      NaN  \n",
       "1501582                     10.0  \n",
       "1901567                      3.0  \n",
       "738281                       8.0  \n",
       "1673511                      8.0  \n",
       "1199898                     13.0  \n",
       "3194192                     14.0  \n",
       "788338                      27.0  \n",
       "1718559                      8.0  "
      ]
     },
     "execution_count": 106,
     "metadata": {},
     "output_type": "execute_result"
    }
   ],
   "source": [
    "orders.head(20)"
   ]
  },
  {
   "cell_type": "code",
   "execution_count": 4,
   "metadata": {
    "collapsed": true
   },
   "outputs": [],
   "source": [
    "# These files specify which products were purchased in each order.\n",
    "# order_products__prior.csv contains previous order contents for all customers.\n",
    "# 'reordered' indicates that the customer has a previous order that contains the product. \n",
    "# Note that some orders will have no reordered items.\n",
    "# You may predict an explicit 'None' value for orders with no reordered items.\n",
    "# See the evaluation page for full details.\n",
    "\n",
    "# COLUMNS\n",
    "# order_id,product_id,add_to_cart_order,reordered \n",
    "train = pd.read_csv('./data/order_products__train.csv')\n",
    "prior = pd.read_csv('./data/order_products__prior.csv')"
   ]
  },
  {
   "cell_type": "markdown",
   "metadata": {},
   "source": [
    "Additional information\n",
    "\n",
    "Пока не ясно, как эта информация может быть использована."
   ]
  },
  {
   "cell_type": "code",
   "execution_count": 5,
   "metadata": {
    "collapsed": true
   },
   "outputs": [],
   "source": [
    "products    = pd.read_csv('./data/products.csv',index_col='product_id')\n",
    "aisles      = pd.read_csv('./data/aisles.csv',index_col = 'aisle_id')\n",
    "departments = pd.read_csv('./data/departments.csv', index_col = 'department_id')"
   ]
  },
  {
   "cell_type": "markdown",
   "metadata": {},
   "source": [
    "В целом, что можно делать?\n",
    "\n",
    "Ответ на какой вопрос:\n",
    "\n",
    "Сгруппировать покупки по пользователю и по заказу\n",
    "\n",
    "В тестовых заказах известна часть продуктов. Надо указать, какие ещё продукты будут дозаказаны.\n",
    "Можно для каждого пользователя и продукта обучить классификатор, который будет отвечать на вопрос - купить ли пользователь это? \n",
    "Итого: на выходе требуется указать id продуктов, которые будут куплены.\n",
    "Итого, это может быть классификатор. Либо глубокая нейронная сеть.\n",
    "\n",
    "Для чего нужны проходы? Наверное, покупка одного продукта из прохода увеличивает вероятность покупки продукта из того же прохода.\n",
    "\n",
    "Baseline решение:\n",
    "найти наиболее частые группы товаров и проверить точность решения. Для этого можно использовать биграммы.\n",
    "Для начала попробуем сгруппировать продукты по пользователям и товарам."
   ]
  },
  {
   "cell_type": "markdown",
   "metadata": {},
   "source": [
    "Попробовать объединить train и preorder в один сет. Добавить поля название продукта, пользователь, order_id, eval_set, order_number etc из таблицы orders. Сгруппировать по пользователям (первые уровень) и заказам (второй уровень)."
   ]
  },
  {
   "cell_type": "code",
   "execution_count": 6,
   "metadata": {
    "collapsed": false
   },
   "outputs": [],
   "source": [
    "def addFeatures(df):\n",
    "    priorSet = df.merge(products, left_on='product_id', right_index=True, how = 'left', copy = False)\n",
    "    priorSet = priorSet.merge(aisles, left_on = 'aisle_id',right_index = True, how = 'left', copy = False)\n",
    "    priorSet = priorSet.merge(departments, left_on = 'department_id', right_index = True, how = 'left', copy = False)\n",
    "    priorSet = priorSet.merge(orders, left_on = 'order_id', right_index = True, how = 'left', copy = False)\n",
    "    return priorSet"
   ]
  },
  {
   "cell_type": "markdown",
   "metadata": {
    "collapsed": true
   },
   "source": [
    "Как реализовать скрипт?\n",
    "\n",
    "<b> Baseline решение - самые популярные продукты из его корзины </b>\n",
    "\n",
    "Для каждого пользователя считаем:\n",
    "\n",
    "1) <u>средний размер корзины</u>\n",
    "Для этого группируем таблицу prior по 1) пользователям; 2) заказам. \n",
    "Исключаем train заказы\n",
    "Вычисляем средний размер (GroupBy object, .size().mean() )\n",
    "@TODO - проверить точность модели для разных способов округления среднего размера корзины;\n",
    "\n",
    "2) <u>самые популярные продукты</u>\n",
    "Группируем таблицу prior по 1) пользователям; 2) продуктам. Считаем статистику по продуктам, сортируем."
   ]
  },
  {
   "cell_type": "code",
   "execution_count": 97,
   "metadata": {
    "collapsed": true
   },
   "outputs": [],
   "source": [
    "def basketSize(userGroup):\n",
    "    g = userGroup.groupby(['order_id'])\n",
    "    return g['order_id'].size().mean()"
   ]
  },
  {
   "cell_type": "code",
   "execution_count": 57,
   "metadata": {
    "collapsed": true
   },
   "outputs": [],
   "source": [
    "def save2File(fName,df):\n",
    "    f = open(fName,'w')\n",
    "    f.write('order_id,products\\n')\n",
    "    np.set_printoptions(linewidth = 500)\n",
    "    for key, val in df.iteritems():\n",
    "        k = np.array2string(val[1])[1:-1]+'\\n'\n",
    "        s = str(val[0])+','+k\n",
    "        f.write(s)\n",
    "    f.close()\n",
    "    np.set_printoptions(linewidth = 75)"
   ]
  },
  {
   "cell_type": "code",
   "execution_count": null,
   "metadata": {
    "collapsed": false
   },
   "outputs": [],
   "source": [
    "testUserId = orders.query(\"eval_set == 'test'\").user_id.values\n",
    "testPriorOrderId = orders.query(\"(eval_set =='prior') and user_id in @testUsers\").index.values\n",
    "testPriorSet = prior.query('order_id in @testPriorOrderId')"
   ]
  },
  {
   "cell_type": "markdown",
   "metadata": {},
   "source": [
    "Сохранять результаты в dateframe вида\n",
    "\n",
    "1) user_id\n",
    "\n",
    "2) order_id\n",
    "\n",
    "3) prediction\n",
    "\n",
    "4) test"
   ]
  },
  {
   "cell_type": "code",
   "execution_count": 244,
   "metadata": {
    "collapsed": true
   },
   "outputs": [],
   "source": [
    "trainDf = pd.DataFrame(columns = ['user_id','order_id','prediction','real'])"
   ]
  },
  {
   "cell_type": "code",
   "execution_count": 270,
   "metadata": {
    "collapsed": false
   },
   "outputs": [
    {
     "data": {
      "image/png": "[encoded data removed]",
      "text/plain": [
       "<matplotlib.figure.Figure at 0xa562c518>"
      ]
     },
     "metadata": {},
     "output_type": "display_data"
    }
   ],
   "source": [
    "targetGroup = 'train'\n",
    "\n",
    "userId = orders.query(\"eval_set == @targetGroup\").user_id.values\n",
    "priorOrderId = orders.query(\"(eval_set =='prior') and user_id in @userId\").index.values\n",
    "priorSet = prior.query('order_id in @priorOrderId')\n",
    "#trainPriorSet = addFeatures(trainPriorSet)\n",
    "priorSet = priorSet.merge(orders.loc[:,['user_id','order_number']],left_on='order_id',right_index=True,copy= False)\n",
    "\n",
    "# calculate basket size\n",
    "bs = priorSet.groupby('user_id').aggregate(basketSize)['order_id']\n",
    "bs.rename('basket_size',inplace=True);\n",
    "\n",
    "# plot basket size\n",
    "bs.hist(bins = 70);\n",
    "plt.xlabel('Mean basket size')\n",
    "plt.ylabel('Users')\n",
    "\n",
    "# calculate most popular goods\n",
    "prod = priorSet.groupby(['user_id','product_id']).order_id.size().to_frame(name = 'count')\n",
    "prod = prod.reset_index(level=1)\n",
    "prod = prod.reset_index(level=0)\n",
    "\n",
    "# reindex orders dataframe\n",
    "orders2 = orders.query(\"(user_id in @userId) and (eval_set == @targetGroup)\").reset_index().set_index('user_id')"
   ]
  },
  {
   "cell_type": "code",
   "execution_count": 272,
   "metadata": {
    "collapsed": false
   },
   "outputs": [],
   "source": [
    "# create final set\n",
    "res = dict()\n",
    "for user_id, basket in prod.groupby('user_id'):\n",
    "    #print user_id\n",
    "    order_id = orders2.loc[user_id].order_id\n",
    "    trainDf = trainDf.append({'user_id':  user_id,\n",
    "                    'order_id': order_id,\n",
    "                    'prediction': basket.sort_values('count',ascending=False).head(int(np.floor(bs.get(user_id)))).product_id.values,\n",
    "                    'real': train.query('order_id == @order_id').product_id.values},\n",
    "                   ignore_index = True)\n",
    "\n",
    "trainDf.to_pickle('train_solution.pcl')    \n",
    "#save2File('solution3.csv',res)"
   ]
  },
  {
   "cell_type": "code",
   "execution_count": 162,
   "metadata": {
    "collapsed": false
   },
   "outputs": [],
   "source": [
    "res = np.empty([0,5])\n",
    "for user_id, val in resTrain.iteritems():\n",
    "    order_id = val[0]\n",
    "    y_pr = val[1]\n",
    "    y_true = train.query('order_id == @order_id').product_id.values\n",
    "    [precession, recall, f1] = f1Score(y_true,y_pr)\n",
    "    res = np.vstack([res,[user_id, order_id, precession, recall, f1]])"
   ]
  },
  {
   "cell_type": "code",
   "execution_count": 180,
   "metadata": {
    "collapsed": false,
    "scrolled": false
   },
   "outputs": [
    {
     "data": {
      "text/plain": [
       "<matplotlib.text.Text at 0xa4bf3828>"
      ]
     },
     "execution_count": 180,
     "metadata": {},
     "output_type": "execute_result"
    },
    {
     "data": {
      "image/png": "[encoded data removed]",
      "text/plain": [
       "<matplotlib.figure.Figure at 0xa629ce48>"
      ]
     },
     "metadata": {},
     "output_type": "display_data"
    }
   ],
   "source": [
    "plt.figure(figsize=[20,5])\n",
    "\n",
    "plt.subplot(131)\n",
    "plt.hist(res[:,2],bins = 20);\n",
    "plt.title('precession')\n",
    "\n",
    "plt.subplot(132)\n",
    "plt.hist(res[:,3],bins = 20);\n",
    "plt.title('recall')\n",
    "\n",
    "plt.subplot(133)\n",
    "plt.hist(res[:,4],bins = 20);\n",
    "plt.title('f1')"
   ]
  },
  {
   "cell_type": "code",
   "execution_count": 276,
   "metadata": {
    "collapsed": false
   },
   "outputs": [
    {
     "data": {
      "text/html": [
       "<div>\n",
       "<table border=\"1\" class=\"dataframe\">\n",
       "  <thead>\n",
       "    <tr style=\"text-align: right;\">\n",
       "      <th></th>\n",
       "      <th>user_id</th>\n",
       "      <th>order_id</th>\n",
       "      <th>prediction</th>\n",
       "      <th>real</th>\n",
       "    </tr>\n",
       "  </thead>\n",
       "  <tbody>\n",
       "    <tr>\n",
       "      <th>0</th>\n",
       "      <td>1.0</td>\n",
       "      <td>1187899.0</td>\n",
       "      <td>[196, 12427, 10258, 25133, 46149]</td>\n",
       "      <td>[196, 25133, 38928, 26405, 39657, 10258, 13032...</td>\n",
       "    </tr>\n",
       "    <tr>\n",
       "      <th>1</th>\n",
       "      <td>2.0</td>\n",
       "      <td>1492625.0</td>\n",
       "      <td>[32792, 47209, 24852, 18523, 1559, 19156, 1200...</td>\n",
       "      <td>[22963, 7963, 16589, 32792, 41787, 22825, 1364...</td>\n",
       "    </tr>\n",
       "    <tr>\n",
       "      <th>2</th>\n",
       "      <td>5.0</td>\n",
       "      <td>2196797.0</td>\n",
       "      <td>[11777, 26604, 43693, 24535, 21413, 8518, 4070...</td>\n",
       "      <td>[15349, 19057, 16185, 21413, 20843, 20114, 482...</td>\n",
       "    </tr>\n",
       "    <tr>\n",
       "      <th>3</th>\n",
       "      <td>7.0</td>\n",
       "      <td>525192.0</td>\n",
       "      <td>[40852, 37602, 17638, 21137, 31683, 13198, 492...</td>\n",
       "      <td>[12053, 47272, 37999, 13198, 43967, 40852, 176...</td>\n",
       "    </tr>\n",
       "    <tr>\n",
       "      <th>4</th>\n",
       "      <td>8.0</td>\n",
       "      <td>880375.0</td>\n",
       "      <td>[2078, 23165, 17794, 21903, 34358, 28985, 3203...</td>\n",
       "      <td>[15937, 5539, 10960, 23165, 22247, 4853, 27104...</td>\n",
       "    </tr>\n",
       "  </tbody>\n",
       "</table>\n",
       "</div>"
      ],
      "text/plain": [
       "   user_id   order_id                                         prediction  \\\n",
       "0      1.0  1187899.0                  [196, 12427, 10258, 25133, 46149]   \n",
       "1      2.0  1492625.0  [32792, 47209, 24852, 18523, 1559, 19156, 1200...   \n",
       "2      5.0  2196797.0  [11777, 26604, 43693, 24535, 21413, 8518, 4070...   \n",
       "3      7.0   525192.0  [40852, 37602, 17638, 21137, 31683, 13198, 492...   \n",
       "4      8.0   880375.0  [2078, 23165, 17794, 21903, 34358, 28985, 3203...   \n",
       "\n",
       "                                                real  \n",
       "0  [196, 25133, 38928, 26405, 39657, 10258, 13032...  \n",
       "1  [22963, 7963, 16589, 32792, 41787, 22825, 1364...  \n",
       "2  [15349, 19057, 16185, 21413, 20843, 20114, 482...  \n",
       "3  [12053, 47272, 37999, 13198, 43967, 40852, 176...  \n",
       "4  [15937, 5539, 10960, 23165, 22247, 4853, 27104...  "
      ]
     },
     "execution_count": 276,
     "metadata": {},
     "output_type": "execute_result"
    }
   ],
   "source": [
    "trainDf.head()"
   ]
  },
  {
   "cell_type": "code",
   "execution_count": 275,
   "metadata": {
    "collapsed": false,
    "scrolled": true
   },
   "outputs": [
    {
     "ename": "ValueError",
     "evalue": "all the input arrays must have same number of dimensions",
     "output_type": "error",
     "traceback": [
      "\u001b[0;31m---------------------------------------------------------------------------\u001b[0m",
      "\u001b[0;31mValueError\u001b[0m                                Traceback (most recent call last)",
      "\u001b[0;32m<ipython-input-275-f855955e95db>\u001b[0m in \u001b[0;36m<module>\u001b[0;34m()\u001b[0m\n\u001b[0;32m----> 1\u001b[0;31m \u001b[0mtrainDf\u001b[0m \u001b[1;33m=\u001b[0m \u001b[0mtrainDf\u001b[0m\u001b[1;33m.\u001b[0m\u001b[0massign\u001b[0m\u001b[1;33m(\u001b[0m\u001b[0mf1\u001b[0m \u001b[1;33m=\u001b[0m \u001b[0mf1Score\u001b[0m\u001b[1;33m(\u001b[0m\u001b[0mtrainDf\u001b[0m\u001b[1;33m.\u001b[0m\u001b[0mreal\u001b[0m\u001b[1;33m,\u001b[0m\u001b[0mtrainDf\u001b[0m\u001b[1;33m.\u001b[0m\u001b[0mprediction\u001b[0m\u001b[1;33m)\u001b[0m\u001b[1;33m)\u001b[0m\u001b[1;33m\u001b[0m\u001b[0m\n\u001b[0m",
      "\u001b[0;32m<ipython-input-141-024e8d147d09>\u001b[0m in \u001b[0;36mf1Score\u001b[0;34m(y_true, y_pred)\u001b[0m\n\u001b[1;32m      1\u001b[0m \u001b[1;32mdef\u001b[0m \u001b[0mf1Score\u001b[0m\u001b[1;33m(\u001b[0m\u001b[0my_true\u001b[0m\u001b[1;33m,\u001b[0m \u001b[0my_pred\u001b[0m\u001b[1;33m)\u001b[0m\u001b[1;33m:\u001b[0m\u001b[1;33m\u001b[0m\u001b[0m\n\u001b[0;32m----> 2\u001b[0;31m     \u001b[0mfullSet\u001b[0m      \u001b[1;33m=\u001b[0m \u001b[0mnp\u001b[0m\u001b[1;33m.\u001b[0m\u001b[0munique\u001b[0m\u001b[1;33m(\u001b[0m\u001b[0mnp\u001b[0m\u001b[1;33m.\u001b[0m\u001b[0mhstack\u001b[0m\u001b[1;33m(\u001b[0m\u001b[1;33m(\u001b[0m\u001b[0my_pred\u001b[0m\u001b[1;33m,\u001b[0m\u001b[0my_true\u001b[0m\u001b[1;33m)\u001b[0m\u001b[1;33m)\u001b[0m\u001b[1;33m)\u001b[0m\u001b[1;33m\u001b[0m\u001b[0m\n\u001b[0m\u001b[1;32m      3\u001b[0m     \u001b[0mintersection\u001b[0m \u001b[1;33m=\u001b[0m \u001b[0mnp\u001b[0m\u001b[1;33m.\u001b[0m\u001b[0mintersect1d\u001b[0m\u001b[1;33m(\u001b[0m\u001b[0my_true\u001b[0m\u001b[1;33m,\u001b[0m\u001b[0my_pred\u001b[0m\u001b[1;33m)\u001b[0m\u001b[1;33m.\u001b[0m\u001b[0msize\u001b[0m\u001b[1;33m\u001b[0m\u001b[0m\n\u001b[1;32m      4\u001b[0m     \u001b[0mprecession\u001b[0m   \u001b[1;33m=\u001b[0m \u001b[0mintersection\u001b[0m\u001b[1;33m/\u001b[0m\u001b[0mfloat\u001b[0m\u001b[1;33m(\u001b[0m\u001b[0my_pred\u001b[0m\u001b[1;33m.\u001b[0m\u001b[0mshape\u001b[0m\u001b[1;33m[\u001b[0m\u001b[1;36m0\u001b[0m\u001b[1;33m]\u001b[0m\u001b[1;33m)\u001b[0m\u001b[1;33m\u001b[0m\u001b[0m\n\u001b[1;32m      5\u001b[0m     \u001b[0mrecall\u001b[0m       \u001b[1;33m=\u001b[0m \u001b[0mintersection\u001b[0m\u001b[1;33m/\u001b[0m\u001b[0mfloat\u001b[0m\u001b[1;33m(\u001b[0m\u001b[0my_true\u001b[0m\u001b[1;33m.\u001b[0m\u001b[0mshape\u001b[0m\u001b[1;33m[\u001b[0m\u001b[1;36m0\u001b[0m\u001b[1;33m]\u001b[0m\u001b[1;33m)\u001b[0m\u001b[1;33m\u001b[0m\u001b[0m\n",
      "\u001b[0;32mD:\\Anaconda2\\lib\\site-packages\\numpy\\lib\\arraysetops.pyc\u001b[0m in \u001b[0;36munique\u001b[0;34m(ar, return_index, return_inverse, return_counts)\u001b[0m\n\u001b[1;32m    198\u001b[0m         \u001b[0mar\u001b[0m\u001b[1;33m.\u001b[0m\u001b[0msort\u001b[0m\u001b[1;33m(\u001b[0m\u001b[1;33m)\u001b[0m\u001b[1;33m\u001b[0m\u001b[0m\n\u001b[1;32m    199\u001b[0m         \u001b[0maux\u001b[0m \u001b[1;33m=\u001b[0m \u001b[0mar\u001b[0m\u001b[1;33m\u001b[0m\u001b[0m\n\u001b[0;32m--> 200\u001b[0;31m     \u001b[0mflag\u001b[0m \u001b[1;33m=\u001b[0m \u001b[0mnp\u001b[0m\u001b[1;33m.\u001b[0m\u001b[0mconcatenate\u001b[0m\u001b[1;33m(\u001b[0m\u001b[1;33m(\u001b[0m\u001b[1;33m[\u001b[0m\u001b[0mTrue\u001b[0m\u001b[1;33m]\u001b[0m\u001b[1;33m,\u001b[0m \u001b[0maux\u001b[0m\u001b[1;33m[\u001b[0m\u001b[1;36m1\u001b[0m\u001b[1;33m:\u001b[0m\u001b[1;33m]\u001b[0m \u001b[1;33m!=\u001b[0m \u001b[0maux\u001b[0m\u001b[1;33m[\u001b[0m\u001b[1;33m:\u001b[0m\u001b[1;33m-\u001b[0m\u001b[1;36m1\u001b[0m\u001b[1;33m]\u001b[0m\u001b[1;33m)\u001b[0m\u001b[1;33m)\u001b[0m\u001b[1;33m\u001b[0m\u001b[0m\n\u001b[0m\u001b[1;32m    201\u001b[0m \u001b[1;33m\u001b[0m\u001b[0m\n\u001b[1;32m    202\u001b[0m     \u001b[1;32mif\u001b[0m \u001b[1;32mnot\u001b[0m \u001b[0moptional_returns\u001b[0m\u001b[1;33m:\u001b[0m\u001b[1;33m\u001b[0m\u001b[0m\n",
      "\u001b[0;31mValueError\u001b[0m: all the input arrays must have same number of dimensions"
     ]
    }
   ],
   "source": [
    "trainDf = trainDf.assign(f1 = f1Score(trainDf.real,trainDf.prediction))"
   ]
  },
  {
   "cell_type": "code",
   "execution_count": 324,
   "metadata": {
    "collapsed": false
   },
   "outputs": [],
   "source": [
    "def f1Score(y_true, y_pred):\n",
    "    fullSet      = np.unique(np.hstack((y_pred,y_true)))\n",
    "    intersection = np.intersect1d(y_true,y_pred).size\n",
    "    precession   = intersection/float(y_pred.shape[0])\n",
    "    recall       = intersection/float(y_true.shape[0])\n",
    "    try:\n",
    "        f1 = 2*precession*recall/(precession+recall)\n",
    "    except ZeroDivisionError:\n",
    "        f1 = 0\n",
    "    #return [precession, recall, f1]\n",
    "    return f1\n",
    "\n",
    "def mf(row):\n",
    "    return f1Score(row['real'], row['prediction'])"
   ]
  },
  {
   "cell_type": "code",
   "execution_count": 327,
   "metadata": {
    "collapsed": false
   },
   "outputs": [],
   "source": [
    "trainDf = trainDf.assign(f1 = trainDf.apply(mf, axis = 1))"
   ]
  },
  {
   "cell_type": "code",
   "execution_count": 330,
   "metadata": {
    "collapsed": false
   },
   "outputs": [
    {
     "data": {
      "text/plain": [
       "0.2715735739162299"
      ]
     },
     "execution_count": 330,
     "metadata": {},
     "output_type": "execute_result"
    }
   ],
   "source": [
    "trainDf.f1.mean()"
   ]
  }
 ],
 "metadata": {
  "kernelspec": {
   "display_name": "Python 2",
   "language": "python",
   "name": "python2"
  },
  "language_info": {
   "codemirror_mode": {
    "name": "ipython",
    "version": 2
   },
   "file_extension": ".py",
   "mimetype": "text/x-python",
   "name": "python",
   "nbconvert_exporter": "python",
   "pygments_lexer": "ipython2",
   "version": "2.7.13"
  }
 },
 "nbformat": 4,
 "nbformat_minor": 2
}
