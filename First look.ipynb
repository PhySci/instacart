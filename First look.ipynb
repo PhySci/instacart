{
 "cells": [
  {
   "cell_type": "code",
   "execution_count": null,
   "metadata": {
    "collapsed": false
   },
   "outputs": [],
   "source": [
    "import pandas as pd\n",
    "import numpy as np\n",
    "import matplotlib.pyplot as plt\n",
    "\n",
    "%matplotlib inline"
   ]
  },
  {
   "cell_type": "markdown",
   "metadata": {},
   "source": [
    "## Read datasets"
   ]
  },
  {
   "cell_type": "code",
   "execution_count": 1,
   "metadata": {
    "collapsed": false,
    "scrolled": true
   },
   "outputs": [
    {
     "ename": "NameError",
     "evalue": "name 'pd' is not defined",
     "output_type": "error",
     "traceback": [
      "\u001b[0;31m---------------------------------------------------------------------------\u001b[0m",
      "\u001b[0;31mNameError\u001b[0m                                 Traceback (most recent call last)",
      "\u001b[0;32m<ipython-input-1-dec6b6f924e4>\u001b[0m in \u001b[0;36m<module>\u001b[0;34m()\u001b[0m\n\u001b[1;32m      4\u001b[0m \u001b[1;31m# COLUMNS:\u001b[0m\u001b[1;33m\u001b[0m\u001b[1;33m\u001b[0m\u001b[0m\n\u001b[1;32m      5\u001b[0m \u001b[1;31m# order_id,user_id,eval_set,order_number,order_dow,order_hour_of_day,days_since_prior_order\u001b[0m\u001b[1;33m\u001b[0m\u001b[1;33m\u001b[0m\u001b[0m\n\u001b[0;32m----> 6\u001b[0;31m \u001b[0morders\u001b[0m \u001b[1;33m=\u001b[0m \u001b[0mpd\u001b[0m\u001b[1;33m.\u001b[0m\u001b[0mread_csv\u001b[0m\u001b[1;33m(\u001b[0m\u001b[1;34m'./data/orders.csv'\u001b[0m\u001b[1;33m,\u001b[0m\u001b[0mindex_col\u001b[0m \u001b[1;33m=\u001b[0m \u001b[1;34m'order_id'\u001b[0m\u001b[1;33m)\u001b[0m\u001b[1;33m\u001b[0m\u001b[0m\n\u001b[0m",
      "\u001b[0;31mNameError\u001b[0m: name 'pd' is not defined"
     ]
    }
   ],
   "source": [
    "# This file tells to which set (prior, train, test) an order belongs.\n",
    "# You are predicting reordered items only for the test set orders. 'order_dow' is the day of week.\n",
    "\n",
    "# COLUMNS:\n",
    "# order_id,user_id,eval_set,order_number,order_dow,order_hour_of_day,days_since_prior_order\n",
    "orders = pd.read_csv('./data/orders.csv',index_col = 'order_id')"
   ]
  },
  {
   "cell_type": "code",
   "execution_count": null,
   "metadata": {
    "collapsed": false
   },
   "outputs": [],
   "source": [
    "orders.head()"
   ]
  },
  {
   "cell_type": "code",
   "execution_count": null,
   "metadata": {
    "collapsed": true
   },
   "outputs": [],
   "source": [
    "# These files specify which products were purchased in each order.\n",
    "# order_products__prior.csv contains previous order contents for all customers.\n",
    "# 'reordered' indicates that the customer has a previous order that contains the product. \n",
    "# Note that some orders will have no reordered items.\n",
    "# You may predict an explicit 'None' value for orders with no reordered items.\n",
    "# See the evaluation page for full details.\n",
    "\n",
    "# COLUMNS\n",
    "# order_id,product_id,add_to_cart_order,reordered \n",
    "train = pd.read_csv('./data/order_products__train.csv')\n",
    "prior = pd.read_csv('./data/order_products__prior.csv')"
   ]
  },
  {
   "cell_type": "markdown",
   "metadata": {},
   "source": [
    "Additional information\n",
    "\n",
    "Пока не ясно, как эта информация может быть использована."
   ]
  },
  {
   "cell_type": "code",
   "execution_count": null,
   "metadata": {
    "collapsed": true
   },
   "outputs": [],
   "source": [
    "products    = pd.read_csv('./data/products.csv',index_col='product_id')\n",
    "aisles      = pd.read_csv('./data/aisles.csv',index_col = 'aisle_id')\n",
    "departments = pd.read_csv('./data/departments.csv', index_col = 'department_id')"
   ]
  },
  {
   "cell_type": "markdown",
   "metadata": {},
   "source": [
    "В целом, что можно делать?\n",
    "\n",
    "Ответ на какой вопрос:\n",
    "\n",
    "Сгруппировать покупки по пользователю и по заказу\n",
    "\n",
    "В тестовых заказах известна часть продуктов. Надо указать, какие ещё продукты будут дозаказаны.\n",
    "Можно для каждого пользователя и продукта обучить классификатор, который будет отвечать на вопрос - купить ли пользователь это? \n",
    "Итого: на выходе требуется указать id продуктов, которые будут куплены.\n",
    "Итого, это может быть классификатор. Либо глубокая нейронная сеть.\n",
    "\n",
    "Для чего нужны проходы? Наверное, покупка одного продукта из прохода увеличивает вероятность покупки продукта из того же прохода.\n",
    "\n",
    "Baseline решение:\n",
    "найти наиболее частые группы товаров и проверить точность решения. Для этого можно использовать биграммы.\n",
    "Для начала попробуем сгруппировать продукты по пользователям и товарам."
   ]
  },
  {
   "cell_type": "markdown",
   "metadata": {},
   "source": [
    "Попробовать объединить train и preorder в один сет. Добавить поля название продукта, пользователь, order_id, eval_set, order_number etc из таблицы orders. Сгруппировать по пользователям (первые уровень) и заказам (второй уровень)."
   ]
  },
  {
   "cell_type": "code",
   "execution_count": null,
   "metadata": {
    "collapsed": false
   },
   "outputs": [],
   "source": [
    "def addFeatures(df):\n",
    "    priorSet = df.merge(products, left_on='product_id', right_index=True, how = 'left', copy = False)\n",
    "    priorSet = priorSet.merge(aisles, left_on = 'aisle_id',right_index = True, how = 'left', copy = False)\n",
    "    priorSet = priorSet.merge(departments, left_on = 'department_id', right_index = True, how = 'left', copy = False)\n",
    "    priorSet = priorSet.merge(orders, left_on = 'order_id', right_index = True, how = 'left', copy = False)\n",
    "    return priorSet"
   ]
  },
  {
   "cell_type": "markdown",
   "metadata": {
    "collapsed": true
   },
   "source": [
    "Как реализовать скрипт?\n",
    "\n",
    "<b> Baseline решение - самые популярные продукты из его корзины </b>\n",
    "\n",
    "Для каждого пользователя считаем:\n",
    "\n",
    "1) <u>средний размер корзины</u>\n",
    "Для этого группируем таблицу prior по 1) пользователям; 2) заказам. \n",
    "Исключаем train заказы\n",
    "Вычисляем средний размер (GroupBy object, .size().mean() )\n",
    "@TODO - проверить точность модели для разных способов округления среднего размера корзины;\n",
    "\n",
    "2) <u>самые популярные продукты</u>\n",
    "Группируем таблицу prior по 1) пользователям; 2) продуктам. Считаем статистику по продуктам, сортируем."
   ]
  },
  {
   "cell_type": "code",
   "execution_count": null,
   "metadata": {
    "collapsed": true
   },
   "outputs": [],
   "source": [
    "def basketSize(userGroup):\n",
    "    g = userGroup.groupby(['order_id'])\n",
    "    return g['order_id'].size().mean()"
   ]
  },
  {
   "cell_type": "code",
   "execution_count": null,
   "metadata": {
    "collapsed": true
   },
   "outputs": [],
   "source": [
    "def save2File(fName,df):\n",
    "    f = open(fName,'w')\n",
    "    f.write('order_id,products\\n')\n",
    "    np.set_printoptions(linewidth = 500)\n",
    "    for key, val in df.iteritems():\n",
    "        k = np.array2string(val[1])[1:-1]+'\\n'\n",
    "        s = str(val[0])+','+k\n",
    "        f.write(s)\n",
    "    f.close()\n",
    "    np.set_printoptions(linewidth = 75)"
   ]
  },
  {
   "cell_type": "code",
   "execution_count": null,
   "metadata": {
    "collapsed": false
   },
   "outputs": [],
   "source": [
    "testUserId = orders.query(\"eval_set == 'test'\").user_id.values\n",
    "testPriorOrderId = orders.query(\"(eval_set =='prior') and user_id in @testUsers\").index.values\n",
    "testPriorSet = prior.query('order_id in @testPriorOrderId')"
   ]
  },
  {
   "cell_type": "code",
   "execution_count": null,
   "metadata": {
    "collapsed": false,
    "scrolled": true
   },
   "outputs": [],
   "source": [
    "targetGroup = 'train'\n",
    "\n",
    "userId = orders.query(\"eval_set == @targetGroup\").user_id.values\n",
    "priorOrderId = orders.query(\"(eval_set =='prior') and user_id in @userId\").index.values\n",
    "priorSet = prior.query('order_id in @priorOrderId')\n",
    "#trainPriorSet = addFeatures(trainPriorSet)\n",
    "priorSet = priorSet.merge(orders.loc[:,['user_id','order_number']],left_on='order_id',right_index=True,copy= False)\n",
    "\n",
    "# calculate basket size\n",
    "bs = priorSet.groupby('user_id').aggregate(basketSize)['order_id']\n",
    "bs.rename('basket_size',inplace=True);\n",
    "\n",
    "# plot basket size\n",
    "bs.hist(bins = 70);\n",
    "plt.xlabel('Mean basket size')\n",
    "plt.ylabel('Users')\n",
    "\n",
    "# calculate most popular goods\n",
    "prod = priorSet.groupby(['user_id','product_id']).order_id.size().to_frame(name = 'count')\n",
    "prod = prod.reset_index(level=1)\n",
    "prod = prod.reset_index(level=0)\n",
    "\n",
    "# reindex orders dataframe\n",
    "c = orders.query(\"(user_id in @userId) and (eval_set == @targetGroup)\").reset_index().set_index('user_id')\n",
    "# create final set\n",
    "res = dict()\n",
    "for user_id, basket in prod.groupby('user_id'):\n",
    "    res.update({user_id: (c.loc[user_id].order_id, \n",
    "                basket.sort_values('count',ascending=False).head(int(np.ceil(bs.get(user_id)))).product_id.values)})"
   ]
  },
  {
   "cell_type": "code",
   "execution_count": null,
   "metadata": {
    "collapsed": false
   },
   "outputs": [],
   "source": [
    "resTrain = res"
   ]
  },
  {
   "cell_type": "code",
   "execution_count": null,
   "metadata": {
    "collapsed": false
   },
   "outputs": [],
   "source": [
    "targetGroup = 'test'\n",
    "\n",
    "userId = orders.query(\"eval_set == @targetGroup\").user_id.values\n",
    "priorOrderId = orders.query(\"(eval_set =='prior') and user_id in @userId\").index.values\n",
    "priorSet = prior.query('order_id in @priorOrderId')\n",
    "#trainPriorSet = addFeatures(trainPriorSet)\n",
    "priorSet = priorSet.merge(orders.loc[:,['user_id','order_number']],left_on='order_id',right_index=True,copy= False)\n",
    "\n",
    "# calculate basket size\n",
    "bs = priorSet.groupby('user_id').aggregate(basketSize)['order_id']\n",
    "bs.rename('basket_size',inplace=True);\n",
    "\n",
    "# plot basket size\n",
    "bs.hist(bins = 70);\n",
    "plt.xlabel('Mean basket size')\n",
    "plt.ylabel('Users')\n",
    "\n",
    "# calculate most popular goods\n",
    "prod = priorSet.groupby(['user_id','product_id']).order_id.size().to_frame(name = 'count')\n",
    "prod = prod.reset_index(level=1)\n",
    "prod = prod.reset_index(level=0)\n",
    "\n",
    "# reindex orders dataframe\n",
    "c = orders.query(\"(user_id in @userId) and (eval_set == @targetGroup)\").reset_index().set_index('user_id')"
   ]
  },
  {
   "cell_type": "code",
   "execution_count": null,
   "metadata": {
    "collapsed": false
   },
   "outputs": [],
   "source": [
    "# create final set\n",
    "res = dict()\n",
    "for user_id, basket in prod.groupby('user_id'):\n",
    "    basket = basket.sort_values('count',ascending=False).assign(popularity = basket['count']/basket['count'].sum())\n",
    "    top = basket.head(int(np.round(bs.get(user_id))))\n",
    "    top = top[top.popularity > 0.01]\n",
    "    res.update({user_id: (c.loc[user_id].order_id, top.product_id.values)})\n",
    "    \n",
    "save2File('solution5.csv',res)"
   ]
  },
  {
   "cell_type": "code",
   "execution_count": null,
   "metadata": {
    "collapsed": true
   },
   "outputs": [],
   "source": [
    "def f1Score(y_true, y_pred):\n",
    "    fullSet      = np.unique(np.hstack((y_pred,y_true)))\n",
    "    intersection = np.intersect1d(y_true,y_pred).size\n",
    "    precession   = intersection/float(y_pred.shape[0])\n",
    "    recall       = intersection/float(y_true.shape[0])\n",
    "    return [precession, recall]"
   ]
  },
  {
   "cell_type": "code",
   "execution_count": null,
   "metadata": {
    "collapsed": false
   },
   "outputs": [],
   "source": [
    "for order in resTrain:\n",
    "    "
   ]
  },
  {
   "cell_type": "code",
   "execution_count": null,
   "metadata": {
    "collapsed": true
   },
   "outputs": [],
   "source": []
  }
 ],
 "metadata": {
  "kernelspec": {
   "display_name": "Python 2",
   "language": "python",
   "name": "python2"
  },
  "language_info": {
   "codemirror_mode": {
    "name": "ipython",
    "version": 2
   },
   "file_extension": ".py",
   "mimetype": "text/x-python",
   "name": "python",
   "nbconvert_exporter": "python",
   "pygments_lexer": "ipython2",
   "version": "2.7.13"
  }
 },
 "nbformat": 4,
 "nbformat_minor": 2
}
